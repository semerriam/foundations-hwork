{
 "cells": [
  {
   "cell_type": "markdown",
   "metadata": {},
   "source": [
    "# WeatherAPI (Weather)\n",
    "\n",
    "Answer the following questions using [WeatherAPI](http://www.weatherapi.com/). I've added three cells for most questions but you're free to use more or less! Hold `Shift` and hit `Enter` to run a cell, and use the `+` on the top left to add a new cell to a notebook.\n",
    "\n",
    "Be sure to take advantage of both the documentation and the API Explorer!\n",
    "\n",
    "## 0) Import any libraries you might need\n",
    "\n",
    "- *Tip: We're going to be downloading things from the internet, so we probably need `requests`.*\n",
    "- *Tip: Remember you only need to import requests once!*"
   ]
  },
  {
   "cell_type": "code",
   "execution_count": 286,
   "metadata": {},
   "outputs": [],
   "source": [
    "import requests"
   ]
  },
  {
   "cell_type": "code",
   "execution_count": null,
   "metadata": {},
   "outputs": [],
   "source": []
  },
  {
   "cell_type": "markdown",
   "metadata": {
    "collapsed": true
   },
   "source": [
    "## 1) Make a request to the Weather API for where you were born (or lived, or want to visit!).\n",
    "\n",
    "- *Tip: The URL we used in class was for a place near San Francisco. What was the format of the endpoint that made this happen?*\n",
    "- *Tip: Save the URL as a separate variable, and be sure to not have `[` and `]` inside.*\n",
    "- *Tip: How is north vs. south and east vs. west latitude/longitude represented? Is it the normal North/South/East/West?*\n",
    "- *Tip: You know it's JSON, but Python doesn't! Make sure you aren't trying to deal with plain text.* \n",
    "- *Tip: Once you've imported the JSON into a variable, check the timezone's name to make sure it seems like it got the right part of the world!*"
   ]
  },
  {
   "cell_type": "code",
   "execution_count": 287,
   "metadata": {},
   "outputs": [],
   "source": [
    " url = \"http://api.weatherapi.com/v1/current.json?key=API&q=01921&aqi=yes\""
   ]
  },
  {
   "cell_type": "code",
   "execution_count": 288,
   "metadata": {},
   "outputs": [],
   "source": [
    "response = requests.get(url)\n",
    "data2 = (response.json())"
   ]
  },
  {
   "cell_type": "code",
   "execution_count": 289,
   "metadata": {},
   "outputs": [],
   "source": [
    "#print(data2)"
   ]
  },
  {
   "cell_type": "markdown",
   "metadata": {},
   "source": [
    "## 2) What's the current wind speed? How much warmer does it feel than it actually is?\n",
    "\n",
    "- *Tip: You can do this by browsing through the dictionaries, but it might be easier to read the documentation*\n",
    "- *Tip: For the second half: it **is** one temperature, and it **feels** a different temperature. Calculate the difference.*"
   ]
  },
  {
   "cell_type": "code",
   "execution_count": 290,
   "metadata": {},
   "outputs": [
    {
     "name": "stdout",
     "output_type": "stream",
     "text": [
      "The current wind speed is 6 mph\n"
     ]
    }
   ],
   "source": [
    "print(\"The current wind speed is\", round(abs(data2['current']['wind_mph'])), \"mph\")"
   ]
  },
  {
   "cell_type": "code",
   "execution_count": 291,
   "metadata": {},
   "outputs": [
    {
     "name": "stdout",
     "output_type": "stream",
     "text": [
      "It feels -2 degrees warmer than the current temperature at 51 degrees F\n"
     ]
    }
   ],
   "source": [
    "feels_like_temp = round(abs(data2['current']['feelslike_f']))\n",
    "actual_temp = round(abs(data2['current']['temp_f']))\n",
    "print(\"It feels\", feels_like_temp - actual_temp, \"degrees warmer than the current temperature at\", actual_temp, \"degrees F\")"
   ]
  },
  {
   "cell_type": "code",
   "execution_count": null,
   "metadata": {},
   "outputs": [],
   "source": []
  },
  {
   "cell_type": "markdown",
   "metadata": {},
   "source": [
    "## 3) What is the API endpoint for moon-related information? For the place you decided on above, how much of the moon will be visible tomorrow?\n",
    "\n",
    "- *Tip: Check the documentation!*\n",
    "- *Tip: If you aren't sure what something means, ask in Slack*"
   ]
  },
  {
   "cell_type": "code",
   "execution_count": 292,
   "metadata": {},
   "outputs": [],
   "source": [
    "url3 = \"http://api.weatherapi.com/v1/astronomy.json?key=API&q=01921&dt=2021-11-11\""
   ]
  },
  {
   "cell_type": "code",
   "execution_count": 293,
   "metadata": {},
   "outputs": [],
   "source": [
    "response3 = requests.get(url3)\n",
    "data3 = (response3.json())"
   ]
  },
  {
   "cell_type": "code",
   "execution_count": 294,
   "metadata": {},
   "outputs": [
    {
     "name": "stdout",
     "output_type": "stream",
     "text": [
      "44 percent of the moon will be illuminated on November 11th 2021\n"
     ]
    }
   ],
   "source": [
    "print(data3['astronomy']['astro']['moon_illumination'], \"percent of the moon will be illuminated on November 11th 2021\")"
   ]
  },
  {
   "cell_type": "markdown",
   "metadata": {},
   "source": [
    "## 4) What's the difference between the high and low temperatures for today?\n",
    "\n",
    "- *Tip: When you requested moon data, you probably overwrote your variables! If so, you'll need to make a new request.*"
   ]
  },
  {
   "cell_type": "code",
   "execution_count": 295,
   "metadata": {},
   "outputs": [],
   "source": [
    "url4 = \"http://api.weatherapi.com/v1/forecast.json?key=API&q=01921&days=1&aqi=no&alerts=no\"\n",
    "response4 = requests.get(url4)\n",
    "data4 = (response4.json())"
   ]
  },
  {
   "cell_type": "code",
   "execution_count": 296,
   "metadata": {},
   "outputs": [
    {
     "name": "stdout",
     "output_type": "stream",
     "text": [
      "the difference between the high of 64.9 °F and the low of 42.4 °F is 23 °F\n"
     ]
    }
   ],
   "source": [
    "forecast_today = data4['forecast']['forecastday']\n",
    "\n",
    "\n",
    "for day in forecast_today:\n",
    "    print(\"the difference between the high of\", forecast_today[0]['day']['maxtemp_f'], \"°F and the low of\", forecast_today[0]['day']['mintemp_f'], \"°F is\", round(abs(forecast_today[0]['day']['maxtemp_f'] - forecast_today[0]['day']['mintemp_f'])), \"°F\")\n"
   ]
  },
  {
   "cell_type": "markdown",
   "metadata": {
    "collapsed": true
   },
   "source": [
    "## 4.5) How can you avoid the \"oh no I don't have the data any more because I made another request\" problem in the future?\n",
    "\n",
    "What variable(s) do you have to rename, and what would you rename them?"
   ]
  },
  {
   "cell_type": "code",
   "execution_count": 334,
   "metadata": {},
   "outputs": [],
   "source": [
    "# I've been labeling them in order within the code to find it. Alternatively the variables could pertain to what is included. for example, instead of data4, it could be today_forecast_data"
   ]
  },
  {
   "cell_type": "code",
   "execution_count": null,
   "metadata": {},
   "outputs": [],
   "source": []
  },
  {
   "cell_type": "markdown",
   "metadata": {},
   "source": [
    "## 5) Go through the daily forecasts, printing out the next three days' worth of predictions.\n",
    "\n",
    "I'd like to know the **high temperature** for each day, and whether it's **hot, warm, or cold** (based on what temperatures you think are hot, warm or cold).\n",
    "\n",
    "- *Tip: You'll need to use an `if` statement to say whether it is hot, warm or cold.*"
   ]
  },
  {
   "cell_type": "code",
   "execution_count": 298,
   "metadata": {},
   "outputs": [],
   "source": [
    "url5 = \"http://api.weatherapi.com/v1/forecast.json?key=API&q=01921&days=3&aqi=yes&alerts=no\"\n",
    "response5 = requests.get(url5)\n",
    "data5 = (response5.json())"
   ]
  },
  {
   "cell_type": "code",
   "execution_count": 299,
   "metadata": {
    "scrolled": true
   },
   "outputs": [
    {
     "name": "stdout",
     "output_type": "stream",
     "text": [
      "the temp is warm with a temp of 64.9 °F on ['2021-11-10']\n",
      "the temp is warm with a temp of 64.9 °F on ['2021-11-10', '2021-11-11']\n",
      "the temp is warm with a temp of 59.2 °F on ['2021-11-10', '2021-11-11']\n",
      "the temp is warm with a temp of 64.9 °F on ['2021-11-10', '2021-11-11', '2021-11-12']\n",
      "the temp is warm with a temp of 59.2 °F on ['2021-11-10', '2021-11-11', '2021-11-12']\n",
      "the temp is warm with a temp of 60.1 °F on ['2021-11-10', '2021-11-11', '2021-11-12']\n",
      "[64.9, 59.2, 60.1]\n",
      "['2021-11-10', '2021-11-11', '2021-11-12']\n"
     ]
    }
   ],
   "source": [
    "#initial empty list\n",
    "list1 = []\n",
    "dates = []\n",
    "\n",
    "#adding to list with certain indexes from dictionary\n",
    "for i in data5['forecast']['forecastday']:\n",
    "    list1.append(i['day']['maxtemp_f'])\n",
    "    dates.append(i['date'])\n",
    "\n",
    "    for i in list1:\n",
    "        if i > 70:\n",
    "            print(\"the temp is hot with a temp of\", i, \"°F on\", dates)\n",
    "        elif i > 50:\n",
    "            print(\"the temp is warm with a temp of\", i, \"°F on\", dates)\n",
    "        elif i <= 50:\n",
    "            print(\"the temp is cold with a temp of\", i, \"°F on\", dates)\n",
    "\n",
    "            \n",
    "#if need mins\n",
    "# list2 = []\n",
    "#     list2.append(i['day']['mintemp_f'])\n",
    "#     for i in list2:\n",
    "#         if i >= 70:\n",
    "#             print(\"hot\")\n",
    "#         elif 50 =< i <70:\n",
    "#             print(\"warm\")\n",
    "#         elif i < 50:\n",
    "#             print(\"cold\")\n",
    "\n",
    "print(list1)\n",
    "#print(list2)\n",
    "print(dates)\n"
   ]
  },
  {
   "cell_type": "code",
   "execution_count": null,
   "metadata": {},
   "outputs": [],
   "source": []
  },
  {
   "cell_type": "markdown",
   "metadata": {},
   "source": [
    "## 5b) The question above used to be an entire week, but not any more. Try to re-use the code above to print out seven days.\n",
    "\n",
    "What happens? Can you figure out why it doesn't work?\n",
    "\n",
    "* *Tip: it has to do with the reason you're using an API key - maybe take a look at the \"Air Quality Data\" introduction for a hint? If you can't figure it out right now, no worries.*"
   ]
  },
  {
   "cell_type": "code",
   "execution_count": 300,
   "metadata": {},
   "outputs": [],
   "source": [
    "url6 = \"http://api.weatherapi.com/v1/forecast.json?key=API&q=01921&days=7&aqi=yes&alerts=no\"\n",
    "response6 = requests.get(url6)\n",
    "data6 = (response6.json())"
   ]
  },
  {
   "cell_type": "code",
   "execution_count": 335,
   "metadata": {},
   "outputs": [],
   "source": [
    "# print(data6)"
   ]
  },
  {
   "cell_type": "code",
   "execution_count": 336,
   "metadata": {},
   "outputs": [],
   "source": [
    "# because of their subscription model, they use keys as a barrier for whether urls will work for 3-day or 7-day forecasts"
   ]
  },
  {
   "cell_type": "markdown",
   "metadata": {},
   "source": [
    "## 6) What will be the hottest day in the next three days? What is the high temperature on that day?"
   ]
  },
  {
   "cell_type": "code",
   "execution_count": 303,
   "metadata": {},
   "outputs": [
    {
     "ename": "TypeError",
     "evalue": "'list' object is not callable",
     "output_type": "error",
     "traceback": [
      "\u001b[0;31m---------------------------------------------------------------------------\u001b[0m",
      "\u001b[0;31mTypeError\u001b[0m                                 Traceback (most recent call last)",
      "\u001b[0;32m/var/folders/8t/1rrw8b2x05595s5gystxsg3m0000gn/T/ipykernel_92692/54017974.py\u001b[0m in \u001b[0;36m<module>\u001b[0;34m\u001b[0m\n\u001b[1;32m     12\u001b[0m     \u001b[0mdates\u001b[0m\u001b[0;34m.\u001b[0m\u001b[0mappend\u001b[0m\u001b[0;34m(\u001b[0m\u001b[0mi\u001b[0m\u001b[0;34m[\u001b[0m\u001b[0;34m'date'\u001b[0m\u001b[0;34m]\u001b[0m\u001b[0;34m)\u001b[0m\u001b[0;34m\u001b[0m\u001b[0;34m\u001b[0m\u001b[0m\n\u001b[1;32m     13\u001b[0m \u001b[0;34m\u001b[0m\u001b[0m\n\u001b[0;32m---> 14\u001b[0;31m \u001b[0mmax_value\u001b[0m \u001b[0;34m=\u001b[0m \u001b[0mmax\u001b[0m\u001b[0;34m(\u001b[0m\u001b[0mlist\u001b[0m\u001b[0;34m)\u001b[0m\u001b[0;34m\u001b[0m\u001b[0;34m\u001b[0m\u001b[0m\n\u001b[0m\u001b[1;32m     15\u001b[0m \u001b[0mmax_index\u001b[0m \u001b[0;34m=\u001b[0m \u001b[0mlist\u001b[0m\u001b[0;34m.\u001b[0m\u001b[0mindex\u001b[0m\u001b[0;34m(\u001b[0m\u001b[0mmax_value\u001b[0m\u001b[0;34m)\u001b[0m\u001b[0;34m\u001b[0m\u001b[0;34m\u001b[0m\u001b[0m\n\u001b[1;32m     16\u001b[0m \u001b[0;34m\u001b[0m\u001b[0m\n",
      "\u001b[0;31mTypeError\u001b[0m: 'list' object is not callable"
     ]
    }
   ],
   "source": [
    "url7 = \"http://api.weatherapi.com/v1/forecast.json?key=59f80f8ad2144f91b37174259210711&q=01921&days=3&aqi=yes&alerts=no\"\n",
    "response7 = requests.get(url7)\n",
    "data7 = (response7.json())\n",
    "\n",
    "#initial empty list\n",
    "list = []\n",
    "dates = []\n",
    "\n",
    "#adding to list with certain indexes from dictionary\n",
    "for i in data7['forecast']['forecastday']:\n",
    "    list.append(i['day']['maxtemp_f'])\n",
    "    dates.append(i['date'])\n",
    "\n",
    "max_value = max(list)\n",
    "max_index = list.index(max_value)\n",
    "\n",
    "print(dates[max_index])\n"
   ]
  },
  {
   "cell_type": "code",
   "execution_count": null,
   "metadata": {},
   "outputs": [],
   "source": []
  },
  {
   "cell_type": "code",
   "execution_count": null,
   "metadata": {},
   "outputs": [],
   "source": []
  },
  {
   "cell_type": "markdown",
   "metadata": {},
   "source": [
    "## 7) What's the weather looking like for the next 24+ hours in Miami, Florida?\n",
    "\n",
    "I'd like to know the temperature for every hour, and if it's going to have cloud cover of more than 50% say \"{temperature} and cloudy\" instead of just the temperature. \n",
    "\n",
    "- *Tip: You'll only need one day of forecast*"
   ]
  },
  {
   "cell_type": "code",
   "execution_count": 304,
   "metadata": {},
   "outputs": [],
   "source": [
    "url8 = \"http://api.weatherapi.com/v1/forecast.json?key=API&q=Miami&days=1&aqi=no&alerts=no\"\n",
    "response8 = requests.get(url8)\n",
    "data8 = (response8.json())\n"
   ]
  },
  {
   "cell_type": "code",
   "execution_count": 316,
   "metadata": {},
   "outputs": [
    {
     "name": "stdout",
     "output_type": "stream",
     "text": [
      "the time is 2021-11-10 00:00 at [75.7, 75.6, 75.4, 75.4, 75.4, 75.7, 75.9, 76.5, 76.5, 77.0, 77.7, 83.3, 83.5, 83.7, 79.0, 78.1, 77.7, 77.5, 77.4, 77.4, 77.5, 77.7, 77.7, 77.5] temp and ['Cloudy', 'Cloudy', 'Light rain shower', 'Light rain shower', 'Overcast', 'Light rain shower', 'Clear', 'Patchy rain possible', 'Sunny', 'Sunny', 'Sunny', 'Sunny', 'Sunny', 'Sunny', 'Patchy rain possible', 'Patchy rain possible', 'Patchy rain possible', 'Light rain shower', 'Patchy rain possible', 'Light rain shower', 'Light rain shower', 'Cloudy', 'Cloudy', 'Light rain shower'] weather condition\n",
      "the time is 2021-11-10 01:00 at [75.7, 75.6, 75.4, 75.4, 75.4, 75.7, 75.9, 76.5, 76.5, 77.0, 77.7, 83.3, 83.5, 83.7, 79.0, 78.1, 77.7, 77.5, 77.4, 77.4, 77.5, 77.7, 77.7, 77.5] temp and ['Cloudy', 'Cloudy', 'Light rain shower', 'Light rain shower', 'Overcast', 'Light rain shower', 'Clear', 'Patchy rain possible', 'Sunny', 'Sunny', 'Sunny', 'Sunny', 'Sunny', 'Sunny', 'Patchy rain possible', 'Patchy rain possible', 'Patchy rain possible', 'Light rain shower', 'Patchy rain possible', 'Light rain shower', 'Light rain shower', 'Cloudy', 'Cloudy', 'Light rain shower'] weather condition\n",
      "the time is 2021-11-10 02:00 at [75.7, 75.6, 75.4, 75.4, 75.4, 75.7, 75.9, 76.5, 76.5, 77.0, 77.7, 83.3, 83.5, 83.7, 79.0, 78.1, 77.7, 77.5, 77.4, 77.4, 77.5, 77.7, 77.7, 77.5] temp and ['Cloudy', 'Cloudy', 'Light rain shower', 'Light rain shower', 'Overcast', 'Light rain shower', 'Clear', 'Patchy rain possible', 'Sunny', 'Sunny', 'Sunny', 'Sunny', 'Sunny', 'Sunny', 'Patchy rain possible', 'Patchy rain possible', 'Patchy rain possible', 'Light rain shower', 'Patchy rain possible', 'Light rain shower', 'Light rain shower', 'Cloudy', 'Cloudy', 'Light rain shower'] weather condition\n",
      "the time is 2021-11-10 03:00 at [75.7, 75.6, 75.4, 75.4, 75.4, 75.7, 75.9, 76.5, 76.5, 77.0, 77.7, 83.3, 83.5, 83.7, 79.0, 78.1, 77.7, 77.5, 77.4, 77.4, 77.5, 77.7, 77.7, 77.5] temp and ['Cloudy', 'Cloudy', 'Light rain shower', 'Light rain shower', 'Overcast', 'Light rain shower', 'Clear', 'Patchy rain possible', 'Sunny', 'Sunny', 'Sunny', 'Sunny', 'Sunny', 'Sunny', 'Patchy rain possible', 'Patchy rain possible', 'Patchy rain possible', 'Light rain shower', 'Patchy rain possible', 'Light rain shower', 'Light rain shower', 'Cloudy', 'Cloudy', 'Light rain shower'] weather condition\n",
      "the time is 2021-11-10 04:00 at [75.7, 75.6, 75.4, 75.4, 75.4, 75.7, 75.9, 76.5, 76.5, 77.0, 77.7, 83.3, 83.5, 83.7, 79.0, 78.1, 77.7, 77.5, 77.4, 77.4, 77.5, 77.7, 77.7, 77.5] temp and ['Cloudy', 'Cloudy', 'Light rain shower', 'Light rain shower', 'Overcast', 'Light rain shower', 'Clear', 'Patchy rain possible', 'Sunny', 'Sunny', 'Sunny', 'Sunny', 'Sunny', 'Sunny', 'Patchy rain possible', 'Patchy rain possible', 'Patchy rain possible', 'Light rain shower', 'Patchy rain possible', 'Light rain shower', 'Light rain shower', 'Cloudy', 'Cloudy', 'Light rain shower'] weather condition\n",
      "the time is 2021-11-10 05:00 at [75.7, 75.6, 75.4, 75.4, 75.4, 75.7, 75.9, 76.5, 76.5, 77.0, 77.7, 83.3, 83.5, 83.7, 79.0, 78.1, 77.7, 77.5, 77.4, 77.4, 77.5, 77.7, 77.7, 77.5] temp and ['Cloudy', 'Cloudy', 'Light rain shower', 'Light rain shower', 'Overcast', 'Light rain shower', 'Clear', 'Patchy rain possible', 'Sunny', 'Sunny', 'Sunny', 'Sunny', 'Sunny', 'Sunny', 'Patchy rain possible', 'Patchy rain possible', 'Patchy rain possible', 'Light rain shower', 'Patchy rain possible', 'Light rain shower', 'Light rain shower', 'Cloudy', 'Cloudy', 'Light rain shower'] weather condition\n",
      "the time is 2021-11-10 06:00 at [75.7, 75.6, 75.4, 75.4, 75.4, 75.7, 75.9, 76.5, 76.5, 77.0, 77.7, 83.3, 83.5, 83.7, 79.0, 78.1, 77.7, 77.5, 77.4, 77.4, 77.5, 77.7, 77.7, 77.5] temp and ['Cloudy', 'Cloudy', 'Light rain shower', 'Light rain shower', 'Overcast', 'Light rain shower', 'Clear', 'Patchy rain possible', 'Sunny', 'Sunny', 'Sunny', 'Sunny', 'Sunny', 'Sunny', 'Patchy rain possible', 'Patchy rain possible', 'Patchy rain possible', 'Light rain shower', 'Patchy rain possible', 'Light rain shower', 'Light rain shower', 'Cloudy', 'Cloudy', 'Light rain shower'] weather condition\n",
      "the time is 2021-11-10 07:00 at [75.7, 75.6, 75.4, 75.4, 75.4, 75.7, 75.9, 76.5, 76.5, 77.0, 77.7, 83.3, 83.5, 83.7, 79.0, 78.1, 77.7, 77.5, 77.4, 77.4, 77.5, 77.7, 77.7, 77.5] temp and ['Cloudy', 'Cloudy', 'Light rain shower', 'Light rain shower', 'Overcast', 'Light rain shower', 'Clear', 'Patchy rain possible', 'Sunny', 'Sunny', 'Sunny', 'Sunny', 'Sunny', 'Sunny', 'Patchy rain possible', 'Patchy rain possible', 'Patchy rain possible', 'Light rain shower', 'Patchy rain possible', 'Light rain shower', 'Light rain shower', 'Cloudy', 'Cloudy', 'Light rain shower'] weather condition\n",
      "the time is 2021-11-10 08:00 at [75.7, 75.6, 75.4, 75.4, 75.4, 75.7, 75.9, 76.5, 76.5, 77.0, 77.7, 83.3, 83.5, 83.7, 79.0, 78.1, 77.7, 77.5, 77.4, 77.4, 77.5, 77.7, 77.7, 77.5] temp and ['Cloudy', 'Cloudy', 'Light rain shower', 'Light rain shower', 'Overcast', 'Light rain shower', 'Clear', 'Patchy rain possible', 'Sunny', 'Sunny', 'Sunny', 'Sunny', 'Sunny', 'Sunny', 'Patchy rain possible', 'Patchy rain possible', 'Patchy rain possible', 'Light rain shower', 'Patchy rain possible', 'Light rain shower', 'Light rain shower', 'Cloudy', 'Cloudy', 'Light rain shower'] weather condition\n",
      "the time is 2021-11-10 09:00 at [75.7, 75.6, 75.4, 75.4, 75.4, 75.7, 75.9, 76.5, 76.5, 77.0, 77.7, 83.3, 83.5, 83.7, 79.0, 78.1, 77.7, 77.5, 77.4, 77.4, 77.5, 77.7, 77.7, 77.5] temp and ['Cloudy', 'Cloudy', 'Light rain shower', 'Light rain shower', 'Overcast', 'Light rain shower', 'Clear', 'Patchy rain possible', 'Sunny', 'Sunny', 'Sunny', 'Sunny', 'Sunny', 'Sunny', 'Patchy rain possible', 'Patchy rain possible', 'Patchy rain possible', 'Light rain shower', 'Patchy rain possible', 'Light rain shower', 'Light rain shower', 'Cloudy', 'Cloudy', 'Light rain shower'] weather condition\n",
      "the time is 2021-11-10 10:00 at [75.7, 75.6, 75.4, 75.4, 75.4, 75.7, 75.9, 76.5, 76.5, 77.0, 77.7, 83.3, 83.5, 83.7, 79.0, 78.1, 77.7, 77.5, 77.4, 77.4, 77.5, 77.7, 77.7, 77.5] temp and ['Cloudy', 'Cloudy', 'Light rain shower', 'Light rain shower', 'Overcast', 'Light rain shower', 'Clear', 'Patchy rain possible', 'Sunny', 'Sunny', 'Sunny', 'Sunny', 'Sunny', 'Sunny', 'Patchy rain possible', 'Patchy rain possible', 'Patchy rain possible', 'Light rain shower', 'Patchy rain possible', 'Light rain shower', 'Light rain shower', 'Cloudy', 'Cloudy', 'Light rain shower'] weather condition\n",
      "the time is 2021-11-10 11:00 at [75.7, 75.6, 75.4, 75.4, 75.4, 75.7, 75.9, 76.5, 76.5, 77.0, 77.7, 83.3, 83.5, 83.7, 79.0, 78.1, 77.7, 77.5, 77.4, 77.4, 77.5, 77.7, 77.7, 77.5] temp and ['Cloudy', 'Cloudy', 'Light rain shower', 'Light rain shower', 'Overcast', 'Light rain shower', 'Clear', 'Patchy rain possible', 'Sunny', 'Sunny', 'Sunny', 'Sunny', 'Sunny', 'Sunny', 'Patchy rain possible', 'Patchy rain possible', 'Patchy rain possible', 'Light rain shower', 'Patchy rain possible', 'Light rain shower', 'Light rain shower', 'Cloudy', 'Cloudy', 'Light rain shower'] weather condition\n",
      "the time is 2021-11-10 12:00 at [75.7, 75.6, 75.4, 75.4, 75.4, 75.7, 75.9, 76.5, 76.5, 77.0, 77.7, 83.3, 83.5, 83.7, 79.0, 78.1, 77.7, 77.5, 77.4, 77.4, 77.5, 77.7, 77.7, 77.5] temp and ['Cloudy', 'Cloudy', 'Light rain shower', 'Light rain shower', 'Overcast', 'Light rain shower', 'Clear', 'Patchy rain possible', 'Sunny', 'Sunny', 'Sunny', 'Sunny', 'Sunny', 'Sunny', 'Patchy rain possible', 'Patchy rain possible', 'Patchy rain possible', 'Light rain shower', 'Patchy rain possible', 'Light rain shower', 'Light rain shower', 'Cloudy', 'Cloudy', 'Light rain shower'] weather condition\n",
      "the time is 2021-11-10 13:00 at [75.7, 75.6, 75.4, 75.4, 75.4, 75.7, 75.9, 76.5, 76.5, 77.0, 77.7, 83.3, 83.5, 83.7, 79.0, 78.1, 77.7, 77.5, 77.4, 77.4, 77.5, 77.7, 77.7, 77.5] temp and ['Cloudy', 'Cloudy', 'Light rain shower', 'Light rain shower', 'Overcast', 'Light rain shower', 'Clear', 'Patchy rain possible', 'Sunny', 'Sunny', 'Sunny', 'Sunny', 'Sunny', 'Sunny', 'Patchy rain possible', 'Patchy rain possible', 'Patchy rain possible', 'Light rain shower', 'Patchy rain possible', 'Light rain shower', 'Light rain shower', 'Cloudy', 'Cloudy', 'Light rain shower'] weather condition\n",
      "the time is 2021-11-10 14:00 at [75.7, 75.6, 75.4, 75.4, 75.4, 75.7, 75.9, 76.5, 76.5, 77.0, 77.7, 83.3, 83.5, 83.7, 79.0, 78.1, 77.7, 77.5, 77.4, 77.4, 77.5, 77.7, 77.7, 77.5] temp and ['Cloudy', 'Cloudy', 'Light rain shower', 'Light rain shower', 'Overcast', 'Light rain shower', 'Clear', 'Patchy rain possible', 'Sunny', 'Sunny', 'Sunny', 'Sunny', 'Sunny', 'Sunny', 'Patchy rain possible', 'Patchy rain possible', 'Patchy rain possible', 'Light rain shower', 'Patchy rain possible', 'Light rain shower', 'Light rain shower', 'Cloudy', 'Cloudy', 'Light rain shower'] weather condition\n",
      "the time is 2021-11-10 15:00 at [75.7, 75.6, 75.4, 75.4, 75.4, 75.7, 75.9, 76.5, 76.5, 77.0, 77.7, 83.3, 83.5, 83.7, 79.0, 78.1, 77.7, 77.5, 77.4, 77.4, 77.5, 77.7, 77.7, 77.5] temp and ['Cloudy', 'Cloudy', 'Light rain shower', 'Light rain shower', 'Overcast', 'Light rain shower', 'Clear', 'Patchy rain possible', 'Sunny', 'Sunny', 'Sunny', 'Sunny', 'Sunny', 'Sunny', 'Patchy rain possible', 'Patchy rain possible', 'Patchy rain possible', 'Light rain shower', 'Patchy rain possible', 'Light rain shower', 'Light rain shower', 'Cloudy', 'Cloudy', 'Light rain shower'] weather condition\n",
      "the time is 2021-11-10 16:00 at [75.7, 75.6, 75.4, 75.4, 75.4, 75.7, 75.9, 76.5, 76.5, 77.0, 77.7, 83.3, 83.5, 83.7, 79.0, 78.1, 77.7, 77.5, 77.4, 77.4, 77.5, 77.7, 77.7, 77.5] temp and ['Cloudy', 'Cloudy', 'Light rain shower', 'Light rain shower', 'Overcast', 'Light rain shower', 'Clear', 'Patchy rain possible', 'Sunny', 'Sunny', 'Sunny', 'Sunny', 'Sunny', 'Sunny', 'Patchy rain possible', 'Patchy rain possible', 'Patchy rain possible', 'Light rain shower', 'Patchy rain possible', 'Light rain shower', 'Light rain shower', 'Cloudy', 'Cloudy', 'Light rain shower'] weather condition\n",
      "the time is 2021-11-10 17:00 at [75.7, 75.6, 75.4, 75.4, 75.4, 75.7, 75.9, 76.5, 76.5, 77.0, 77.7, 83.3, 83.5, 83.7, 79.0, 78.1, 77.7, 77.5, 77.4, 77.4, 77.5, 77.7, 77.7, 77.5] temp and ['Cloudy', 'Cloudy', 'Light rain shower', 'Light rain shower', 'Overcast', 'Light rain shower', 'Clear', 'Patchy rain possible', 'Sunny', 'Sunny', 'Sunny', 'Sunny', 'Sunny', 'Sunny', 'Patchy rain possible', 'Patchy rain possible', 'Patchy rain possible', 'Light rain shower', 'Patchy rain possible', 'Light rain shower', 'Light rain shower', 'Cloudy', 'Cloudy', 'Light rain shower'] weather condition\n",
      "the time is 2021-11-10 18:00 at [75.7, 75.6, 75.4, 75.4, 75.4, 75.7, 75.9, 76.5, 76.5, 77.0, 77.7, 83.3, 83.5, 83.7, 79.0, 78.1, 77.7, 77.5, 77.4, 77.4, 77.5, 77.7, 77.7, 77.5] temp and ['Cloudy', 'Cloudy', 'Light rain shower', 'Light rain shower', 'Overcast', 'Light rain shower', 'Clear', 'Patchy rain possible', 'Sunny', 'Sunny', 'Sunny', 'Sunny', 'Sunny', 'Sunny', 'Patchy rain possible', 'Patchy rain possible', 'Patchy rain possible', 'Light rain shower', 'Patchy rain possible', 'Light rain shower', 'Light rain shower', 'Cloudy', 'Cloudy', 'Light rain shower'] weather condition\n",
      "the time is 2021-11-10 19:00 at [75.7, 75.6, 75.4, 75.4, 75.4, 75.7, 75.9, 76.5, 76.5, 77.0, 77.7, 83.3, 83.5, 83.7, 79.0, 78.1, 77.7, 77.5, 77.4, 77.4, 77.5, 77.7, 77.7, 77.5] temp and ['Cloudy', 'Cloudy', 'Light rain shower', 'Light rain shower', 'Overcast', 'Light rain shower', 'Clear', 'Patchy rain possible', 'Sunny', 'Sunny', 'Sunny', 'Sunny', 'Sunny', 'Sunny', 'Patchy rain possible', 'Patchy rain possible', 'Patchy rain possible', 'Light rain shower', 'Patchy rain possible', 'Light rain shower', 'Light rain shower', 'Cloudy', 'Cloudy', 'Light rain shower'] weather condition\n",
      "the time is 2021-11-10 20:00 at [75.7, 75.6, 75.4, 75.4, 75.4, 75.7, 75.9, 76.5, 76.5, 77.0, 77.7, 83.3, 83.5, 83.7, 79.0, 78.1, 77.7, 77.5, 77.4, 77.4, 77.5, 77.7, 77.7, 77.5] temp and ['Cloudy', 'Cloudy', 'Light rain shower', 'Light rain shower', 'Overcast', 'Light rain shower', 'Clear', 'Patchy rain possible', 'Sunny', 'Sunny', 'Sunny', 'Sunny', 'Sunny', 'Sunny', 'Patchy rain possible', 'Patchy rain possible', 'Patchy rain possible', 'Light rain shower', 'Patchy rain possible', 'Light rain shower', 'Light rain shower', 'Cloudy', 'Cloudy', 'Light rain shower'] weather condition\n",
      "the time is 2021-11-10 21:00 at [75.7, 75.6, 75.4, 75.4, 75.4, 75.7, 75.9, 76.5, 76.5, 77.0, 77.7, 83.3, 83.5, 83.7, 79.0, 78.1, 77.7, 77.5, 77.4, 77.4, 77.5, 77.7, 77.7, 77.5] temp and ['Cloudy', 'Cloudy', 'Light rain shower', 'Light rain shower', 'Overcast', 'Light rain shower', 'Clear', 'Patchy rain possible', 'Sunny', 'Sunny', 'Sunny', 'Sunny', 'Sunny', 'Sunny', 'Patchy rain possible', 'Patchy rain possible', 'Patchy rain possible', 'Light rain shower', 'Patchy rain possible', 'Light rain shower', 'Light rain shower', 'Cloudy', 'Cloudy', 'Light rain shower'] weather condition\n",
      "the time is 2021-11-10 22:00 at [75.7, 75.6, 75.4, 75.4, 75.4, 75.7, 75.9, 76.5, 76.5, 77.0, 77.7, 83.3, 83.5, 83.7, 79.0, 78.1, 77.7, 77.5, 77.4, 77.4, 77.5, 77.7, 77.7, 77.5] temp and ['Cloudy', 'Cloudy', 'Light rain shower', 'Light rain shower', 'Overcast', 'Light rain shower', 'Clear', 'Patchy rain possible', 'Sunny', 'Sunny', 'Sunny', 'Sunny', 'Sunny', 'Sunny', 'Patchy rain possible', 'Patchy rain possible', 'Patchy rain possible', 'Light rain shower', 'Patchy rain possible', 'Light rain shower', 'Light rain shower', 'Cloudy', 'Cloudy', 'Light rain shower'] weather condition\n",
      "the time is 2021-11-10 23:00 at [75.7, 75.6, 75.4, 75.4, 75.4, 75.7, 75.9, 76.5, 76.5, 77.0, 77.7, 83.3, 83.5, 83.7, 79.0, 78.1, 77.7, 77.5, 77.4, 77.4, 77.5, 77.7, 77.7, 77.5] temp and ['Cloudy', 'Cloudy', 'Light rain shower', 'Light rain shower', 'Overcast', 'Light rain shower', 'Clear', 'Patchy rain possible', 'Sunny', 'Sunny', 'Sunny', 'Sunny', 'Sunny', 'Sunny', 'Patchy rain possible', 'Patchy rain possible', 'Patchy rain possible', 'Light rain shower', 'Patchy rain possible', 'Light rain shower', 'Light rain shower', 'Cloudy', 'Cloudy', 'Light rain shower'] weather condition\n"
     ]
    }
   ],
   "source": [
    "#initial empty list\n",
    "list3 = []\n",
    "time3 = []\n",
    "cloudy3 = []\n",
    "\n",
    "#adding to list with certain indexes from dictionary\n",
    "for i in data8['forecast']['forecastday']:    \n",
    "     for m in i['hour']:\n",
    "        list3.append(m['temp_f'])\n",
    "        #print(list3)\n",
    "        time3.append(m['time'])\n",
    "       # print(time3)\n",
    "        cloudy3.append(m['condition']['text'])\n",
    "       # print(cloudy3)\n",
    "\n",
    "for n in time3:\n",
    "    print(\"the time is\", n, \"at\", list3, \"temp and\", cloudy3, \"weather condition\")\n",
    "    \n",
    "# print(list3)\n",
    "# print(time3)\n",
    "# print(cloudy3)\n",
    "\n",
    "#print(list3)\n",
    "\n",
    "\n"
   ]
  },
  {
   "cell_type": "code",
   "execution_count": null,
   "metadata": {
    "collapsed": true
   },
   "outputs": [],
   "source": [
    "    print(data8)"
   ]
  },
  {
   "cell_type": "markdown",
   "metadata": {},
   "source": [
    "## 8) For the next 24-ish hours in Miami, what percent of the time is the temperature above 85 degrees?\n",
    "\n",
    "- *Tip: You might want to read up on [looping patterns](http://jonathansoma.com/lede/foundations-2017/classes/data%20structures/looping-patterns/)*"
   ]
  },
  {
   "cell_type": "code",
   "execution_count": 333,
   "metadata": {},
   "outputs": [
    {
     "name": "stdout",
     "output_type": "stream",
     "text": [
      "For the next 24-ish hours in Miami 0.0 percent of the total hours wil be above 85 °F\n"
     ]
    }
   ],
   "source": [
    "number_of_hours = len(list3)\n",
    "#print(number_of_hours)\n",
    "\n",
    "# for i in list3:\n",
    "#     if i > 85:\n",
    "#         print()\n",
    "#     elif i<= 85:\n",
    "#         a = 0\n",
    "\n",
    "# b = int(a)\n",
    "        \n",
    "# print(sum(b))\n",
    "\n",
    "# Initial state: ZERO hours with a temp above 85\n",
    "count = 0\n",
    "\n",
    "for i in list3:\n",
    "    if i > 85:\n",
    "        count = count + 1\n",
    "\n",
    "# Answer: How many hours with a temp above 85?\n",
    "print(\"For the next 24-ish hours in Miami\", count / number_of_hours, \"percent of the total hours wil be above 85 °F\")"
   ]
  },
  {
   "cell_type": "code",
   "execution_count": null,
   "metadata": {
    "collapsed": true
   },
   "outputs": [],
   "source": []
  },
  {
   "cell_type": "code",
   "execution_count": null,
   "metadata": {
    "collapsed": true
   },
   "outputs": [],
   "source": []
  },
  {
   "cell_type": "markdown",
   "metadata": {},
   "source": [
    "## 9) How much will it cost if you need to use 1,500,000 API calls?\n",
    "\n",
    "You are only allowed 1,000,000 API calls each month. If you were really bad at this homework or made some awful loops, WeatherAPI might shut down your free access. \n",
    "\n",
    "* *Tip: this involves looking somewhere that isn't the normal documentation.*"
   ]
  },
  {
   "cell_type": "code",
   "execution_count": null,
   "metadata": {},
   "outputs": [],
   "source": [
    "# Source: https://www.weatherapi.com/pricing.aspx\n",
    "\n",
    "# It would cost $4 a month for the subscription."
   ]
  },
  {
   "cell_type": "code",
   "execution_count": null,
   "metadata": {},
   "outputs": [],
   "source": []
  },
  {
   "cell_type": "code",
   "execution_count": null,
   "metadata": {},
   "outputs": [],
   "source": []
  },
  {
   "cell_type": "markdown",
   "metadata": {},
   "source": [
    "## 10) You're too poor to spend more money! What else could you do instead of give them money?\n",
    "\n",
    "* *Tip: I'm not endorsing being sneaky, but newsrooms and students are both generally poverty-stricken.*"
   ]
  },
  {
   "cell_type": "code",
   "execution_count": null,
   "metadata": {},
   "outputs": [],
   "source": [
    "# 1. Ask for a student discount\n",
    "# 2. Edit something in the code"
   ]
  }
 ],
 "metadata": {
  "kernelspec": {
   "display_name": "Python 3 (ipykernel)",
   "language": "python",
   "name": "python3"
  },
  "language_info": {
   "codemirror_mode": {
    "name": "ipython",
    "version": 3
   },
   "file_extension": ".py",
   "mimetype": "text/x-python",
   "name": "python",
   "nbconvert_exporter": "python",
   "pygments_lexer": "ipython3",
   "version": "3.10.0"
  }
 },
 "nbformat": 4,
 "nbformat_minor": 1
}
