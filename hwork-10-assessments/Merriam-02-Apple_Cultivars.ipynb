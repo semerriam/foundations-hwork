{
 "cells": [
  {
   "cell_type": "markdown",
   "id": "4a114772",
   "metadata": {},
   "source": [
    "# Apple cultivars\n",
    "\n",
    "* **Data:** `apples.csv`\n",
    "* **Description:** Types of apples\n",
    "* **Source:** https://en.wikipedia.org/wiki/List_of_apple_cultivars\n",
    "* **Columns of interest:**\n",
    "    * `Common name` - the non-scientific name of the apple cultivar\n",
    "    * `Origin` - where it came from\n",
    "    * `First developed` - year it was developed\n",
    "    * `Comment` - Description\n",
    "    * `Use` - whether best for eating, baking, etc\n",
    "\n",
    "Note that you'll need to brush up on `.str.contains` for this notebook."
   ]
  },
  {
   "cell_type": "markdown",
   "id": "32bd1f7a",
   "metadata": {},
   "source": [
    "## Read in your data"
   ]
  },
  {
   "cell_type": "code",
   "execution_count": 42,
   "id": "f6d8cc9f",
   "metadata": {},
   "outputs": [
    {
     "ename": "ModuleNotFoundError",
     "evalue": "No module named 'requests'",
     "output_type": "error",
     "traceback": [
      "\u001b[0;31m---------------------------------------------------------------------------\u001b[0m",
      "\u001b[0;31mModuleNotFoundError\u001b[0m                       Traceback (most recent call last)",
      "\u001b[0;32m/var/folders/c2/zngcssg14mv23nw0yr96s0wm0000gn/T/ipykernel_44634/2095379640.py\u001b[0m in \u001b[0;36m<module>\u001b[0;34m\u001b[0m\n\u001b[1;32m      2\u001b[0m \u001b[0;32mimport\u001b[0m \u001b[0mnumpy\u001b[0m \u001b[0;32mas\u001b[0m \u001b[0mnp\u001b[0m\u001b[0;34m\u001b[0m\u001b[0;34m\u001b[0m\u001b[0m\n\u001b[1;32m      3\u001b[0m \u001b[0;32mimport\u001b[0m \u001b[0mmatplotlib\u001b[0m\u001b[0;34m.\u001b[0m\u001b[0mpyplot\u001b[0m \u001b[0;32mas\u001b[0m \u001b[0mplt\u001b[0m\u001b[0;34m\u001b[0m\u001b[0;34m\u001b[0m\u001b[0m\n\u001b[0;32m----> 4\u001b[0;31m \u001b[0;32mimport\u001b[0m \u001b[0mrequests\u001b[0m\u001b[0;34m\u001b[0m\u001b[0;34m\u001b[0m\u001b[0m\n\u001b[0m",
      "\u001b[0;31mModuleNotFoundError\u001b[0m: No module named 'requests'"
     ]
    }
   ],
   "source": [
    "import pandas as pd \n",
    "import numpy as np\n",
    "import matplotlib.pyplot as plt\n",
    "import requests"
   ]
  },
  {
   "cell_type": "code",
   "execution_count": 43,
   "id": "2958149e",
   "metadata": {},
   "outputs": [],
   "source": [
    "pd.set_option(\"display.max_columns\", None)\n",
    "pd.set_option(\"display.float_format\", '{:,}'.format)"
   ]
  },
  {
   "cell_type": "code",
   "execution_count": 44,
   "id": "6f29ea54",
   "metadata": {},
   "outputs": [],
   "source": [
    "pd.read_csv(\"apples.csv\", encoding=\"utf-8\")\n",
    "df = pd.read_csv(\"apples.csv\", encoding=\"utf-8\")\n",
    "\n",
    "# df = pd.read_csv(\"street-trees.csv\", nrows = 2000000, encoding=\"utf-8\")\n",
    "\n",
    "df.columns = df.columns.str.lower().str.replace(\" \", \"_\")"
   ]
  },
  {
   "cell_type": "code",
   "execution_count": 45,
   "id": "f26d710e",
   "metadata": {},
   "outputs": [
    {
     "data": {
      "text/html": [
       "<div>\n",
       "<style scoped>\n",
       "    .dataframe tbody tr th:only-of-type {\n",
       "        vertical-align: middle;\n",
       "    }\n",
       "\n",
       "    .dataframe tbody tr th {\n",
       "        vertical-align: top;\n",
       "    }\n",
       "\n",
       "    .dataframe thead th {\n",
       "        text-align: right;\n",
       "    }\n",
       "</style>\n",
       "<table border=\"1\" class=\"dataframe\">\n",
       "  <thead>\n",
       "    <tr style=\"text-align: right;\">\n",
       "      <th></th>\n",
       "      <th>common_name</th>\n",
       "      <th>origin</th>\n",
       "      <th>first_developed</th>\n",
       "      <th>comment</th>\n",
       "      <th>use</th>\n",
       "    </tr>\n",
       "  </thead>\n",
       "  <tbody>\n",
       "    <tr>\n",
       "      <th>0</th>\n",
       "      <td>Abram</td>\n",
       "      <td>US</td>\n",
       "      <td>1850</td>\n",
       "      <td>A small apple with red flush. Flesh white, ten...</td>\n",
       "      <td>Eating</td>\n",
       "    </tr>\n",
       "    <tr>\n",
       "      <th>1</th>\n",
       "      <td>Acheson</td>\n",
       "      <td>Canada</td>\n",
       "      <td>Introduced 1941</td>\n",
       "      <td>Fruit large, greenish yellow. P Delicious x un...</td>\n",
       "      <td>Eating</td>\n",
       "    </tr>\n",
       "    <tr>\n",
       "      <th>2</th>\n",
       "      <td>Acklam Russet</td>\n",
       "      <td>England</td>\n",
       "      <td>1768</td>\n",
       "      <td>A small russet apple. An excellent dessert app...</td>\n",
       "      <td>Eating</td>\n",
       "    </tr>\n",
       "    <tr>\n",
       "      <th>3</th>\n",
       "      <td>Adams Pearmain</td>\n",
       "      <td>England</td>\n",
       "      <td>Introduced 1826</td>\n",
       "      <td>A dessert apple. First introduced under the na...</td>\n",
       "      <td>Eating</td>\n",
       "    </tr>\n",
       "    <tr>\n",
       "      <th>4</th>\n",
       "      <td>Adina (syn. Frankad, Satark)</td>\n",
       "      <td>Australia</td>\n",
       "      <td>NaN</td>\n",
       "      <td>A large red apple. Flesh firm, juicy, sweet, v...</td>\n",
       "      <td>Eating</td>\n",
       "    </tr>\n",
       "    <tr>\n",
       "      <th>...</th>\n",
       "      <td>...</td>\n",
       "      <td>...</td>\n",
       "      <td>...</td>\n",
       "      <td>...</td>\n",
       "      <td>...</td>\n",
       "    </tr>\n",
       "    <tr>\n",
       "      <th>1196</th>\n",
       "      <td>Zimska Kolačara</td>\n",
       "      <td>Serbia</td>\n",
       "      <td>1900</td>\n",
       "      <td>A greenish yellow apple. W 55-65, H 65-75, We ...</td>\n",
       "      <td>Eating, Cooking, Pie</td>\n",
       "    </tr>\n",
       "    <tr>\n",
       "      <th>1197</th>\n",
       "      <td>Zoar Greening</td>\n",
       "      <td>US</td>\n",
       "      <td>1865</td>\n",
       "      <td>Flesh white, tender, juicy, subacid, good. Use...</td>\n",
       "      <td>Eating</td>\n",
       "    </tr>\n",
       "    <tr>\n",
       "      <th>1198</th>\n",
       "      <td>Ökna Lökäpple</td>\n",
       "      <td>Sweden</td>\n",
       "      <td>1830</td>\n",
       "      <td>Greenish yellow with some red stripes. H 50, W...</td>\n",
       "      <td>Eating</td>\n",
       "    </tr>\n",
       "    <tr>\n",
       "      <th>1199</th>\n",
       "      <td>Ökna vita Vintergylling</td>\n",
       "      <td>Sweden</td>\n",
       "      <td>1900</td>\n",
       "      <td>A small yellow conical apple. H 60, W 60. Use ...</td>\n",
       "      <td>Cooking, Eating.</td>\n",
       "    </tr>\n",
       "    <tr>\n",
       "      <th>1200</th>\n",
       "      <td>Ölands Kungsäpple</td>\n",
       "      <td>Sweden</td>\n",
       "      <td>1850</td>\n",
       "      <td>A small red conical apple for use in November–...</td>\n",
       "      <td>Eating</td>\n",
       "    </tr>\n",
       "  </tbody>\n",
       "</table>\n",
       "<p>1201 rows × 5 columns</p>\n",
       "</div>"
      ],
      "text/plain": [
       "                       common_name     origin  first_developed  \\\n",
       "0                            Abram         US             1850   \n",
       "1                          Acheson     Canada  Introduced 1941   \n",
       "2                    Acklam Russet    England             1768   \n",
       "3                   Adams Pearmain    England  Introduced 1826   \n",
       "4     Adina (syn. Frankad, Satark)  Australia              NaN   \n",
       "...                            ...        ...              ...   \n",
       "1196               Zimska Kolačara     Serbia             1900   \n",
       "1197                 Zoar Greening         US             1865   \n",
       "1198                 Ökna Lökäpple     Sweden             1830   \n",
       "1199       Ökna vita Vintergylling     Sweden             1900   \n",
       "1200             Ölands Kungsäpple     Sweden             1850   \n",
       "\n",
       "                                                comment                   use  \n",
       "0     A small apple with red flush. Flesh white, ten...                Eating  \n",
       "1     Fruit large, greenish yellow. P Delicious x un...                Eating  \n",
       "2     A small russet apple. An excellent dessert app...                Eating  \n",
       "3     A dessert apple. First introduced under the na...                Eating  \n",
       "4     A large red apple. Flesh firm, juicy, sweet, v...                Eating  \n",
       "...                                                 ...                   ...  \n",
       "1196  A greenish yellow apple. W 55-65, H 65-75, We ...  Eating, Cooking, Pie  \n",
       "1197  Flesh white, tender, juicy, subacid, good. Use...                Eating  \n",
       "1198  Greenish yellow with some red stripes. H 50, W...                Eating  \n",
       "1199  A small yellow conical apple. H 60, W 60. Use ...      Cooking, Eating.  \n",
       "1200  A small red conical apple for use in November–...                Eating  \n",
       "\n",
       "[1201 rows x 5 columns]"
      ]
     },
     "execution_count": 45,
     "metadata": {},
     "output_type": "execute_result"
    }
   ],
   "source": [
    "df"
   ]
  },
  {
   "cell_type": "code",
   "execution_count": 46,
   "id": "2f7949ac",
   "metadata": {},
   "outputs": [
    {
     "data": {
      "text/plain": [
       "(1201, 5)"
      ]
     },
     "execution_count": 46,
     "metadata": {},
     "output_type": "execute_result"
    }
   ],
   "source": [
    "df.shape"
   ]
  },
  {
   "cell_type": "code",
   "execution_count": 47,
   "id": "1edad73c",
   "metadata": {},
   "outputs": [
    {
     "data": {
      "text/plain": [
       "common_name        object\n",
       "origin             object\n",
       "first_developed    object\n",
       "comment            object\n",
       "use                object\n",
       "dtype: object"
      ]
     },
     "execution_count": 47,
     "metadata": {},
     "output_type": "execute_result"
    }
   ],
   "source": [
    "df.dtypes"
   ]
  },
  {
   "cell_type": "markdown",
   "id": "e657b5ec",
   "metadata": {},
   "source": [
    "## Clean up the \"First developed\" column\n",
    "\n",
    "Sometimes it's a year and sometimes it is an \"introduced\" year, like `Introduced 1826`. We just want all of them to be years, so feel free to remove the \"Introduced\" part."
   ]
  },
  {
   "cell_type": "code",
   "execution_count": 48,
   "id": "00f90991",
   "metadata": {},
   "outputs": [],
   "source": [
    "df.first_developed = df.first_developed.str.replace(\"Introduced \", \"\", regex=False)"
   ]
  },
  {
   "cell_type": "code",
   "execution_count": 49,
   "id": "8400dd2c",
   "metadata": {},
   "outputs": [
    {
     "data": {
      "text/html": [
       "<div>\n",
       "<style scoped>\n",
       "    .dataframe tbody tr th:only-of-type {\n",
       "        vertical-align: middle;\n",
       "    }\n",
       "\n",
       "    .dataframe tbody tr th {\n",
       "        vertical-align: top;\n",
       "    }\n",
       "\n",
       "    .dataframe thead th {\n",
       "        text-align: right;\n",
       "    }\n",
       "</style>\n",
       "<table border=\"1\" class=\"dataframe\">\n",
       "  <thead>\n",
       "    <tr style=\"text-align: right;\">\n",
       "      <th></th>\n",
       "      <th>common_name</th>\n",
       "      <th>origin</th>\n",
       "      <th>first_developed</th>\n",
       "      <th>comment</th>\n",
       "      <th>use</th>\n",
       "    </tr>\n",
       "  </thead>\n",
       "  <tbody>\n",
       "    <tr>\n",
       "      <th>0</th>\n",
       "      <td>Abram</td>\n",
       "      <td>US</td>\n",
       "      <td>1850</td>\n",
       "      <td>A small apple with red flush. Flesh white, ten...</td>\n",
       "      <td>Eating</td>\n",
       "    </tr>\n",
       "    <tr>\n",
       "      <th>1</th>\n",
       "      <td>Acheson</td>\n",
       "      <td>Canada</td>\n",
       "      <td>1941</td>\n",
       "      <td>Fruit large, greenish yellow. P Delicious x un...</td>\n",
       "      <td>Eating</td>\n",
       "    </tr>\n",
       "    <tr>\n",
       "      <th>2</th>\n",
       "      <td>Acklam Russet</td>\n",
       "      <td>England</td>\n",
       "      <td>1768</td>\n",
       "      <td>A small russet apple. An excellent dessert app...</td>\n",
       "      <td>Eating</td>\n",
       "    </tr>\n",
       "    <tr>\n",
       "      <th>3</th>\n",
       "      <td>Adams Pearmain</td>\n",
       "      <td>England</td>\n",
       "      <td>1826</td>\n",
       "      <td>A dessert apple. First introduced under the na...</td>\n",
       "      <td>Eating</td>\n",
       "    </tr>\n",
       "    <tr>\n",
       "      <th>4</th>\n",
       "      <td>Adina (syn. Frankad, Satark)</td>\n",
       "      <td>Australia</td>\n",
       "      <td>NaN</td>\n",
       "      <td>A large red apple. Flesh firm, juicy, sweet, v...</td>\n",
       "      <td>Eating</td>\n",
       "    </tr>\n",
       "    <tr>\n",
       "      <th>...</th>\n",
       "      <td>...</td>\n",
       "      <td>...</td>\n",
       "      <td>...</td>\n",
       "      <td>...</td>\n",
       "      <td>...</td>\n",
       "    </tr>\n",
       "    <tr>\n",
       "      <th>1196</th>\n",
       "      <td>Zimska Kolačara</td>\n",
       "      <td>Serbia</td>\n",
       "      <td>1900</td>\n",
       "      <td>A greenish yellow apple. W 55-65, H 65-75, We ...</td>\n",
       "      <td>Eating, Cooking, Pie</td>\n",
       "    </tr>\n",
       "    <tr>\n",
       "      <th>1197</th>\n",
       "      <td>Zoar Greening</td>\n",
       "      <td>US</td>\n",
       "      <td>1865</td>\n",
       "      <td>Flesh white, tender, juicy, subacid, good. Use...</td>\n",
       "      <td>Eating</td>\n",
       "    </tr>\n",
       "    <tr>\n",
       "      <th>1198</th>\n",
       "      <td>Ökna Lökäpple</td>\n",
       "      <td>Sweden</td>\n",
       "      <td>1830</td>\n",
       "      <td>Greenish yellow with some red stripes. H 50, W...</td>\n",
       "      <td>Eating</td>\n",
       "    </tr>\n",
       "    <tr>\n",
       "      <th>1199</th>\n",
       "      <td>Ökna vita Vintergylling</td>\n",
       "      <td>Sweden</td>\n",
       "      <td>1900</td>\n",
       "      <td>A small yellow conical apple. H 60, W 60. Use ...</td>\n",
       "      <td>Cooking, Eating.</td>\n",
       "    </tr>\n",
       "    <tr>\n",
       "      <th>1200</th>\n",
       "      <td>Ölands Kungsäpple</td>\n",
       "      <td>Sweden</td>\n",
       "      <td>1850</td>\n",
       "      <td>A small red conical apple for use in November–...</td>\n",
       "      <td>Eating</td>\n",
       "    </tr>\n",
       "  </tbody>\n",
       "</table>\n",
       "<p>1201 rows × 5 columns</p>\n",
       "</div>"
      ],
      "text/plain": [
       "                       common_name     origin first_developed  \\\n",
       "0                            Abram         US            1850   \n",
       "1                          Acheson     Canada            1941   \n",
       "2                    Acklam Russet    England            1768   \n",
       "3                   Adams Pearmain    England            1826   \n",
       "4     Adina (syn. Frankad, Satark)  Australia             NaN   \n",
       "...                            ...        ...             ...   \n",
       "1196               Zimska Kolačara     Serbia            1900   \n",
       "1197                 Zoar Greening         US            1865   \n",
       "1198                 Ökna Lökäpple     Sweden            1830   \n",
       "1199       Ökna vita Vintergylling     Sweden            1900   \n",
       "1200             Ölands Kungsäpple     Sweden            1850   \n",
       "\n",
       "                                                comment                   use  \n",
       "0     A small apple with red flush. Flesh white, ten...                Eating  \n",
       "1     Fruit large, greenish yellow. P Delicious x un...                Eating  \n",
       "2     A small russet apple. An excellent dessert app...                Eating  \n",
       "3     A dessert apple. First introduced under the na...                Eating  \n",
       "4     A large red apple. Flesh firm, juicy, sweet, v...                Eating  \n",
       "...                                                 ...                   ...  \n",
       "1196  A greenish yellow apple. W 55-65, H 65-75, We ...  Eating, Cooking, Pie  \n",
       "1197  Flesh white, tender, juicy, subacid, good. Use...                Eating  \n",
       "1198  Greenish yellow with some red stripes. H 50, W...                Eating  \n",
       "1199  A small yellow conical apple. H 60, W 60. Use ...      Cooking, Eating.  \n",
       "1200  A small red conical apple for use in November–...                Eating  \n",
       "\n",
       "[1201 rows x 5 columns]"
      ]
     },
     "execution_count": 49,
     "metadata": {},
     "output_type": "execute_result"
    }
   ],
   "source": [
    "df"
   ]
  },
  {
   "cell_type": "markdown",
   "id": "9dbfffa4",
   "metadata": {},
   "source": [
    "## What percentage of apples are just for eating?"
   ]
  },
  {
   "cell_type": "code",
   "execution_count": 100,
   "id": "8dbd808f",
   "metadata": {},
   "outputs": [
    {
     "data": {
      "text/plain": [
       "Eating                                 52.70607826810991\n",
       "Cooking                                11.99000832639467\n",
       "Cooking, Eating                        8.659450457951708\n",
       "NaN                                    8.409658617818485\n",
       "Eating, Cooking                        5.412156536219817\n",
       "                                             ...        \n",
       "Cooking, Drying.                     0.08326394671107411\n",
       "Eating, Cooking, Drying              0.08326394671107411\n",
       "Cooking, (Eating)                    0.08326394671107411\n",
       "Cooking (applesauce), Eating, Pies   0.08326394671107411\n",
       "Eating, cider, juice                 0.08326394671107411\n",
       "Name: use, Length: 73, dtype: float64"
      ]
     },
     "execution_count": 100,
     "metadata": {},
     "output_type": "execute_result"
    }
   ],
   "source": [
    "df.use.value_counts(normalize=True, dropna=False) * 100\n",
    "# df.use.value_counts(normalize=True) * 100"
   ]
  },
  {
   "cell_type": "markdown",
   "id": "b048626a",
   "metadata": {},
   "source": [
    "## Apples are from Kazakhstan, but they've spread since ancient times: calculate the top seven countries for apple cultivars in this dataset"
   ]
  },
  {
   "cell_type": "code",
   "execution_count": 51,
   "id": "e22fa884",
   "metadata": {},
   "outputs": [
    {
     "data": {
      "text/plain": [
       "US         321\n",
       "England    278\n",
       "Germany     75\n",
       "France      38\n",
       "Sweden      35\n",
       "Canada      32\n",
       "Russia      17\n",
       "Name: origin, dtype: int64"
      ]
     },
     "execution_count": 51,
     "metadata": {},
     "output_type": "execute_result"
    }
   ],
   "source": [
    "df.origin.value_counts().head(7)"
   ]
  },
  {
   "cell_type": "markdown",
   "id": "f8c572be",
   "metadata": {},
   "source": [
    "## Plot them with the longest bar at the top"
   ]
  },
  {
   "cell_type": "code",
   "execution_count": 52,
   "id": "d66f3a42",
   "metadata": {},
   "outputs": [
    {
     "data": {
      "text/plain": [
       "<AxesSubplot:>"
      ]
     },
     "execution_count": 52,
     "metadata": {},
     "output_type": "execute_result"
    },
    {
     "data": {
      "image/png": "[encoded data removed]",
      "text/plain": [
       "<Figure size 432x288 with 1 Axes>"
      ]
     },
     "metadata": {
      "needs_background": "light"
     },
     "output_type": "display_data"
    }
   ],
   "source": [
    "df.origin.value_counts().head(7).sort_values().plot(kind='barh')"
   ]
  },
  {
   "cell_type": "markdown",
   "id": "c2a1a9f0",
   "metadata": {},
   "source": [
    "## For apples described as \"small\" in their comment section, how often are they just for eating?"
   ]
  },
  {
   "cell_type": "code",
   "execution_count": 53,
   "id": "44f33c69",
   "metadata": {},
   "outputs": [],
   "source": [
    "df_small = df.dropna(subset=['comment'])"
   ]
  },
  {
   "cell_type": "code",
   "execution_count": 54,
   "id": "aea7114e",
   "metadata": {},
   "outputs": [],
   "source": [
    "small = df_small[df_small.comment.str.contains(\"small\")]"
   ]
  },
  {
   "cell_type": "code",
   "execution_count": 55,
   "id": "bb9175cb",
   "metadata": {},
   "outputs": [
    {
     "data": {
      "text/plain": [
       "Eating                     64.70588235294117\n",
       "Cooking                    8.823529411764707\n",
       "Cider                       5.88235294117647\n",
       "Eating, Cooking             5.88235294117647\n",
       "Cooking, Eating             5.88235294117647\n",
       "Eating, Cooking, Dessert   2.941176470588235\n",
       "Eating, Cooking, Baking    2.941176470588235\n",
       "Cooking, Eating.           2.941176470588235\n",
       "Name: use, dtype: float64"
      ]
     },
     "execution_count": 55,
     "metadata": {},
     "output_type": "execute_result"
    }
   ],
   "source": [
    "small.use.value_counts(normalize=True) * 100"
   ]
  },
  {
   "cell_type": "markdown",
   "id": "8b21dc99",
   "metadata": {},
   "source": [
    "## Save a CSV of just apples from Sweden, calling it `sweden.csv`"
   ]
  },
  {
   "cell_type": "code",
   "execution_count": 85,
   "id": "c595644d",
   "metadata": {},
   "outputs": [],
   "source": [
    "# df.origin.value_counts().head(7)"
   ]
  },
  {
   "cell_type": "code",
   "execution_count": 71,
   "id": "5afce25e",
   "metadata": {},
   "outputs": [],
   "source": [
    "sweden = df[df.origin == 'Sweden']\n",
    "sweden\n",
    "sweden.to_csv('sweden.csv', index = False)"
   ]
  },
  {
   "cell_type": "markdown",
   "id": "56dde209",
   "metadata": {},
   "source": [
    "## What was the first apple cultivar from Japan?"
   ]
  },
  {
   "cell_type": "code",
   "execution_count": 116,
   "id": "da359b15",
   "metadata": {},
   "outputs": [
    {
     "data": {
      "text/html": [
       "<div>\n",
       "<style scoped>\n",
       "    .dataframe tbody tr th:only-of-type {\n",
       "        vertical-align: middle;\n",
       "    }\n",
       "\n",
       "    .dataframe tbody tr th {\n",
       "        vertical-align: top;\n",
       "    }\n",
       "\n",
       "    .dataframe thead th {\n",
       "        text-align: right;\n",
       "    }\n",
       "</style>\n",
       "<table border=\"1\" class=\"dataframe\">\n",
       "  <thead>\n",
       "    <tr style=\"text-align: right;\">\n",
       "      <th></th>\n",
       "      <th>common_name</th>\n",
       "      <th>origin</th>\n",
       "      <th>first_developed</th>\n",
       "      <th>comment</th>\n",
       "      <th>use</th>\n",
       "    </tr>\n",
       "  </thead>\n",
       "  <tbody>\n",
       "    <tr>\n",
       "      <th>1122</th>\n",
       "      <td>Washu 1984</td>\n",
       "      <td>Japan</td>\n",
       "      <td>1920</td>\n",
       "      <td>Conical with light green skin and dark freckle...</td>\n",
       "      <td>Eating</td>\n",
       "    </tr>\n",
       "    <tr>\n",
       "      <th>244</th>\n",
       "      <td>Crispin</td>\n",
       "      <td>Japan</td>\n",
       "      <td>1930</td>\n",
       "      <td>See Mutsu</td>\n",
       "      <td>Eating</td>\n",
       "    </tr>\n",
       "    <tr>\n",
       "      <th>400</th>\n",
       "      <td>Fuji</td>\n",
       "      <td>Japan</td>\n",
       "      <td>1930</td>\n",
       "      <td>P Red Delicious × Ralls Genet. Dark red, conic...</td>\n",
       "      <td>Eating</td>\n",
       "    </tr>\n",
       "  </tbody>\n",
       "</table>\n",
       "</div>"
      ],
      "text/plain": [
       "     common_name origin first_developed  \\\n",
       "1122  Washu 1984  Japan            1920   \n",
       "244      Crispin  Japan            1930   \n",
       "400         Fuji  Japan            1930   \n",
       "\n",
       "                                                comment     use  \n",
       "1122  Conical with light green skin and dark freckle...  Eating  \n",
       "244                                           See Mutsu  Eating  \n",
       "400   P Red Delicious × Ralls Genet. Dark red, conic...  Eating  "
      ]
     },
     "execution_count": 116,
     "metadata": {},
     "output_type": "execute_result"
    }
   ],
   "source": [
    "df[df.origin == 'Japan'].sort_values(by='first_developed', ascending=True).head(3)"
   ]
  },
  {
   "cell_type": "markdown",
   "id": "73a07843",
   "metadata": {},
   "source": [
    "## How old are these apple cultivars?\n",
    "\n",
    "You could use `.describe()`, but I want a graph. **What kind of chart do you use?** I want to see a graph that shows me a summary when these cultivars were discovered/introduced, not a graph of each individual one's year of introduction."
   ]
  },
  {
   "cell_type": "code",
   "execution_count": 141,
   "id": "f2a14499",
   "metadata": {},
   "outputs": [
    {
     "data": {
      "text/plain": [
       "<AxesSubplot:>"
      ]
     },
     "execution_count": 141,
     "metadata": {},
     "output_type": "execute_result"
    },
    {
     "data": {
      "image/png": "[encoded data removed]",
      "text/plain": [
       "<Figure size 432x288 with 1 Axes>"
      ]
     },
     "metadata": {
      "needs_background": "light"
     },
     "output_type": "display_data"
    }
   ],
   "source": [
    "df.first_developed.hist(bins=30)"
   ]
  },
  {
   "cell_type": "code",
   "execution_count": 118,
   "id": "fda3a047",
   "metadata": {},
   "outputs": [
    {
     "data": {
      "text/plain": [
       "count    1200\n",
       "Name: common_name, dtype: int64"
      ]
     },
     "execution_count": 118,
     "metadata": {},
     "output_type": "execute_result"
    }
   ],
   "source": [
    "df.common_name.agg([\"count\", \"mean\"]).round(2)"
   ]
  },
  {
   "cell_type": "code",
   "execution_count": 142,
   "id": "c9f70ce6",
   "metadata": {},
   "outputs": [
    {
     "data": {
      "text/html": [
       "<div>\n",
       "<style scoped>\n",
       "    .dataframe tbody tr th:only-of-type {\n",
       "        vertical-align: middle;\n",
       "    }\n",
       "\n",
       "    .dataframe tbody tr th {\n",
       "        vertical-align: top;\n",
       "    }\n",
       "\n",
       "    .dataframe thead th {\n",
       "        text-align: right;\n",
       "    }\n",
       "</style>\n",
       "<table border=\"1\" class=\"dataframe\">\n",
       "  <thead>\n",
       "    <tr style=\"text-align: right;\">\n",
       "      <th></th>\n",
       "      <th>count</th>\n",
       "      <th>unique</th>\n",
       "      <th>top</th>\n",
       "      <th>freq</th>\n",
       "    </tr>\n",
       "    <tr>\n",
       "      <th>first_developed</th>\n",
       "      <th></th>\n",
       "      <th></th>\n",
       "      <th></th>\n",
       "      <th></th>\n",
       "    </tr>\n",
       "  </thead>\n",
       "  <tbody>\n",
       "    <tr>\n",
       "      <th>1500</th>\n",
       "      <td>1</td>\n",
       "      <td>1</td>\n",
       "      <td>Nonpareil</td>\n",
       "      <td>1</td>\n",
       "    </tr>\n",
       "    <tr>\n",
       "      <th>1580</th>\n",
       "      <td>1</td>\n",
       "      <td>1</td>\n",
       "      <td>London Pippin</td>\n",
       "      <td>1</td>\n",
       "    </tr>\n",
       "    <tr>\n",
       "      <th>1588</th>\n",
       "      <td>1</td>\n",
       "      <td>1</td>\n",
       "      <td>Automn Pearmain</td>\n",
       "      <td>1</td>\n",
       "    </tr>\n",
       "    <tr>\n",
       "      <th>1597</th>\n",
       "      <td>1</td>\n",
       "      <td>1</td>\n",
       "      <td>Royal Russet</td>\n",
       "      <td>1</td>\n",
       "    </tr>\n",
       "    <tr>\n",
       "      <th>1598</th>\n",
       "      <td>1</td>\n",
       "      <td>1</td>\n",
       "      <td>Calville Blanc d'hiver</td>\n",
       "      <td>1</td>\n",
       "    </tr>\n",
       "    <tr>\n",
       "      <th>...</th>\n",
       "      <td>...</td>\n",
       "      <td>...</td>\n",
       "      <td>...</td>\n",
       "      <td>...</td>\n",
       "    </tr>\n",
       "    <tr>\n",
       "      <th>2008</th>\n",
       "      <td>3</td>\n",
       "      <td>3</td>\n",
       "      <td>Delfloga</td>\n",
       "      <td>1</td>\n",
       "    </tr>\n",
       "    <tr>\n",
       "      <th>2009</th>\n",
       "      <td>2</td>\n",
       "      <td>2</td>\n",
       "      <td>Envy</td>\n",
       "      <td>1</td>\n",
       "    </tr>\n",
       "    <tr>\n",
       "      <th>2010</th>\n",
       "      <td>2</td>\n",
       "      <td>2</td>\n",
       "      <td>Deltana</td>\n",
       "      <td>1</td>\n",
       "    </tr>\n",
       "    <tr>\n",
       "      <th>2011</th>\n",
       "      <td>2</td>\n",
       "      <td>2</td>\n",
       "      <td>Autumn Glory</td>\n",
       "      <td>1</td>\n",
       "    </tr>\n",
       "    <tr>\n",
       "      <th>2012</th>\n",
       "      <td>1</td>\n",
       "      <td>1</td>\n",
       "      <td>Admiral</td>\n",
       "      <td>1</td>\n",
       "    </tr>\n",
       "  </tbody>\n",
       "</table>\n",
       "<p>238 rows × 4 columns</p>\n",
       "</div>"
      ],
      "text/plain": [
       "                count unique                     top freq\n",
       "first_developed                                          \n",
       "1500                1      1               Nonpareil    1\n",
       "1580                1      1           London Pippin    1\n",
       "1588                1      1         Automn Pearmain    1\n",
       "1597                1      1            Royal Russet    1\n",
       "1598                1      1  Calville Blanc d'hiver    1\n",
       "...               ...    ...                     ...  ...\n",
       "2008                3      3                Delfloga    1\n",
       "2009                2      2                    Envy    1\n",
       "2010                2      2                 Deltana    1\n",
       "2011                2      2            Autumn Glory    1\n",
       "2012                1      1                 Admiral    1\n",
       "\n",
       "[238 rows x 4 columns]"
      ]
     },
     "execution_count": 142,
     "metadata": {},
     "output_type": "execute_result"
    }
   ],
   "source": [
    "df.groupby('first_developed')['common_name'].describe()"
   ]
  },
  {
   "cell_type": "code",
   "execution_count": 145,
   "id": "7da7dbcb",
   "metadata": {},
   "outputs": [],
   "source": [
    "# df.groupby('first_developed').common_name.value_counts()"
   ]
  },
  {
   "cell_type": "markdown",
   "id": "f7ce0692",
   "metadata": {},
   "source": [
    "## How old are most apple cultivars that are used for creating cider?\n",
    "\n",
    "Cider used to be a big deal, so I would assume they're older. Include **anything that includes \"Cider\" anywhere in the `Use` description**. Make a graph, same as the last question."
   ]
  },
  {
   "cell_type": "code",
   "execution_count": 87,
   "id": "7a41fa65",
   "metadata": {},
   "outputs": [],
   "source": [
    "df_cider = df.dropna(subset=['comment'])"
   ]
  },
  {
   "cell_type": "code",
   "execution_count": 88,
   "id": "532e06ef",
   "metadata": {},
   "outputs": [],
   "source": [
    "cider = df_cider[df_cider.comment.str.contains(\"cider\")]"
   ]
  },
  {
   "cell_type": "code",
   "execution_count": 96,
   "id": "9931fa08",
   "metadata": {},
   "outputs": [],
   "source": [
    "# cider"
   ]
  },
  {
   "cell_type": "code",
   "execution_count": 165,
   "id": "9ed6c18c",
   "metadata": {},
   "outputs": [
    {
     "data": {
      "text/plain": [
       "<AxesSubplot:>"
      ]
     },
     "execution_count": 165,
     "metadata": {},
     "output_type": "execute_result"
    },
    {
     "data": {
      "image/png": "[encoded data removed]",
      "text/plain": [
       "<Figure size 432x288 with 1 Axes>"
      ]
     },
     "metadata": {
      "needs_background": "light"
     },
     "output_type": "display_data"
    }
   ],
   "source": [
    "cider.first_developed.hist(bins=20)"
   ]
  },
  {
   "cell_type": "code",
   "execution_count": 161,
   "id": "fffcda19",
   "metadata": {},
   "outputs": [
    {
     "data": {
      "text/plain": [
       "924     1640\n",
       "758     1759\n",
       "1117    1791\n",
       "1074    1800\n",
       "468     1804\n",
       "168     1817\n",
       "435     1821\n",
       "989     1837\n",
       "442     1845\n",
       "333     1854\n",
       "1009    1866\n",
       "864     1870\n",
       "104     1870\n",
       "919     1880\n",
       "413     1885\n",
       "485     1925\n",
       "568     1930\n",
       "946     1935\n",
       "750     1940\n",
       "822     1944\n",
       "926      NaN\n",
       "Name: first_developed, dtype: object"
      ]
     },
     "execution_count": 161,
     "metadata": {},
     "output_type": "execute_result"
    }
   ],
   "source": [
    "cider.first_developed.sort_values(ascending=True)"
   ]
  },
  {
   "cell_type": "code",
   "execution_count": null,
   "id": "9e28458d",
   "metadata": {},
   "outputs": [],
   "source": []
  }
 ],
 "metadata": {
  "kernelspec": {
   "display_name": "Python 3 (ipykernel)",
   "language": "python",
   "name": "python3"
  },
  "language_info": {
   "codemirror_mode": {
    "name": "ipython",
    "version": 3
   },
   "file_extension": ".py",
   "mimetype": "text/x-python",
   "name": "python",
   "nbconvert_exporter": "python",
   "pygments_lexer": "ipython3",
   "version": "3.10.0"
  }
 },
 "nbformat": 4,
 "nbformat_minor": 5
}
