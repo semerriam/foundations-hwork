{
 "cells": [
  {
   "cell_type": "markdown",
   "id": "5f497065",
   "metadata": {},
   "source": [
    "# COVID Vaccinations\n",
    "\n",
    "* **Data:** `StockX-Data-Contest-2019-3.xlsx`\n",
    "* **Description:** You can buy shoes and resell them later online for more money. Wild world, right? This data is from [StockX](https://stockx.com/)\n",
    "* **Source:** https://stockx.com/news/the-2019-data-contest/\n",
    "* **Columns of interest:**\n",
    "    * `Order Date` is the resale order was completed\n",
    "    * `Brand` is the name of the company producing the shoe\n",
    "    * `Sneaker Name` is the name of the shoe itself\n",
    "    * `Sale Price` is how much the shoe went for at resale\n",
    "    * `Retail Price` is how much the shoe originally cost\n",
    "    * `Release Date` is when the shoe was originally released\n",
    "    * `Shoe Size` is the size of the shoe being sold\n",
    "    * `Buyer Region` is where the shoe's buyer is located\n",
    "\n",
    "This dataset is topical due to the passing of [Virgil Abloh, founder of Off-White](https://www.newyorker.com/culture/postscript/the-remarkable-life-of-virgil-abloh)."
   ]
  },
  {
   "cell_type": "markdown",
   "id": "a34e18b0",
   "metadata": {},
   "source": [
    "## Read in your data\n",
    "\n",
    "This Excel file has multiple sheets in it! You'll need to specify the sheet when you read it in with `sheet_name='Raw Data'`."
   ]
  },
  {
   "cell_type": "code",
   "execution_count": 1,
   "id": "8bdb1cb2",
   "metadata": {},
   "outputs": [
    {
     "name": "stderr",
     "output_type": "stream",
     "text": [
      "/Users/susanmerriam/.pyenv/versions/3.10.0/lib/python3.10/site-packages/pandas/compat/__init__.py:124: UserWarning: Could not import the lzma module. Your installed Python is incomplete. Attempting to use lzma compression will result in a RuntimeError.\n",
      "  warnings.warn(msg)\n"
     ]
    }
   ],
   "source": [
    "import pandas as pd \n",
    "import numpy as np"
   ]
  },
  {
   "cell_type": "code",
   "execution_count": 2,
   "id": "e77a0169",
   "metadata": {},
   "outputs": [],
   "source": [
    "df = pd.read_excel(\"StockX-Data-Contest-2019-3.xlsx\", sheet_name='Raw Data')"
   ]
  },
  {
   "cell_type": "code",
   "execution_count": 5,
   "id": "b5e5e659",
   "metadata": {},
   "outputs": [
    {
     "data": {
      "text/html": [
       "<div>\n",
       "<style scoped>\n",
       "    .dataframe tbody tr th:only-of-type {\n",
       "        vertical-align: middle;\n",
       "    }\n",
       "\n",
       "    .dataframe tbody tr th {\n",
       "        vertical-align: top;\n",
       "    }\n",
       "\n",
       "    .dataframe thead th {\n",
       "        text-align: right;\n",
       "    }\n",
       "</style>\n",
       "<table border=\"1\" class=\"dataframe\">\n",
       "  <thead>\n",
       "    <tr style=\"text-align: right;\">\n",
       "      <th></th>\n",
       "      <th>order_date</th>\n",
       "      <th>brand</th>\n",
       "      <th>sneaker_name</th>\n",
       "      <th>sale_price</th>\n",
       "      <th>retail_price</th>\n",
       "      <th>release_date</th>\n",
       "      <th>shoe_size</th>\n",
       "      <th>buyer_region</th>\n",
       "    </tr>\n",
       "  </thead>\n",
       "  <tbody>\n",
       "    <tr>\n",
       "      <th>0</th>\n",
       "      <td>2017-09-01</td>\n",
       "      <td>Yeezy</td>\n",
       "      <td>Adidas-Yeezy-Boost-350-Low-V2-Beluga</td>\n",
       "      <td>1097.0</td>\n",
       "      <td>220</td>\n",
       "      <td>2016-09-24</td>\n",
       "      <td>11.0</td>\n",
       "      <td>California</td>\n",
       "    </tr>\n",
       "    <tr>\n",
       "      <th>1</th>\n",
       "      <td>2017-09-01</td>\n",
       "      <td>Yeezy</td>\n",
       "      <td>Adidas-Yeezy-Boost-350-V2-Core-Black-Copper</td>\n",
       "      <td>685.0</td>\n",
       "      <td>220</td>\n",
       "      <td>2016-11-23</td>\n",
       "      <td>11.0</td>\n",
       "      <td>California</td>\n",
       "    </tr>\n",
       "    <tr>\n",
       "      <th>2</th>\n",
       "      <td>2017-09-01</td>\n",
       "      <td>Yeezy</td>\n",
       "      <td>Adidas-Yeezy-Boost-350-V2-Core-Black-Green</td>\n",
       "      <td>690.0</td>\n",
       "      <td>220</td>\n",
       "      <td>2016-11-23</td>\n",
       "      <td>11.0</td>\n",
       "      <td>California</td>\n",
       "    </tr>\n",
       "  </tbody>\n",
       "</table>\n",
       "</div>"
      ],
      "text/plain": [
       "  order_date   brand                                 sneaker_name  sale_price  \\\n",
       "0 2017-09-01   Yeezy         Adidas-Yeezy-Boost-350-Low-V2-Beluga      1097.0   \n",
       "1 2017-09-01   Yeezy  Adidas-Yeezy-Boost-350-V2-Core-Black-Copper       685.0   \n",
       "2 2017-09-01   Yeezy   Adidas-Yeezy-Boost-350-V2-Core-Black-Green       690.0   \n",
       "\n",
       "   retail_price release_date  shoe_size buyer_region  \n",
       "0           220   2016-09-24       11.0   California  \n",
       "1           220   2016-11-23       11.0   California  \n",
       "2           220   2016-11-23       11.0   California  "
      ]
     },
     "execution_count": 5,
     "metadata": {},
     "output_type": "execute_result"
    }
   ],
   "source": [
    "df.columns = df.columns.str.lower().str.replace(\" \", \"_\")\n",
    "df.head(3)"
   ]
  },
  {
   "cell_type": "markdown",
   "id": "64b9e32d",
   "metadata": {},
   "source": [
    "## What brand had more sales?\n",
    "\n",
    "Yes, there are only two of them."
   ]
  },
  {
   "cell_type": "code",
   "execution_count": null,
   "id": "4586bb21",
   "metadata": {},
   "outputs": [],
   "source": [
    "# note: just started this at 11:35\n",
    "# df.groupby('brand')['complaint_type'].value_counts().groupby(level=0, group_keys=False).nlargest(3)"
   ]
  },
  {
   "cell_type": "markdown",
   "id": "8fd1ebce",
   "metadata": {},
   "source": [
    "## What's the most common sneaker sold?\n",
    "\n",
    "I'd like you to write a sentence like `____ is the most common sneaker sold, capturing ___ percent of the market.`"
   ]
  },
  {
   "cell_type": "code",
   "execution_count": null,
   "id": "f1bf0242",
   "metadata": {},
   "outputs": [],
   "source": []
  },
  {
   "cell_type": "markdown",
   "id": "bc5be5ba",
   "metadata": {},
   "source": [
    "## What was the median difference between the sale price and the retail price?"
   ]
  },
  {
   "cell_type": "code",
   "execution_count": null,
   "id": "1afcd0e8",
   "metadata": {},
   "outputs": [],
   "source": []
  },
  {
   "cell_type": "markdown",
   "id": "025edaed",
   "metadata": {},
   "source": [
    "## What were the total sales (in dollars) to South Dakota, New Mexico, and Vermont?"
   ]
  },
  {
   "cell_type": "code",
   "execution_count": null,
   "id": "07d39264",
   "metadata": {},
   "outputs": [],
   "source": []
  },
  {
   "cell_type": "markdown",
   "id": "2f971a8d",
   "metadata": {},
   "source": [
    "## What were the total sales (in dollars) of shoes sized 5, 6 and 7?"
   ]
  },
  {
   "cell_type": "code",
   "execution_count": null,
   "id": "00363d4c",
   "metadata": {},
   "outputs": [],
   "source": []
  },
  {
   "cell_type": "markdown",
   "id": "f541836c",
   "metadata": {},
   "source": [
    "## What sneakers sold, on average, for the highest sale price?"
   ]
  },
  {
   "cell_type": "code",
   "execution_count": null,
   "id": "265eb338",
   "metadata": {
    "scrolled": true
   },
   "outputs": [],
   "source": []
  },
  {
   "cell_type": "markdown",
   "id": "5f640f47",
   "metadata": {},
   "source": [
    "## How many shoes in the dataset were produced by Nike?\n",
    "\n",
    "A sneaker with either 'Nike' or 'Jordan' in the name is going to be produced by Nike. "
   ]
  },
  {
   "cell_type": "code",
   "execution_count": null,
   "id": "14d08a1a",
   "metadata": {},
   "outputs": [],
   "source": []
  },
  {
   "cell_type": "markdown",
   "id": "6e50058c",
   "metadata": {},
   "source": [
    "## What are the top 3 months for buying shoes? (This is order date, not release date)\n",
    "\n",
    "People like to buy shoes for Christmas, or with money they received during Christmas. "
   ]
  },
  {
   "cell_type": "code",
   "execution_count": null,
   "id": "203a4f1a",
   "metadata": {},
   "outputs": [],
   "source": []
  },
  {
   "cell_type": "code",
   "execution_count": null,
   "id": "d40cfed2",
   "metadata": {},
   "outputs": [],
   "source": []
  },
  {
   "cell_type": "markdown",
   "id": "145ab20a",
   "metadata": {},
   "source": [
    "## What month had the most total money spent on the shoes in this dataset?\n",
    "\n",
    "Not super-month, but rather instead something like May 2017. And If you get weird decimals like `5,068,067.6894`, don't worry, the data is just a little dirty."
   ]
  },
  {
   "cell_type": "code",
   "execution_count": null,
   "id": "de14f361",
   "metadata": {
    "scrolled": true
   },
   "outputs": [],
   "source": []
  },
  {
   "cell_type": "code",
   "execution_count": null,
   "id": "089dba50",
   "metadata": {},
   "outputs": [],
   "source": []
  }
 ],
 "metadata": {
  "kernelspec": {
   "display_name": "Python 3 (ipykernel)",
   "language": "python",
   "name": "python3"
  },
  "language_info": {
   "codemirror_mode": {
    "name": "ipython",
    "version": 3
   },
   "file_extension": ".py",
   "mimetype": "text/x-python",
   "name": "python",
   "nbconvert_exporter": "python",
   "pygments_lexer": "ipython3",
   "version": "3.10.0"
  }
 },
 "nbformat": 4,
 "nbformat_minor": 5
}
