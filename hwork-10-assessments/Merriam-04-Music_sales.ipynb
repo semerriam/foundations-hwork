{
 "cells": [
  {
   "cell_type": "markdown",
   "id": "b1ac0e19",
   "metadata": {},
   "source": [
    "# U.S. Recorded Music Revenues by Format\n",
    "\n",
    "* **Data:** `Revenue_Chart_Full_Data_data.csv`\n",
    "* **Description:** Once upon a time cassette tapes were popular. This is their dataset.\n",
    "* **Source:** https://public.tableau.com/shared/4Z36JM5NN?%3AshowVizHome=no\n",
    "* **Columns of interest:**\n",
    "    * `Format` the format of the music - cassette, vinyl, CD, etc.\n",
    "    * `Year` is the year the data is for\n",
    "    * `Value (For Charting)` is the revenue (in millions) that format made in that year\n",
    "\n",
    "The file is tab-separated, not comma-separated, so you'll need to pass in `sep='\\t'` when reading it in."
   ]
  },
  {
   "cell_type": "code",
   "execution_count": 8,
   "id": "efc1ec98",
   "metadata": {},
   "outputs": [
    {
     "name": "stderr",
     "output_type": "stream",
     "text": [
      "/Users/sm/.pyenv/versions/3.10.0/lib/python3.10/site-packages/pandas/compat/__init__.py:124: UserWarning: Could not import the lzma module. Your installed Python is incomplete. Attempting to use lzma compression will result in a RuntimeError.\n",
      "  warnings.warn(msg)\n"
     ]
    }
   ],
   "source": [
    "import pandas as pd \n",
    "import numpy as np\n",
    "import matplotlib.pyplot as plt\n",
    "# import requests"
   ]
  },
  {
   "cell_type": "code",
   "execution_count": 11,
   "id": "b723ee48",
   "metadata": {},
   "outputs": [],
   "source": [
    "pd.set_option(\"display.max_columns\", None)\n",
    "pd.set_option(\"display.float_format\", '{:,}'.format)"
   ]
  },
  {
   "cell_type": "code",
   "execution_count": 12,
   "id": "983fe44a",
   "metadata": {},
   "outputs": [],
   "source": [
    "df = pd.read_csv(\"Revenue_Chart_Full_Data_data.csv\",\n",
    "                 sep='\\t', \n",
    "                 na_values=[0],\n",
    "                 encoding=\"latin-1\")"
   ]
  },
  {
   "cell_type": "code",
   "execution_count": 33,
   "id": "0ae20b90",
   "metadata": {},
   "outputs": [],
   "source": [
    "df.columns = df.columns.str.lower().str.replace(\" \", \"_\")"
   ]
  },
  {
   "cell_type": "code",
   "execution_count": 36,
   "id": "3d8fb70e",
   "metadata": {},
   "outputs": [],
   "source": [
    "df.format = df.format.str.lower().replace(\" \", \"_\")"
   ]
  },
  {
   "cell_type": "code",
   "execution_count": 37,
   "id": "e819e4f6",
   "metadata": {},
   "outputs": [
    {
     "data": {
      "text/html": [
       "<div>\n",
       "<style scoped>\n",
       "    .dataframe tbody tr th:only-of-type {\n",
       "        vertical-align: middle;\n",
       "    }\n",
       "\n",
       "    .dataframe tbody tr th {\n",
       "        vertical-align: top;\n",
       "    }\n",
       "\n",
       "    .dataframe thead th {\n",
       "        text-align: right;\n",
       "    }\n",
       "</style>\n",
       "<table border=\"1\" class=\"dataframe\">\n",
       "  <thead>\n",
       "    <tr style=\"text-align: right;\">\n",
       "      <th></th>\n",
       "      <th>year_of_year_date</th>\n",
       "      <th>adjusted_for_inflation_notes</th>\n",
       "      <th>adjusted_for_inflation_title</th>\n",
       "      <th>format</th>\n",
       "      <th>metric</th>\n",
       "      <th>year</th>\n",
       "      <th>value_(for_charting)</th>\n",
       "      <th>adjusted_for_inflation_flag</th>\n",
       "      <th>year_date</th>\n",
       "      <th>format_value_#_(billion)</th>\n",
       "      <th>format_value_#_(million)</th>\n",
       "      <th>total_value_#_(billion)</th>\n",
       "      <th>total_value_#_(million)</th>\n",
       "      <th>total_value_for_year</th>\n",
       "      <th>value_(actual)</th>\n",
       "      <th>year_(copy)</th>\n",
       "      <th>revenue</th>\n",
       "    </tr>\n",
       "  </thead>\n",
       "  <tbody>\n",
       "    <tr>\n",
       "      <th>0</th>\n",
       "      <td>2005</td>\n",
       "      <td>NaN</td>\n",
       "      <td>NaN</td>\n",
       "      <td>cassette</td>\n",
       "      <td>Value</td>\n",
       "      <td>2005</td>\n",
       "      <td>13.1</td>\n",
       "      <td>NaN</td>\n",
       "      <td>2005</td>\n",
       "      <td>NaN</td>\n",
       "      <td>$13.1M</td>\n",
       "      <td>$12.3B</td>\n",
       "      <td>NaN</td>\n",
       "      <td>$12289.9B</td>\n",
       "      <td>13.1</td>\n",
       "      <td>2005</td>\n",
       "      <td>13,100,000.0</td>\n",
       "    </tr>\n",
       "    <tr>\n",
       "      <th>1</th>\n",
       "      <td>2015</td>\n",
       "      <td>NaN</td>\n",
       "      <td>NaN</td>\n",
       "      <td>cd single</td>\n",
       "      <td>Value</td>\n",
       "      <td>2015</td>\n",
       "      <td>1.19694661</td>\n",
       "      <td>NaN</td>\n",
       "      <td>2015</td>\n",
       "      <td>NaN</td>\n",
       "      <td>$1.2M</td>\n",
       "      <td>$6.7B</td>\n",
       "      <td>NaN</td>\n",
       "      <td>$6710.8B</td>\n",
       "      <td>1.19694661</td>\n",
       "      <td>2015</td>\n",
       "      <td>1,196,946.61</td>\n",
       "    </tr>\n",
       "    <tr>\n",
       "      <th>2</th>\n",
       "      <td>2015</td>\n",
       "      <td>NaN</td>\n",
       "      <td>NaN</td>\n",
       "      <td>paid subscription</td>\n",
       "      <td>Value</td>\n",
       "      <td>2015</td>\n",
       "      <td>1,156.708513551</td>\n",
       "      <td>NaN</td>\n",
       "      <td>2015</td>\n",
       "      <td>$1.2B</td>\n",
       "      <td>NaN</td>\n",
       "      <td>$6.7B</td>\n",
       "      <td>NaN</td>\n",
       "      <td>$6710.8B</td>\n",
       "      <td>1,156.708513551</td>\n",
       "      <td>2015</td>\n",
       "      <td>1,156,708,513.55</td>\n",
       "    </tr>\n",
       "    <tr>\n",
       "      <th>3</th>\n",
       "      <td>2017</td>\n",
       "      <td>NaN</td>\n",
       "      <td>NaN</td>\n",
       "      <td>download single</td>\n",
       "      <td>Value</td>\n",
       "      <td>2017</td>\n",
       "      <td>667.875936447</td>\n",
       "      <td>NaN</td>\n",
       "      <td>2017</td>\n",
       "      <td>NaN</td>\n",
       "      <td>$667.9M</td>\n",
       "      <td>$8.5B</td>\n",
       "      <td>NaN</td>\n",
       "      <td>$8503.2B</td>\n",
       "      <td>667.875936447</td>\n",
       "      <td>2017</td>\n",
       "      <td>667,875,936.45</td>\n",
       "    </tr>\n",
       "    <tr>\n",
       "      <th>4</th>\n",
       "      <td>1986</td>\n",
       "      <td>NaN</td>\n",
       "      <td>NaN</td>\n",
       "      <td>vinyl single</td>\n",
       "      <td>Value</td>\n",
       "      <td>1986</td>\n",
       "      <td>228.1</td>\n",
       "      <td>NaN</td>\n",
       "      <td>1986</td>\n",
       "      <td>NaN</td>\n",
       "      <td>$228.1M</td>\n",
       "      <td>$4.6B</td>\n",
       "      <td>NaN</td>\n",
       "      <td>$4640.7B</td>\n",
       "      <td>228.1</td>\n",
       "      <td>1986</td>\n",
       "      <td>228,100,000.0</td>\n",
       "    </tr>\n",
       "    <tr>\n",
       "      <th>...</th>\n",
       "      <td>...</td>\n",
       "      <td>...</td>\n",
       "      <td>...</td>\n",
       "      <td>...</td>\n",
       "      <td>...</td>\n",
       "      <td>...</td>\n",
       "      <td>...</td>\n",
       "      <td>...</td>\n",
       "      <td>...</td>\n",
       "      <td>...</td>\n",
       "      <td>...</td>\n",
       "      <td>...</td>\n",
       "      <td>...</td>\n",
       "      <td>...</td>\n",
       "      <td>...</td>\n",
       "      <td>...</td>\n",
       "      <td>...</td>\n",
       "    </tr>\n",
       "    <tr>\n",
       "      <th>448</th>\n",
       "      <td>2010</td>\n",
       "      <td>NaN</td>\n",
       "      <td>NaN</td>\n",
       "      <td>vinyl single</td>\n",
       "      <td>Value</td>\n",
       "      <td>2010</td>\n",
       "      <td>2.3</td>\n",
       "      <td>NaN</td>\n",
       "      <td>2010</td>\n",
       "      <td>NaN</td>\n",
       "      <td>$2.3M</td>\n",
       "      <td>$7.0B</td>\n",
       "      <td>NaN</td>\n",
       "      <td>$7013.8B</td>\n",
       "      <td>2.3</td>\n",
       "      <td>2010</td>\n",
       "      <td>2,300,000.0</td>\n",
       "    </tr>\n",
       "    <tr>\n",
       "      <th>449</th>\n",
       "      <td>1989</td>\n",
       "      <td>NaN</td>\n",
       "      <td>NaN</td>\n",
       "      <td>lp/ep</td>\n",
       "      <td>Value</td>\n",
       "      <td>1989</td>\n",
       "      <td>220.3</td>\n",
       "      <td>NaN</td>\n",
       "      <td>1989</td>\n",
       "      <td>NaN</td>\n",
       "      <td>$220.3M</td>\n",
       "      <td>$6.6B</td>\n",
       "      <td>NaN</td>\n",
       "      <td>$6580.2B</td>\n",
       "      <td>220.3</td>\n",
       "      <td>1989</td>\n",
       "      <td>220,300,000.0</td>\n",
       "    </tr>\n",
       "    <tr>\n",
       "      <th>450</th>\n",
       "      <td>1982</td>\n",
       "      <td>NaN</td>\n",
       "      <td>NaN</td>\n",
       "      <td>vinyl single</td>\n",
       "      <td>Value</td>\n",
       "      <td>1982</td>\n",
       "      <td>283.0</td>\n",
       "      <td>NaN</td>\n",
       "      <td>1982</td>\n",
       "      <td>NaN</td>\n",
       "      <td>$283.0M</td>\n",
       "      <td>$3.6B</td>\n",
       "      <td>NaN</td>\n",
       "      <td>$3628.6B</td>\n",
       "      <td>283.0</td>\n",
       "      <td>1982</td>\n",
       "      <td>283,000,000.0</td>\n",
       "    </tr>\n",
       "    <tr>\n",
       "      <th>451</th>\n",
       "      <td>2016</td>\n",
       "      <td>NaN</td>\n",
       "      <td>NaN</td>\n",
       "      <td>ringtones &amp; ringbacks</td>\n",
       "      <td>Value</td>\n",
       "      <td>2016</td>\n",
       "      <td>56.325299125</td>\n",
       "      <td>NaN</td>\n",
       "      <td>2016</td>\n",
       "      <td>NaN</td>\n",
       "      <td>$56.3M</td>\n",
       "      <td>$7.5B</td>\n",
       "      <td>NaN</td>\n",
       "      <td>$7491.7B</td>\n",
       "      <td>56.325299125</td>\n",
       "      <td>2016</td>\n",
       "      <td>56,325,299.12</td>\n",
       "    </tr>\n",
       "    <tr>\n",
       "      <th>452</th>\n",
       "      <td>2016</td>\n",
       "      <td>NaN</td>\n",
       "      <td>NaN</td>\n",
       "      <td>vinyl single</td>\n",
       "      <td>Value</td>\n",
       "      <td>2016</td>\n",
       "      <td>4.880679689</td>\n",
       "      <td>NaN</td>\n",
       "      <td>2016</td>\n",
       "      <td>NaN</td>\n",
       "      <td>$4.9M</td>\n",
       "      <td>$7.5B</td>\n",
       "      <td>NaN</td>\n",
       "      <td>$7491.7B</td>\n",
       "      <td>4.880679689</td>\n",
       "      <td>2016</td>\n",
       "      <td>4,880,679.69</td>\n",
       "    </tr>\n",
       "  </tbody>\n",
       "</table>\n",
       "<p>453 rows × 17 columns</p>\n",
       "</div>"
      ],
      "text/plain": [
       "     year_of_year_date  adjusted_for_inflation_notes  \\\n",
       "0                 2005                           NaN   \n",
       "1                 2015                           NaN   \n",
       "2                 2015                           NaN   \n",
       "3                 2017                           NaN   \n",
       "4                 1986                           NaN   \n",
       "..                 ...                           ...   \n",
       "448               2010                           NaN   \n",
       "449               1989                           NaN   \n",
       "450               1982                           NaN   \n",
       "451               2016                           NaN   \n",
       "452               2016                           NaN   \n",
       "\n",
       "     adjusted_for_inflation_title                 format metric  year  \\\n",
       "0                             NaN               cassette  Value  2005   \n",
       "1                             NaN              cd single  Value  2015   \n",
       "2                             NaN      paid subscription  Value  2015   \n",
       "3                             NaN        download single  Value  2017   \n",
       "4                             NaN           vinyl single  Value  1986   \n",
       "..                            ...                    ...    ...   ...   \n",
       "448                           NaN           vinyl single  Value  2010   \n",
       "449                           NaN                  lp/ep  Value  1989   \n",
       "450                           NaN           vinyl single  Value  1982   \n",
       "451                           NaN  ringtones & ringbacks  Value  2016   \n",
       "452                           NaN           vinyl single  Value  2016   \n",
       "\n",
       "     value_(for_charting)  adjusted_for_inflation_flag  year_date  \\\n",
       "0                    13.1                          NaN       2005   \n",
       "1              1.19694661                          NaN       2015   \n",
       "2         1,156.708513551                          NaN       2015   \n",
       "3           667.875936447                          NaN       2017   \n",
       "4                   228.1                          NaN       1986   \n",
       "..                    ...                          ...        ...   \n",
       "448                   2.3                          NaN       2010   \n",
       "449                 220.3                          NaN       1989   \n",
       "450                 283.0                          NaN       1982   \n",
       "451          56.325299125                          NaN       2016   \n",
       "452           4.880679689                          NaN       2016   \n",
       "\n",
       "    format_value_#_(billion) format_value_#_(million) total_value_#_(billion)  \\\n",
       "0                        NaN                   $13.1M                  $12.3B   \n",
       "1                        NaN                    $1.2M                   $6.7B   \n",
       "2                      $1.2B                      NaN                   $6.7B   \n",
       "3                        NaN                  $667.9M                   $8.5B   \n",
       "4                        NaN                  $228.1M                   $4.6B   \n",
       "..                       ...                      ...                     ...   \n",
       "448                      NaN                    $2.3M                   $7.0B   \n",
       "449                      NaN                  $220.3M                   $6.6B   \n",
       "450                      NaN                  $283.0M                   $3.6B   \n",
       "451                      NaN                   $56.3M                   $7.5B   \n",
       "452                      NaN                    $4.9M                   $7.5B   \n",
       "\n",
       "     total_value_#_(million) total_value_for_year  value_(actual)  \\\n",
       "0                        NaN            $12289.9B            13.1   \n",
       "1                        NaN             $6710.8B      1.19694661   \n",
       "2                        NaN             $6710.8B 1,156.708513551   \n",
       "3                        NaN             $8503.2B   667.875936447   \n",
       "4                        NaN             $4640.7B           228.1   \n",
       "..                       ...                  ...             ...   \n",
       "448                      NaN             $7013.8B             2.3   \n",
       "449                      NaN             $6580.2B           220.3   \n",
       "450                      NaN             $3628.6B           283.0   \n",
       "451                      NaN             $7491.7B    56.325299125   \n",
       "452                      NaN             $7491.7B     4.880679689   \n",
       "\n",
       "     year_(copy)          revenue  \n",
       "0           2005     13,100,000.0  \n",
       "1           2015     1,196,946.61  \n",
       "2           2015 1,156,708,513.55  \n",
       "3           2017   667,875,936.45  \n",
       "4           1986    228,100,000.0  \n",
       "..           ...              ...  \n",
       "448         2010      2,300,000.0  \n",
       "449         1989    220,300,000.0  \n",
       "450         1982    283,000,000.0  \n",
       "451         2016    56,325,299.12  \n",
       "452         2016     4,880,679.69  \n",
       "\n",
       "[453 rows x 17 columns]"
      ]
     },
     "execution_count": 37,
     "metadata": {},
     "output_type": "execute_result"
    }
   ],
   "source": [
    "df"
   ]
  },
  {
   "cell_type": "markdown",
   "id": "bbd2a754",
   "metadata": {},
   "source": [
    "## Create a numeric column called `revenue` that is the amount of revenue in dollars"
   ]
  },
  {
   "cell_type": "code",
   "execution_count": 38,
   "id": "2fe6fb31",
   "metadata": {},
   "outputs": [
    {
     "ename": "ValueError",
     "evalue": "cannot insert revenue, already exists",
     "output_type": "error",
     "traceback": [
      "\u001b[0;31m---------------------------------------------------------------------------\u001b[0m",
      "\u001b[0;31mValueError\u001b[0m                                Traceback (most recent call last)",
      "\u001b[0;32m/var/folders/c2/zngcssg14mv23nw0yr96s0wm0000gn/T/ipykernel_44646/2123466671.py\u001b[0m in \u001b[0;36m<module>\u001b[0;34m\u001b[0m\n\u001b[1;32m      1\u001b[0m \u001b[0mdf\u001b[0m\u001b[0;34m[\u001b[0m\u001b[0;34m'revenue'\u001b[0m\u001b[0;34m]\u001b[0m \u001b[0;34m=\u001b[0m \u001b[0;34m(\u001b[0m\u001b[0mdf\u001b[0m\u001b[0;34m[\u001b[0m\u001b[0;34m'value_(for_charting)'\u001b[0m\u001b[0;34m]\u001b[0m \u001b[0;34m*\u001b[0m \u001b[0;36m1000000\u001b[0m\u001b[0;34m)\u001b[0m\u001b[0;34m.\u001b[0m\u001b[0mround\u001b[0m\u001b[0;34m(\u001b[0m\u001b[0;36m2\u001b[0m\u001b[0;34m)\u001b[0m\u001b[0;34m\u001b[0m\u001b[0;34m\u001b[0m\u001b[0m\n\u001b[0;32m----> 2\u001b[0;31m \u001b[0mdf\u001b[0m\u001b[0;34m.\u001b[0m\u001b[0minsert\u001b[0m\u001b[0;34m(\u001b[0m\u001b[0;36m1\u001b[0m\u001b[0;34m,\u001b[0m \u001b[0;34m\"revenue\"\u001b[0m\u001b[0;34m,\u001b[0m \u001b[0mdf\u001b[0m\u001b[0;34m[\u001b[0m\u001b[0;34m'revenue'\u001b[0m\u001b[0;34m]\u001b[0m\u001b[0;34m)\u001b[0m\u001b[0;34m\u001b[0m\u001b[0;34m\u001b[0m\u001b[0m\n\u001b[0m\u001b[1;32m      3\u001b[0m \u001b[0mdf\u001b[0m\u001b[0;34m.\u001b[0m\u001b[0mrevenue\u001b[0m \u001b[0;34m=\u001b[0m \u001b[0mdf\u001b[0m\u001b[0;34m.\u001b[0m\u001b[0mrevenue\u001b[0m\u001b[0;34m.\u001b[0m\u001b[0mastype\u001b[0m\u001b[0;34m(\u001b[0m\u001b[0mfloat\u001b[0m\u001b[0;34m)\u001b[0m\u001b[0;34m\u001b[0m\u001b[0;34m\u001b[0m\u001b[0m\n",
      "\u001b[0;32m~/.pyenv/versions/3.10.0/lib/python3.10/site-packages/pandas/core/frame.py\u001b[0m in \u001b[0;36minsert\u001b[0;34m(self, loc, column, value, allow_duplicates)\u001b[0m\n\u001b[1;32m   4412\u001b[0m         \u001b[0;32mif\u001b[0m \u001b[0;32mnot\u001b[0m \u001b[0mallow_duplicates\u001b[0m \u001b[0;32mand\u001b[0m \u001b[0mcolumn\u001b[0m \u001b[0;32min\u001b[0m \u001b[0mself\u001b[0m\u001b[0;34m.\u001b[0m\u001b[0mcolumns\u001b[0m\u001b[0;34m:\u001b[0m\u001b[0;34m\u001b[0m\u001b[0;34m\u001b[0m\u001b[0m\n\u001b[1;32m   4413\u001b[0m             \u001b[0;31m# Should this be a different kind of error??\u001b[0m\u001b[0;34m\u001b[0m\u001b[0;34m\u001b[0m\u001b[0m\n\u001b[0;32m-> 4414\u001b[0;31m             \u001b[0;32mraise\u001b[0m \u001b[0mValueError\u001b[0m\u001b[0;34m(\u001b[0m\u001b[0;34mf\"cannot insert {column}, already exists\"\u001b[0m\u001b[0;34m)\u001b[0m\u001b[0;34m\u001b[0m\u001b[0;34m\u001b[0m\u001b[0m\n\u001b[0m\u001b[1;32m   4415\u001b[0m         \u001b[0;32mif\u001b[0m \u001b[0;32mnot\u001b[0m \u001b[0misinstance\u001b[0m\u001b[0;34m(\u001b[0m\u001b[0mloc\u001b[0m\u001b[0;34m,\u001b[0m \u001b[0mint\u001b[0m\u001b[0;34m)\u001b[0m\u001b[0;34m:\u001b[0m\u001b[0;34m\u001b[0m\u001b[0;34m\u001b[0m\u001b[0m\n\u001b[1;32m   4416\u001b[0m             \u001b[0;32mraise\u001b[0m \u001b[0mTypeError\u001b[0m\u001b[0;34m(\u001b[0m\u001b[0;34m\"loc must be int\"\u001b[0m\u001b[0;34m)\u001b[0m\u001b[0;34m\u001b[0m\u001b[0;34m\u001b[0m\u001b[0m\n",
      "\u001b[0;31mValueError\u001b[0m: cannot insert revenue, already exists"
     ]
    }
   ],
   "source": [
    "df['revenue'] = (df['value_(for_charting)'] * 1000000).round(2)\n",
    "df.insert(1, \"revenue\", df['revenue'])\n",
    "df.revenue = df.revenue.astype(float)"
   ]
  },
  {
   "cell_type": "code",
   "execution_count": 39,
   "id": "3c1f0f2d",
   "metadata": {},
   "outputs": [
    {
     "data": {
      "text/html": [
       "<div>\n",
       "<style scoped>\n",
       "    .dataframe tbody tr th:only-of-type {\n",
       "        vertical-align: middle;\n",
       "    }\n",
       "\n",
       "    .dataframe tbody tr th {\n",
       "        vertical-align: top;\n",
       "    }\n",
       "\n",
       "    .dataframe thead th {\n",
       "        text-align: right;\n",
       "    }\n",
       "</style>\n",
       "<table border=\"1\" class=\"dataframe\">\n",
       "  <thead>\n",
       "    <tr style=\"text-align: right;\">\n",
       "      <th></th>\n",
       "      <th>year_of_year_date</th>\n",
       "      <th>adjusted_for_inflation_notes</th>\n",
       "      <th>adjusted_for_inflation_title</th>\n",
       "      <th>format</th>\n",
       "      <th>metric</th>\n",
       "      <th>year</th>\n",
       "      <th>value_(for_charting)</th>\n",
       "      <th>adjusted_for_inflation_flag</th>\n",
       "      <th>year_date</th>\n",
       "      <th>format_value_#_(billion)</th>\n",
       "      <th>format_value_#_(million)</th>\n",
       "      <th>total_value_#_(billion)</th>\n",
       "      <th>total_value_#_(million)</th>\n",
       "      <th>total_value_for_year</th>\n",
       "      <th>value_(actual)</th>\n",
       "      <th>year_(copy)</th>\n",
       "      <th>revenue</th>\n",
       "    </tr>\n",
       "  </thead>\n",
       "  <tbody>\n",
       "    <tr>\n",
       "      <th>0</th>\n",
       "      <td>2005</td>\n",
       "      <td>NaN</td>\n",
       "      <td>NaN</td>\n",
       "      <td>cassette</td>\n",
       "      <td>Value</td>\n",
       "      <td>2005</td>\n",
       "      <td>13.1</td>\n",
       "      <td>NaN</td>\n",
       "      <td>2005</td>\n",
       "      <td>NaN</td>\n",
       "      <td>$13.1M</td>\n",
       "      <td>$12.3B</td>\n",
       "      <td>NaN</td>\n",
       "      <td>$12289.9B</td>\n",
       "      <td>13.1</td>\n",
       "      <td>2005</td>\n",
       "      <td>13,100,000.0</td>\n",
       "    </tr>\n",
       "    <tr>\n",
       "      <th>1</th>\n",
       "      <td>2015</td>\n",
       "      <td>NaN</td>\n",
       "      <td>NaN</td>\n",
       "      <td>cd single</td>\n",
       "      <td>Value</td>\n",
       "      <td>2015</td>\n",
       "      <td>1.19694661</td>\n",
       "      <td>NaN</td>\n",
       "      <td>2015</td>\n",
       "      <td>NaN</td>\n",
       "      <td>$1.2M</td>\n",
       "      <td>$6.7B</td>\n",
       "      <td>NaN</td>\n",
       "      <td>$6710.8B</td>\n",
       "      <td>1.19694661</td>\n",
       "      <td>2015</td>\n",
       "      <td>1,196,946.61</td>\n",
       "    </tr>\n",
       "    <tr>\n",
       "      <th>2</th>\n",
       "      <td>2015</td>\n",
       "      <td>NaN</td>\n",
       "      <td>NaN</td>\n",
       "      <td>paid subscription</td>\n",
       "      <td>Value</td>\n",
       "      <td>2015</td>\n",
       "      <td>1,156.708513551</td>\n",
       "      <td>NaN</td>\n",
       "      <td>2015</td>\n",
       "      <td>$1.2B</td>\n",
       "      <td>NaN</td>\n",
       "      <td>$6.7B</td>\n",
       "      <td>NaN</td>\n",
       "      <td>$6710.8B</td>\n",
       "      <td>1,156.708513551</td>\n",
       "      <td>2015</td>\n",
       "      <td>1,156,708,513.55</td>\n",
       "    </tr>\n",
       "    <tr>\n",
       "      <th>3</th>\n",
       "      <td>2017</td>\n",
       "      <td>NaN</td>\n",
       "      <td>NaN</td>\n",
       "      <td>download single</td>\n",
       "      <td>Value</td>\n",
       "      <td>2017</td>\n",
       "      <td>667.875936447</td>\n",
       "      <td>NaN</td>\n",
       "      <td>2017</td>\n",
       "      <td>NaN</td>\n",
       "      <td>$667.9M</td>\n",
       "      <td>$8.5B</td>\n",
       "      <td>NaN</td>\n",
       "      <td>$8503.2B</td>\n",
       "      <td>667.875936447</td>\n",
       "      <td>2017</td>\n",
       "      <td>667,875,936.45</td>\n",
       "    </tr>\n",
       "    <tr>\n",
       "      <th>4</th>\n",
       "      <td>1986</td>\n",
       "      <td>NaN</td>\n",
       "      <td>NaN</td>\n",
       "      <td>vinyl single</td>\n",
       "      <td>Value</td>\n",
       "      <td>1986</td>\n",
       "      <td>228.1</td>\n",
       "      <td>NaN</td>\n",
       "      <td>1986</td>\n",
       "      <td>NaN</td>\n",
       "      <td>$228.1M</td>\n",
       "      <td>$4.6B</td>\n",
       "      <td>NaN</td>\n",
       "      <td>$4640.7B</td>\n",
       "      <td>228.1</td>\n",
       "      <td>1986</td>\n",
       "      <td>228,100,000.0</td>\n",
       "    </tr>\n",
       "  </tbody>\n",
       "</table>\n",
       "</div>"
      ],
      "text/plain": [
       "   year_of_year_date  adjusted_for_inflation_notes  \\\n",
       "0               2005                           NaN   \n",
       "1               2015                           NaN   \n",
       "2               2015                           NaN   \n",
       "3               2017                           NaN   \n",
       "4               1986                           NaN   \n",
       "\n",
       "   adjusted_for_inflation_title             format metric  year  \\\n",
       "0                           NaN           cassette  Value  2005   \n",
       "1                           NaN          cd single  Value  2015   \n",
       "2                           NaN  paid subscription  Value  2015   \n",
       "3                           NaN    download single  Value  2017   \n",
       "4                           NaN       vinyl single  Value  1986   \n",
       "\n",
       "   value_(for_charting)  adjusted_for_inflation_flag  year_date  \\\n",
       "0                  13.1                          NaN       2005   \n",
       "1            1.19694661                          NaN       2015   \n",
       "2       1,156.708513551                          NaN       2015   \n",
       "3         667.875936447                          NaN       2017   \n",
       "4                 228.1                          NaN       1986   \n",
       "\n",
       "  format_value_#_(billion) format_value_#_(million) total_value_#_(billion)  \\\n",
       "0                      NaN                   $13.1M                  $12.3B   \n",
       "1                      NaN                    $1.2M                   $6.7B   \n",
       "2                    $1.2B                      NaN                   $6.7B   \n",
       "3                      NaN                  $667.9M                   $8.5B   \n",
       "4                      NaN                  $228.1M                   $4.6B   \n",
       "\n",
       "   total_value_#_(million) total_value_for_year  value_(actual)  year_(copy)  \\\n",
       "0                      NaN            $12289.9B            13.1         2005   \n",
       "1                      NaN             $6710.8B      1.19694661         2015   \n",
       "2                      NaN             $6710.8B 1,156.708513551         2015   \n",
       "3                      NaN             $8503.2B   667.875936447         2017   \n",
       "4                      NaN             $4640.7B           228.1         1986   \n",
       "\n",
       "           revenue  \n",
       "0     13,100,000.0  \n",
       "1     1,196,946.61  \n",
       "2 1,156,708,513.55  \n",
       "3   667,875,936.45  \n",
       "4    228,100,000.0  "
      ]
     },
     "execution_count": 39,
     "metadata": {},
     "output_type": "execute_result"
    }
   ],
   "source": [
    "df.head(5)"
   ]
  },
  {
   "cell_type": "markdown",
   "id": "22380d03",
   "metadata": {},
   "source": [
    "## What format has made the most money over the course of this dataset?"
   ]
  },
  {
   "cell_type": "code",
   "execution_count": null,
   "id": "56cbab7c",
   "metadata": {},
   "outputs": [],
   "source": [
    "df.sort_values(by='year', ascending=True).head(1)"
   ]
  },
  {
   "cell_type": "code",
   "execution_count": 143,
   "id": "4ca85dcf",
   "metadata": {},
   "outputs": [
    {
     "data": {
      "text/plain": [
       "format\n",
       "cd         205,567,501,126.0\n",
       "cassette    48,701,700,000.0\n",
       "lp/ep       30,017,093,188.0\n",
       "Name: revenue, dtype: float64"
      ]
     },
     "execution_count": 143,
     "metadata": {},
     "output_type": "execute_result"
    }
   ],
   "source": [
    "df.groupby('format').revenue.sum().sort_values(ascending=False).round().head(3)"
   ]
  },
  {
   "cell_type": "markdown",
   "id": "cee5e7a6",
   "metadata": {},
   "source": [
    "## What percent of total revenue was that one format responsible for?\n",
    "\n",
    "I want a sentence like, `according to our dataset, compact discs have been responsible for ___% of the music industry's revenue`."
   ]
  },
  {
   "cell_type": "code",
   "execution_count": 134,
   "id": "3b2fdadb",
   "metadata": {},
   "outputs": [
    {
     "data": {
      "text/plain": [
       "53.23185222919906"
      ]
     },
     "execution_count": 134,
     "metadata": {},
     "output_type": "execute_result"
    }
   ],
   "source": [
    "# According to our dataset, compact discs have been responsible for 53.23% of the music industry's revenue.\n",
    "cd_pct = (df[df.format == 'cd'].revenue.sum()) / (df.revenue.sum())\n",
    "cd_pct *100"
   ]
  },
  {
   "cell_type": "code",
   "execution_count": 69,
   "id": "544620a0",
   "metadata": {},
   "outputs": [],
   "source": [
    "# df[df.format == 'cd'].revenue.sum()\n",
    "# df.revenue.sum()"
   ]
  },
  {
   "cell_type": "markdown",
   "id": "84ccf53c",
   "metadata": {},
   "source": [
    "## What formats were sold over the largest number of years?\n",
    "\n",
    "For example, vinyl singles were sold for almost fifty years, while downloadable albums have only existed briefly."
   ]
  },
  {
   "cell_type": "code",
   "execution_count": 145,
   "id": "65995b48",
   "metadata": {},
   "outputs": [
    {
     "data": {
      "text/plain": [
       "format\n",
       "lp/ep                     48\n",
       "vinyl single              48\n",
       "cd                        38\n",
       "cassette                  37\n",
       "music video (physical)    32\n",
       "Name: year, dtype: int64"
      ]
     },
     "execution_count": 145,
     "metadata": {},
     "output_type": "execute_result"
    }
   ],
   "source": [
    "df.groupby('format').year.count().sort_values(ascending=False).head(5)"
   ]
  },
  {
   "cell_type": "code",
   "execution_count": 85,
   "id": "6ee4e929",
   "metadata": {},
   "outputs": [],
   "source": [
    "# df.groupby('format').year.describe()"
   ]
  },
  {
   "cell_type": "code",
   "execution_count": 87,
   "id": "7e09a92c",
   "metadata": {},
   "outputs": [],
   "source": [
    "# df.groupby('format').year.value_counts()"
   ]
  },
  {
   "cell_type": "markdown",
   "id": "33859934",
   "metadata": {},
   "source": [
    "## What was the total revenue for CDs?\n",
    "\n",
    "Include both CDs and CD singles."
   ]
  },
  {
   "cell_type": "code",
   "execution_count": 142,
   "id": "6569d103",
   "metadata": {},
   "outputs": [
    {
     "data": {
      "text/plain": [
       "207116579173.53"
      ]
     },
     "execution_count": 142,
     "metadata": {},
     "output_type": "execute_result"
    }
   ],
   "source": [
    "total_cd2 = ['cd', 'cd single'] \n",
    "df[df['format'].isin(total_cd2)].revenue.sum()"
   ]
  },
  {
   "cell_type": "code",
   "execution_count": 138,
   "id": "41d60aeb",
   "metadata": {},
   "outputs": [
    {
     "data": {
      "text/plain": [
       "207116579173.53"
      ]
     },
     "execution_count": 138,
     "metadata": {},
     "output_type": "execute_result"
    }
   ],
   "source": [
    "total_cd = df[(df.format == 'cd') | (df.format == 'cd single')]\n",
    "total_cd.revenue.sum()"
   ]
  },
  {
   "cell_type": "code",
   "execution_count": 97,
   "id": "0964e5ca",
   "metadata": {},
   "outputs": [],
   "source": [
    "# df[df.format == 'cd'].revenue.sum() + df[df.format == 'cd single'].revenue.sum()"
   ]
  },
  {
   "cell_type": "markdown",
   "id": "3dc4bd46",
   "metadata": {},
   "source": [
    "## What format made the most money after 2000?"
   ]
  },
  {
   "cell_type": "code",
   "execution_count": 146,
   "id": "d2956c6d",
   "metadata": {},
   "outputs": [
    {
     "data": {
      "text/plain": [
       "format\n",
       "cd                      103,090,501,126.1\n",
       "paid subscription       27,731,944,903.25\n",
       "download single     15,493,555,737.710001\n",
       "Name: revenue, dtype: float64"
      ]
     },
     "execution_count": 146,
     "metadata": {},
     "output_type": "execute_result"
    }
   ],
   "source": [
    "df[df.year > 2000].groupby('format').revenue.sum().sort_values(ascending=False).head(3)"
   ]
  },
  {
   "cell_type": "code",
   "execution_count": 147,
   "id": "ab092da6",
   "metadata": {},
   "outputs": [],
   "source": [
    "# post_2000 = df[df.year > 2000]"
   ]
  },
  {
   "cell_type": "code",
   "execution_count": 148,
   "id": "186d4533",
   "metadata": {},
   "outputs": [],
   "source": [
    "# post_2000.groupby('format').revenue.sum().sort_values(ascending=False).head(5)"
   ]
  },
  {
   "cell_type": "markdown",
   "id": "e164c1a3",
   "metadata": {},
   "source": [
    "## What three years had the highest total revenue?\n",
    "\n",
    "Note that this isn't adjusted for inflation, but that's okay for this exercise."
   ]
  },
  {
   "cell_type": "code",
   "execution_count": 149,
   "id": "dcd64dbd",
   "metadata": {},
   "outputs": [
    {
     "data": {
      "text/plain": [
       "year\n",
       "1999   14,584,700,000.0\n",
       "2000   14,323,700,000.0\n",
       "2001   13,746,200,000.0\n",
       "Name: revenue, dtype: float64"
      ]
     },
     "execution_count": 149,
     "metadata": {},
     "output_type": "execute_result"
    }
   ],
   "source": [
    "df.groupby('year').revenue.sum().sort_values(ascending=False).head(3)"
   ]
  },
  {
   "cell_type": "code",
   "execution_count": null,
   "id": "6431333a",
   "metadata": {},
   "outputs": [],
   "source": []
  }
 ],
 "metadata": {
  "kernelspec": {
   "display_name": "Python 3 (ipykernel)",
   "language": "python",
   "name": "python3"
  },
  "language_info": {
   "codemirror_mode": {
    "name": "ipython",
    "version": 3
   },
   "file_extension": ".py",
   "mimetype": "text/x-python",
   "name": "python",
   "nbconvert_exporter": "python",
   "pygments_lexer": "ipython3",
   "version": "3.10.0"
  }
 },
 "nbformat": 4,
 "nbformat_minor": 5
}
