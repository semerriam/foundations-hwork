{
 "cells": [
  {
   "cell_type": "markdown",
   "id": "b2c3e571",
   "metadata": {},
   "source": [
    "# Shipping Containers\n",
    "\n",
    "* **Data:** `Stats - TEU By Year.csv`\n",
    "* **Description:** Shipping container statistics, by year, from the Port of Long Beach (California).\n",
    "* **Source:** https://polb.com/business/port-statistics/#yearly-teus\n",
    "* **Columns of interest:**\n",
    "    * `Year` is the year of the data\n",
    "    * **Loaded** columns involve shipping containers that are full\n",
    "    * **Empty** columns involve shipping containers are are empty\n",
    "    * **Inbound** columns involve shipping containers coming into the port\n",
    "    * **Outbound** columns involve shipping containers leaving the port\n",
    "    * `Total Throughput` is the number of shipping containers going in and out of the port"
   ]
  },
  {
   "cell_type": "markdown",
   "id": "d82e1e9b",
   "metadata": {},
   "source": [
    "## Read in your data"
   ]
  },
  {
   "cell_type": "code",
   "execution_count": 251,
   "id": "839fa063",
   "metadata": {},
   "outputs": [],
   "source": [
    "import pandas as pd \n",
    "import numpy as np\n",
    "import matplotlib.pyplot as plt\n",
    "# import requests"
   ]
  },
  {
   "cell_type": "code",
   "execution_count": 252,
   "id": "099374af",
   "metadata": {},
   "outputs": [],
   "source": [
    "pd.set_option(\"display.max_columns\", None)\n",
    "pd.set_option(\"display.float_format\", '{:,}'.format)"
   ]
  },
  {
   "cell_type": "code",
   "execution_count": 253,
   "id": "a2e02239",
   "metadata": {},
   "outputs": [],
   "source": [
    "pd.read_csv(\"Stats - TEU By Year.csv\", encoding=\"utf-8\")\n",
    "df = pd.read_csv(\"Stats - TEU By Year.csv\", encoding=\"utf-8\")\n",
    "\n",
    "# df = pd.read_csv(\"Stats - TEU By Year.csv\", nrows = 2000000, encoding=\"utf-8\")"
   ]
  },
  {
   "cell_type": "code",
   "execution_count": 254,
   "id": "5cba825d",
   "metadata": {},
   "outputs": [],
   "source": [
    "df.columns = df.columns.str.lower().str.replace(\" \", \"_\")"
   ]
  },
  {
   "cell_type": "code",
   "execution_count": 255,
   "id": "f8b5939e",
   "metadata": {},
   "outputs": [
    {
     "data": {
      "text/plain": [
       "(25, 8)"
      ]
     },
     "execution_count": 255,
     "metadata": {},
     "output_type": "execute_result"
    }
   ],
   "source": [
    "df.shape"
   ]
  },
  {
   "cell_type": "code",
   "execution_count": 256,
   "id": "af96d4bd",
   "metadata": {},
   "outputs": [
    {
     "data": {
      "text/plain": [
       "year                 int64\n",
       "loaded_inbound      object\n",
       "loaded_outbound     object\n",
       "total_loaded        object\n",
       "empties_inbound     object\n",
       "empties_outbound    object\n",
       "total_empties       object\n",
       "total_throughput    object\n",
       "dtype: object"
      ]
     },
     "execution_count": 256,
     "metadata": {},
     "output_type": "execute_result"
    }
   ],
   "source": [
    "df.dtypes"
   ]
  },
  {
   "cell_type": "code",
   "execution_count": 257,
   "id": "006de702",
   "metadata": {},
   "outputs": [],
   "source": [
    "# df.loaded_inbound = df.loaded_inbound.str.replace(\",\", \"\", regex=False)\n",
    "df.loaded_inbound = df.loaded_inbound.str.replace(\",\", \"\").astype(float)\n",
    "df.loaded_outbound = df.loaded_outbound.str.replace(\",\", \"\").astype(float)\n",
    "df.total_loaded = df.total_loaded.str.replace(\",\", \"\").astype(float)\n",
    "df.empties_inbound = df.empties_inbound.str.replace(\",\", \"\").astype(float)\n",
    "df.empties_outbound = df.empties_outbound.str.replace(\",\", \"\").astype(float)\n",
    "df.total_empties = df.total_empties.str.replace(\",\", \"\").astype(float)\n",
    "df.total_throughput = df.total_throughput.str.replace(\",\", \"\").astype(float)"
   ]
  },
  {
   "cell_type": "code",
   "execution_count": 258,
   "id": "3daa3d50",
   "metadata": {},
   "outputs": [
    {
     "data": {
      "text/plain": [
       "year                  int64\n",
       "loaded_inbound      float64\n",
       "loaded_outbound     float64\n",
       "total_loaded        float64\n",
       "empties_inbound     float64\n",
       "empties_outbound    float64\n",
       "total_empties       float64\n",
       "total_throughput    float64\n",
       "dtype: object"
      ]
     },
     "execution_count": 258,
     "metadata": {},
     "output_type": "execute_result"
    }
   ],
   "source": [
    "df.dtypes"
   ]
  },
  {
   "cell_type": "code",
   "execution_count": 259,
   "id": "dc28ad99",
   "metadata": {},
   "outputs": [
    {
     "data": {
      "text/html": [
       "<div>\n",
       "<style scoped>\n",
       "    .dataframe tbody tr th:only-of-type {\n",
       "        vertical-align: middle;\n",
       "    }\n",
       "\n",
       "    .dataframe tbody tr th {\n",
       "        vertical-align: top;\n",
       "    }\n",
       "\n",
       "    .dataframe thead th {\n",
       "        text-align: right;\n",
       "    }\n",
       "</style>\n",
       "<table border=\"1\" class=\"dataframe\">\n",
       "  <thead>\n",
       "    <tr style=\"text-align: right;\">\n",
       "      <th></th>\n",
       "      <th>year</th>\n",
       "      <th>loaded_inbound</th>\n",
       "      <th>loaded_outbound</th>\n",
       "      <th>total_loaded</th>\n",
       "      <th>empties_inbound</th>\n",
       "      <th>empties_outbound</th>\n",
       "      <th>total_empties</th>\n",
       "      <th>total_throughput</th>\n",
       "    </tr>\n",
       "  </thead>\n",
       "  <tbody>\n",
       "    <tr>\n",
       "      <th>0</th>\n",
       "      <td>2020</td>\n",
       "      <td>3,998,340.0</td>\n",
       "      <td>1,475,888.0</td>\n",
       "      <td>5,474,227.0</td>\n",
       "      <td>146,370.0</td>\n",
       "      <td>2,492,718.0</td>\n",
       "      <td>2,639,088.0</td>\n",
       "      <td>8,113,315.0</td>\n",
       "    </tr>\n",
       "    <tr>\n",
       "      <th>1</th>\n",
       "      <td>2019</td>\n",
       "      <td>3,758,438.0</td>\n",
       "      <td>1,472,802.0</td>\n",
       "      <td>5,231,240.0</td>\n",
       "      <td>74,706.0</td>\n",
       "      <td>2,326,087.0</td>\n",
       "      <td>2,400,792.0</td>\n",
       "      <td>7,632,032.0</td>\n",
       "    </tr>\n",
       "    <tr>\n",
       "      <th>2</th>\n",
       "      <td>2018</td>\n",
       "      <td>4,097,377.0</td>\n",
       "      <td>1,523,008.0</td>\n",
       "      <td>5,620,386.0</td>\n",
       "      <td>91,364.0</td>\n",
       "      <td>2,379,274.0</td>\n",
       "      <td>2,470,638.0</td>\n",
       "      <td>8,091,023.0</td>\n",
       "    </tr>\n",
       "    <tr>\n",
       "      <th>3</th>\n",
       "      <td>2017</td>\n",
       "      <td>3,863,187.0</td>\n",
       "      <td>1,470,514.0</td>\n",
       "      <td>5,333,701.0</td>\n",
       "      <td>75,710.0</td>\n",
       "      <td>2,135,096.0</td>\n",
       "      <td>2,210,806.0</td>\n",
       "      <td>7,544,507.0</td>\n",
       "    </tr>\n",
       "    <tr>\n",
       "      <th>4</th>\n",
       "      <td>2016</td>\n",
       "      <td>3,442,575.0</td>\n",
       "      <td>1,529,497.0</td>\n",
       "      <td>4,972,073.0</td>\n",
       "      <td>99,349.0</td>\n",
       "      <td>1,703,750.0</td>\n",
       "      <td>1,803,098.0</td>\n",
       "      <td>6,775,171.0</td>\n",
       "    </tr>\n",
       "    <tr>\n",
       "      <th>5</th>\n",
       "      <td>2015</td>\n",
       "      <td>3,625,264.0</td>\n",
       "      <td>1,525,561.0</td>\n",
       "      <td>5,150,825.0</td>\n",
       "      <td>101,560.0</td>\n",
       "      <td>1,939,684.0</td>\n",
       "      <td>2,041,244.0</td>\n",
       "      <td>7,192,069.0</td>\n",
       "    </tr>\n",
       "    <tr>\n",
       "      <th>6</th>\n",
       "      <td>2014</td>\n",
       "      <td>3,517,512.0</td>\n",
       "      <td>1,604,395.0</td>\n",
       "      <td>5,121,907.0</td>\n",
       "      <td>89,184.0</td>\n",
       "      <td>1,609,716.0</td>\n",
       "      <td>1,698,900.0</td>\n",
       "      <td>6,820,807.0</td>\n",
       "    </tr>\n",
       "    <tr>\n",
       "      <th>7</th>\n",
       "      <td>2013</td>\n",
       "      <td>3,455,331.0</td>\n",
       "      <td>1,704,924.0</td>\n",
       "      <td>5,160,255.0</td>\n",
       "      <td>71,760.0</td>\n",
       "      <td>1,498,558.0</td>\n",
       "      <td>1,570,318.0</td>\n",
       "      <td>6,730,573.0</td>\n",
       "    </tr>\n",
       "    <tr>\n",
       "      <th>8</th>\n",
       "      <td>2012</td>\n",
       "      <td>3,062,301.0</td>\n",
       "      <td>1,540,179.0</td>\n",
       "      <td>4,602,479.0</td>\n",
       "      <td>82,605.0</td>\n",
       "      <td>1,360,579.0</td>\n",
       "      <td>1,443,183.0</td>\n",
       "      <td>6,045,663.0</td>\n",
       "    </tr>\n",
       "    <tr>\n",
       "      <th>9</th>\n",
       "      <td>2011</td>\n",
       "      <td>3,024,964.0</td>\n",
       "      <td>1,506,702.0</td>\n",
       "      <td>4,531,666.0</td>\n",
       "      <td>107,441.0</td>\n",
       "      <td>1,421,995.0</td>\n",
       "      <td>1,529,436.0</td>\n",
       "      <td>6,061,102.0</td>\n",
       "    </tr>\n",
       "    <tr>\n",
       "      <th>10</th>\n",
       "      <td>2010</td>\n",
       "      <td>3,128,859.0</td>\n",
       "      <td>1,562,398.0</td>\n",
       "      <td>4,691,257.0</td>\n",
       "      <td>95,907.0</td>\n",
       "      <td>1,476,334.0</td>\n",
       "      <td>1,572,241.0</td>\n",
       "      <td>6,263,498.0</td>\n",
       "    </tr>\n",
       "    <tr>\n",
       "      <th>11</th>\n",
       "      <td>2009</td>\n",
       "      <td>2,461,137.0</td>\n",
       "      <td>1,352,052.0</td>\n",
       "      <td>3,813,189.0</td>\n",
       "      <td>82,399.0</td>\n",
       "      <td>1,094,547.0</td>\n",
       "      <td>1,176,946.0</td>\n",
       "      <td>4,990,135.0</td>\n",
       "    </tr>\n",
       "    <tr>\n",
       "      <th>12</th>\n",
       "      <td>2008</td>\n",
       "      <td>3,189,363.0</td>\n",
       "      <td>1,687,052.0</td>\n",
       "      <td>4,876,415.0</td>\n",
       "      <td>112,911.0</td>\n",
       "      <td>1,498,491.0</td>\n",
       "      <td>1,611,402.0</td>\n",
       "      <td>6,487,816.0</td>\n",
       "    </tr>\n",
       "    <tr>\n",
       "      <th>13</th>\n",
       "      <td>2007</td>\n",
       "      <td>3,704,592.0</td>\n",
       "      <td>1,574,241.0</td>\n",
       "      <td>5,278,834.0</td>\n",
       "      <td>100,309.0</td>\n",
       "      <td>1,933,323.0</td>\n",
       "      <td>2,033,632.0</td>\n",
       "      <td>7,312,465.0</td>\n",
       "    </tr>\n",
       "    <tr>\n",
       "      <th>14</th>\n",
       "      <td>2006</td>\n",
       "      <td>3,719,681.0</td>\n",
       "      <td>1,290,843.0</td>\n",
       "      <td>5,010,523.0</td>\n",
       "      <td>102,782.0</td>\n",
       "      <td>2,177,061.0</td>\n",
       "      <td>2,279,843.0</td>\n",
       "      <td>7,290,366.0</td>\n",
       "    </tr>\n",
       "    <tr>\n",
       "      <th>15</th>\n",
       "      <td>2005</td>\n",
       "      <td>3,346,054.0</td>\n",
       "      <td>1,221,418.0</td>\n",
       "      <td>4,567,472.0</td>\n",
       "      <td>133,756.0</td>\n",
       "      <td>2,008,588.0</td>\n",
       "      <td>2,142,344.0</td>\n",
       "      <td>6,709,816.0</td>\n",
       "    </tr>\n",
       "    <tr>\n",
       "      <th>16</th>\n",
       "      <td>2004</td>\n",
       "      <td>2,987,973.0</td>\n",
       "      <td>1,007,913.0</td>\n",
       "      <td>3,995,886.0</td>\n",
       "      <td>124,006.0</td>\n",
       "      <td>1,659,955.0</td>\n",
       "      <td>1,783,960.0</td>\n",
       "      <td>5,779,846.0</td>\n",
       "    </tr>\n",
       "    <tr>\n",
       "      <th>17</th>\n",
       "      <td>2003</td>\n",
       "      <td>2,370,364.0</td>\n",
       "      <td>897,145.0</td>\n",
       "      <td>3,267,509.0</td>\n",
       "      <td>107,715.0</td>\n",
       "      <td>1,206,221.0</td>\n",
       "      <td>1,313,936.0</td>\n",
       "      <td>4,581,445.0</td>\n",
       "    </tr>\n",
       "    <tr>\n",
       "      <th>18</th>\n",
       "      <td>2002</td>\n",
       "      <td>2,450,747.0</td>\n",
       "      <td>855,202.0</td>\n",
       "      <td>3,305,949.0</td>\n",
       "      <td>42,627.0</td>\n",
       "      <td>1,174,749.0</td>\n",
       "      <td>1,217,376.0</td>\n",
       "      <td>4,523,325.0</td>\n",
       "    </tr>\n",
       "    <tr>\n",
       "      <th>19</th>\n",
       "      <td>2001</td>\n",
       "      <td>2,420,683.0</td>\n",
       "      <td>952,843.0</td>\n",
       "      <td>3,373,525.0</td>\n",
       "      <td>34,419.0</td>\n",
       "      <td>1,055,033.0</td>\n",
       "      <td>1,089,452.0</td>\n",
       "      <td>4,462,977.0</td>\n",
       "    </tr>\n",
       "    <tr>\n",
       "      <th>20</th>\n",
       "      <td>2000</td>\n",
       "      <td>2,456,189.0</td>\n",
       "      <td>1,044,198.0</td>\n",
       "      <td>3,500,387.0</td>\n",
       "      <td>53,091.0</td>\n",
       "      <td>1,047,175.0</td>\n",
       "      <td>1,100,266.0</td>\n",
       "      <td>4,600,652.0</td>\n",
       "    </tr>\n",
       "    <tr>\n",
       "      <th>21</th>\n",
       "      <td>1999</td>\n",
       "      <td>2,282,708.0</td>\n",
       "      <td>979,647.0</td>\n",
       "      <td>3,262,354.0</td>\n",
       "      <td>60,490.0</td>\n",
       "      <td>1,024,855.0</td>\n",
       "      <td>1,085,345.0</td>\n",
       "      <td>4,347,699.0</td>\n",
       "    </tr>\n",
       "    <tr>\n",
       "      <th>22</th>\n",
       "      <td>1998</td>\n",
       "      <td>2,096,902.0</td>\n",
       "      <td>973,598.0</td>\n",
       "      <td>3,070,500.0</td>\n",
       "      <td>108,197.0</td>\n",
       "      <td>918,943.0</td>\n",
       "      <td>1,027,139.0</td>\n",
       "      <td>4,097,639.0</td>\n",
       "    </tr>\n",
       "    <tr>\n",
       "      <th>23</th>\n",
       "      <td>1997</td>\n",
       "      <td>1,806,734.0</td>\n",
       "      <td>1,107,492.0</td>\n",
       "      <td>2,914,225.0</td>\n",
       "      <td>93,884.0</td>\n",
       "      <td>496,616.0</td>\n",
       "      <td>590,500.0</td>\n",
       "      <td>3,504,725.0</td>\n",
       "    </tr>\n",
       "    <tr>\n",
       "      <th>24</th>\n",
       "      <td>1996</td>\n",
       "      <td>1,547,578.0</td>\n",
       "      <td>1,081,722.0</td>\n",
       "      <td>2,629,299.0</td>\n",
       "      <td>179,252.0</td>\n",
       "      <td>258,618.0</td>\n",
       "      <td>437,869.0</td>\n",
       "      <td>3,067,169.0</td>\n",
       "    </tr>\n",
       "  </tbody>\n",
       "</table>\n",
       "</div>"
      ],
      "text/plain": [
       "    year  loaded_inbound  loaded_outbound  total_loaded  empties_inbound  \\\n",
       "0   2020     3,998,340.0      1,475,888.0   5,474,227.0        146,370.0   \n",
       "1   2019     3,758,438.0      1,472,802.0   5,231,240.0         74,706.0   \n",
       "2   2018     4,097,377.0      1,523,008.0   5,620,386.0         91,364.0   \n",
       "3   2017     3,863,187.0      1,470,514.0   5,333,701.0         75,710.0   \n",
       "4   2016     3,442,575.0      1,529,497.0   4,972,073.0         99,349.0   \n",
       "5   2015     3,625,264.0      1,525,561.0   5,150,825.0        101,560.0   \n",
       "6   2014     3,517,512.0      1,604,395.0   5,121,907.0         89,184.0   \n",
       "7   2013     3,455,331.0      1,704,924.0   5,160,255.0         71,760.0   \n",
       "8   2012     3,062,301.0      1,540,179.0   4,602,479.0         82,605.0   \n",
       "9   2011     3,024,964.0      1,506,702.0   4,531,666.0        107,441.0   \n",
       "10  2010     3,128,859.0      1,562,398.0   4,691,257.0         95,907.0   \n",
       "11  2009     2,461,137.0      1,352,052.0   3,813,189.0         82,399.0   \n",
       "12  2008     3,189,363.0      1,687,052.0   4,876,415.0        112,911.0   \n",
       "13  2007     3,704,592.0      1,574,241.0   5,278,834.0        100,309.0   \n",
       "14  2006     3,719,681.0      1,290,843.0   5,010,523.0        102,782.0   \n",
       "15  2005     3,346,054.0      1,221,418.0   4,567,472.0        133,756.0   \n",
       "16  2004     2,987,973.0      1,007,913.0   3,995,886.0        124,006.0   \n",
       "17  2003     2,370,364.0        897,145.0   3,267,509.0        107,715.0   \n",
       "18  2002     2,450,747.0        855,202.0   3,305,949.0         42,627.0   \n",
       "19  2001     2,420,683.0        952,843.0   3,373,525.0         34,419.0   \n",
       "20  2000     2,456,189.0      1,044,198.0   3,500,387.0         53,091.0   \n",
       "21  1999     2,282,708.0        979,647.0   3,262,354.0         60,490.0   \n",
       "22  1998     2,096,902.0        973,598.0   3,070,500.0        108,197.0   \n",
       "23  1997     1,806,734.0      1,107,492.0   2,914,225.0         93,884.0   \n",
       "24  1996     1,547,578.0      1,081,722.0   2,629,299.0        179,252.0   \n",
       "\n",
       "    empties_outbound  total_empties  total_throughput  \n",
       "0        2,492,718.0    2,639,088.0       8,113,315.0  \n",
       "1        2,326,087.0    2,400,792.0       7,632,032.0  \n",
       "2        2,379,274.0    2,470,638.0       8,091,023.0  \n",
       "3        2,135,096.0    2,210,806.0       7,544,507.0  \n",
       "4        1,703,750.0    1,803,098.0       6,775,171.0  \n",
       "5        1,939,684.0    2,041,244.0       7,192,069.0  \n",
       "6        1,609,716.0    1,698,900.0       6,820,807.0  \n",
       "7        1,498,558.0    1,570,318.0       6,730,573.0  \n",
       "8        1,360,579.0    1,443,183.0       6,045,663.0  \n",
       "9        1,421,995.0    1,529,436.0       6,061,102.0  \n",
       "10       1,476,334.0    1,572,241.0       6,263,498.0  \n",
       "11       1,094,547.0    1,176,946.0       4,990,135.0  \n",
       "12       1,498,491.0    1,611,402.0       6,487,816.0  \n",
       "13       1,933,323.0    2,033,632.0       7,312,465.0  \n",
       "14       2,177,061.0    2,279,843.0       7,290,366.0  \n",
       "15       2,008,588.0    2,142,344.0       6,709,816.0  \n",
       "16       1,659,955.0    1,783,960.0       5,779,846.0  \n",
       "17       1,206,221.0    1,313,936.0       4,581,445.0  \n",
       "18       1,174,749.0    1,217,376.0       4,523,325.0  \n",
       "19       1,055,033.0    1,089,452.0       4,462,977.0  \n",
       "20       1,047,175.0    1,100,266.0       4,600,652.0  \n",
       "21       1,024,855.0    1,085,345.0       4,347,699.0  \n",
       "22         918,943.0    1,027,139.0       4,097,639.0  \n",
       "23         496,616.0      590,500.0       3,504,725.0  \n",
       "24         258,618.0      437,869.0       3,067,169.0  "
      ]
     },
     "execution_count": 259,
     "metadata": {},
     "output_type": "execute_result"
    }
   ],
   "source": [
    "df"
   ]
  },
  {
   "cell_type": "markdown",
   "id": "4743af4c",
   "metadata": {},
   "source": [
    "## How many years of data do we have?\n",
    "\n",
    "Also provide the first and last year"
   ]
  },
  {
   "cell_type": "code",
   "execution_count": 260,
   "id": "00dbeb06",
   "metadata": {},
   "outputs": [
    {
     "data": {
      "text/plain": [
       "25"
      ]
     },
     "execution_count": 260,
     "metadata": {},
     "output_type": "execute_result"
    }
   ],
   "source": [
    "len(df)\n",
    "# df.shape"
   ]
  },
  {
   "cell_type": "code",
   "execution_count": 261,
   "id": "889976d9",
   "metadata": {},
   "outputs": [
    {
     "data": {
      "text/html": [
       "<div>\n",
       "<style scoped>\n",
       "    .dataframe tbody tr th:only-of-type {\n",
       "        vertical-align: middle;\n",
       "    }\n",
       "\n",
       "    .dataframe tbody tr th {\n",
       "        vertical-align: top;\n",
       "    }\n",
       "\n",
       "    .dataframe thead th {\n",
       "        text-align: right;\n",
       "    }\n",
       "</style>\n",
       "<table border=\"1\" class=\"dataframe\">\n",
       "  <thead>\n",
       "    <tr style=\"text-align: right;\">\n",
       "      <th></th>\n",
       "      <th>year</th>\n",
       "      <th>loaded_inbound</th>\n",
       "      <th>loaded_outbound</th>\n",
       "      <th>total_loaded</th>\n",
       "      <th>empties_inbound</th>\n",
       "      <th>empties_outbound</th>\n",
       "      <th>total_empties</th>\n",
       "      <th>total_throughput</th>\n",
       "    </tr>\n",
       "  </thead>\n",
       "  <tbody>\n",
       "    <tr>\n",
       "      <th>24</th>\n",
       "      <td>1996</td>\n",
       "      <td>1,547,578.0</td>\n",
       "      <td>1,081,722.0</td>\n",
       "      <td>2,629,299.0</td>\n",
       "      <td>179,252.0</td>\n",
       "      <td>258,618.0</td>\n",
       "      <td>437,869.0</td>\n",
       "      <td>3,067,169.0</td>\n",
       "    </tr>\n",
       "  </tbody>\n",
       "</table>\n",
       "</div>"
      ],
      "text/plain": [
       "    year  loaded_inbound  loaded_outbound  total_loaded  empties_inbound  \\\n",
       "24  1996     1,547,578.0      1,081,722.0   2,629,299.0        179,252.0   \n",
       "\n",
       "    empties_outbound  total_empties  total_throughput  \n",
       "24         258,618.0      437,869.0       3,067,169.0  "
      ]
     },
     "execution_count": 261,
     "metadata": {},
     "output_type": "execute_result"
    }
   ],
   "source": [
    "df.sort_values(by='year', ascending=True).head(1)"
   ]
  },
  {
   "cell_type": "code",
   "execution_count": 262,
   "id": "e20d3d7d",
   "metadata": {},
   "outputs": [
    {
     "data": {
      "text/html": [
       "<div>\n",
       "<style scoped>\n",
       "    .dataframe tbody tr th:only-of-type {\n",
       "        vertical-align: middle;\n",
       "    }\n",
       "\n",
       "    .dataframe tbody tr th {\n",
       "        vertical-align: top;\n",
       "    }\n",
       "\n",
       "    .dataframe thead th {\n",
       "        text-align: right;\n",
       "    }\n",
       "</style>\n",
       "<table border=\"1\" class=\"dataframe\">\n",
       "  <thead>\n",
       "    <tr style=\"text-align: right;\">\n",
       "      <th></th>\n",
       "      <th>year</th>\n",
       "      <th>loaded_inbound</th>\n",
       "      <th>loaded_outbound</th>\n",
       "      <th>total_loaded</th>\n",
       "      <th>empties_inbound</th>\n",
       "      <th>empties_outbound</th>\n",
       "      <th>total_empties</th>\n",
       "      <th>total_throughput</th>\n",
       "    </tr>\n",
       "  </thead>\n",
       "  <tbody>\n",
       "    <tr>\n",
       "      <th>0</th>\n",
       "      <td>2020</td>\n",
       "      <td>3,998,340.0</td>\n",
       "      <td>1,475,888.0</td>\n",
       "      <td>5,474,227.0</td>\n",
       "      <td>146,370.0</td>\n",
       "      <td>2,492,718.0</td>\n",
       "      <td>2,639,088.0</td>\n",
       "      <td>8,113,315.0</td>\n",
       "    </tr>\n",
       "  </tbody>\n",
       "</table>\n",
       "</div>"
      ],
      "text/plain": [
       "   year  loaded_inbound  loaded_outbound  total_loaded  empties_inbound  \\\n",
       "0  2020     3,998,340.0      1,475,888.0   5,474,227.0        146,370.0   \n",
       "\n",
       "   empties_outbound  total_empties  total_throughput  \n",
       "0       2,492,718.0    2,639,088.0       8,113,315.0  "
      ]
     },
     "execution_count": 262,
     "metadata": {},
     "output_type": "execute_result"
    }
   ],
   "source": [
    "df.sort_values(by='year', ascending=True).tail(1)"
   ]
  },
  {
   "cell_type": "code",
   "execution_count": 263,
   "id": "cbcba86a",
   "metadata": {},
   "outputs": [],
   "source": [
    "# df.year.sort_values().value_counts()"
   ]
  },
  {
   "cell_type": "markdown",
   "id": "7292cf3f",
   "metadata": {},
   "source": [
    "## What is the total number of shipping containers that went in and out of the port during this time period?"
   ]
  },
  {
   "cell_type": "code",
   "execution_count": 264,
   "id": "3e0d6f4e",
   "metadata": {},
   "outputs": [
    {
     "data": {
      "text/plain": [
       "149025835.0"
      ]
     },
     "execution_count": 264,
     "metadata": {},
     "output_type": "execute_result"
    }
   ],
   "source": [
    "df.total_throughput.sum()"
   ]
  },
  {
   "cell_type": "markdown",
   "id": "4ea8272d",
   "metadata": {},
   "source": [
    "## Create a new column called `total_inbound` that is the number of containers entering the port"
   ]
  },
  {
   "cell_type": "code",
   "execution_count": 265,
   "id": "ca06ac05",
   "metadata": {},
   "outputs": [
    {
     "ename": "ValueError",
     "evalue": "cannot insert total_inbound, already exists",
     "output_type": "error",
     "traceback": [
      "\u001b[0;31m---------------------------------------------------------------------------\u001b[0m",
      "\u001b[0;31mValueError\u001b[0m                                Traceback (most recent call last)",
      "\u001b[0;32m/var/folders/c2/zngcssg14mv23nw0yr96s0wm0000gn/T/ipykernel_44640/568200203.py\u001b[0m in \u001b[0;36m<module>\u001b[0;34m\u001b[0m\n\u001b[1;32m      1\u001b[0m \u001b[0mdf\u001b[0m\u001b[0;34m[\u001b[0m\u001b[0;34m'total_inbound'\u001b[0m\u001b[0;34m]\u001b[0m \u001b[0;34m=\u001b[0m \u001b[0;34m(\u001b[0m\u001b[0mdf\u001b[0m\u001b[0;34m[\u001b[0m\u001b[0;34m'empties_inbound'\u001b[0m\u001b[0;34m]\u001b[0m \u001b[0;34m+\u001b[0m \u001b[0mdf\u001b[0m\u001b[0;34m[\u001b[0m\u001b[0;34m'loaded_inbound'\u001b[0m\u001b[0;34m]\u001b[0m\u001b[0;34m)\u001b[0m\u001b[0;34m\u001b[0m\u001b[0;34m\u001b[0m\u001b[0m\n\u001b[0;32m----> 2\u001b[0;31m \u001b[0mdf\u001b[0m\u001b[0;34m.\u001b[0m\u001b[0minsert\u001b[0m\u001b[0;34m(\u001b[0m\u001b[0;36m1\u001b[0m\u001b[0;34m,\u001b[0m \u001b[0;34m\"total_inbound\"\u001b[0m\u001b[0;34m,\u001b[0m \u001b[0mdf\u001b[0m\u001b[0;34m[\u001b[0m\u001b[0;34m'total_inbound'\u001b[0m\u001b[0;34m]\u001b[0m\u001b[0;34m)\u001b[0m\u001b[0;34m\u001b[0m\u001b[0;34m\u001b[0m\u001b[0m\n\u001b[0m",
      "\u001b[0;32m~/.pyenv/versions/3.10.0/lib/python3.10/site-packages/pandas/core/frame.py\u001b[0m in \u001b[0;36minsert\u001b[0;34m(self, loc, column, value, allow_duplicates)\u001b[0m\n\u001b[1;32m   4412\u001b[0m         \u001b[0;32mif\u001b[0m \u001b[0;32mnot\u001b[0m \u001b[0mallow_duplicates\u001b[0m \u001b[0;32mand\u001b[0m \u001b[0mcolumn\u001b[0m \u001b[0;32min\u001b[0m \u001b[0mself\u001b[0m\u001b[0;34m.\u001b[0m\u001b[0mcolumns\u001b[0m\u001b[0;34m:\u001b[0m\u001b[0;34m\u001b[0m\u001b[0;34m\u001b[0m\u001b[0m\n\u001b[1;32m   4413\u001b[0m             \u001b[0;31m# Should this be a different kind of error??\u001b[0m\u001b[0;34m\u001b[0m\u001b[0;34m\u001b[0m\u001b[0m\n\u001b[0;32m-> 4414\u001b[0;31m             \u001b[0;32mraise\u001b[0m \u001b[0mValueError\u001b[0m\u001b[0;34m(\u001b[0m\u001b[0;34mf\"cannot insert {column}, already exists\"\u001b[0m\u001b[0;34m)\u001b[0m\u001b[0;34m\u001b[0m\u001b[0;34m\u001b[0m\u001b[0m\n\u001b[0m\u001b[1;32m   4415\u001b[0m         \u001b[0;32mif\u001b[0m \u001b[0;32mnot\u001b[0m \u001b[0misinstance\u001b[0m\u001b[0;34m(\u001b[0m\u001b[0mloc\u001b[0m\u001b[0;34m,\u001b[0m \u001b[0mint\u001b[0m\u001b[0;34m)\u001b[0m\u001b[0;34m:\u001b[0m\u001b[0;34m\u001b[0m\u001b[0;34m\u001b[0m\u001b[0m\n\u001b[1;32m   4416\u001b[0m             \u001b[0;32mraise\u001b[0m \u001b[0mTypeError\u001b[0m\u001b[0;34m(\u001b[0m\u001b[0;34m\"loc must be int\"\u001b[0m\u001b[0;34m)\u001b[0m\u001b[0;34m\u001b[0m\u001b[0;34m\u001b[0m\u001b[0m\n",
      "\u001b[0;31mValueError\u001b[0m: cannot insert total_inbound, already exists"
     ]
    }
   ],
   "source": [
    "df['total_inbound'] = (df['empties_inbound'] + df['loaded_inbound'])\n",
    "df.insert(1, \"total_inbound\", df['total_inbound'])"
   ]
  },
  {
   "cell_type": "code",
   "execution_count": 266,
   "id": "3610fd81",
   "metadata": {},
   "outputs": [
    {
     "data": {
      "text/html": [
       "<div>\n",
       "<style scoped>\n",
       "    .dataframe tbody tr th:only-of-type {\n",
       "        vertical-align: middle;\n",
       "    }\n",
       "\n",
       "    .dataframe tbody tr th {\n",
       "        vertical-align: top;\n",
       "    }\n",
       "\n",
       "    .dataframe thead th {\n",
       "        text-align: right;\n",
       "    }\n",
       "</style>\n",
       "<table border=\"1\" class=\"dataframe\">\n",
       "  <thead>\n",
       "    <tr style=\"text-align: right;\">\n",
       "      <th></th>\n",
       "      <th>year</th>\n",
       "      <th>loaded_inbound</th>\n",
       "      <th>loaded_outbound</th>\n",
       "      <th>total_loaded</th>\n",
       "      <th>empties_inbound</th>\n",
       "      <th>empties_outbound</th>\n",
       "      <th>total_empties</th>\n",
       "      <th>total_throughput</th>\n",
       "      <th>total_inbound</th>\n",
       "    </tr>\n",
       "  </thead>\n",
       "  <tbody>\n",
       "    <tr>\n",
       "      <th>0</th>\n",
       "      <td>2020</td>\n",
       "      <td>3,998,340.0</td>\n",
       "      <td>1,475,888.0</td>\n",
       "      <td>5,474,227.0</td>\n",
       "      <td>146,370.0</td>\n",
       "      <td>2,492,718.0</td>\n",
       "      <td>2,639,088.0</td>\n",
       "      <td>8,113,315.0</td>\n",
       "      <td>4,144,710.0</td>\n",
       "    </tr>\n",
       "    <tr>\n",
       "      <th>1</th>\n",
       "      <td>2019</td>\n",
       "      <td>3,758,438.0</td>\n",
       "      <td>1,472,802.0</td>\n",
       "      <td>5,231,240.0</td>\n",
       "      <td>74,706.0</td>\n",
       "      <td>2,326,087.0</td>\n",
       "      <td>2,400,792.0</td>\n",
       "      <td>7,632,032.0</td>\n",
       "      <td>3,833,144.0</td>\n",
       "    </tr>\n",
       "    <tr>\n",
       "      <th>2</th>\n",
       "      <td>2018</td>\n",
       "      <td>4,097,377.0</td>\n",
       "      <td>1,523,008.0</td>\n",
       "      <td>5,620,386.0</td>\n",
       "      <td>91,364.0</td>\n",
       "      <td>2,379,274.0</td>\n",
       "      <td>2,470,638.0</td>\n",
       "      <td>8,091,023.0</td>\n",
       "      <td>4,188,741.0</td>\n",
       "    </tr>\n",
       "  </tbody>\n",
       "</table>\n",
       "</div>"
      ],
      "text/plain": [
       "   year  loaded_inbound  loaded_outbound  total_loaded  empties_inbound  \\\n",
       "0  2020     3,998,340.0      1,475,888.0   5,474,227.0        146,370.0   \n",
       "1  2019     3,758,438.0      1,472,802.0   5,231,240.0         74,706.0   \n",
       "2  2018     4,097,377.0      1,523,008.0   5,620,386.0         91,364.0   \n",
       "\n",
       "   empties_outbound  total_empties  total_throughput  total_inbound  \n",
       "0       2,492,718.0    2,639,088.0       8,113,315.0    4,144,710.0  \n",
       "1       2,326,087.0    2,400,792.0       7,632,032.0    3,833,144.0  \n",
       "2       2,379,274.0    2,470,638.0       8,091,023.0    4,188,741.0  "
      ]
     },
     "execution_count": 266,
     "metadata": {},
     "output_type": "execute_result"
    }
   ],
   "source": [
    "df.head(3)"
   ]
  },
  {
   "cell_type": "markdown",
   "id": "8758f8ff",
   "metadata": {},
   "source": [
    "## Create a new column that is percent empty for containers entering the port"
   ]
  },
  {
   "cell_type": "code",
   "execution_count": 267,
   "id": "34866479",
   "metadata": {},
   "outputs": [
    {
     "ename": "ValueError",
     "evalue": "cannot insert empty_inbound_pct, already exists",
     "output_type": "error",
     "traceback": [
      "\u001b[0;31m---------------------------------------------------------------------------\u001b[0m",
      "\u001b[0;31mValueError\u001b[0m                                Traceback (most recent call last)",
      "\u001b[0;32m/var/folders/c2/zngcssg14mv23nw0yr96s0wm0000gn/T/ipykernel_44640/283094165.py\u001b[0m in \u001b[0;36m<module>\u001b[0;34m\u001b[0m\n\u001b[1;32m      1\u001b[0m \u001b[0mdf\u001b[0m\u001b[0;34m[\u001b[0m\u001b[0;34m'empty_inbound_pct'\u001b[0m\u001b[0;34m]\u001b[0m \u001b[0;34m=\u001b[0m \u001b[0;34m(\u001b[0m\u001b[0mdf\u001b[0m\u001b[0;34m[\u001b[0m\u001b[0;34m'empties_inbound'\u001b[0m\u001b[0;34m]\u001b[0m \u001b[0;34m/\u001b[0m \u001b[0mdf\u001b[0m\u001b[0;34m[\u001b[0m\u001b[0;34m'total_inbound'\u001b[0m\u001b[0;34m]\u001b[0m\u001b[0;34m)\u001b[0m\u001b[0;34m.\u001b[0m\u001b[0mround\u001b[0m\u001b[0;34m(\u001b[0m\u001b[0;36m3\u001b[0m\u001b[0;34m)\u001b[0m\u001b[0;34m\u001b[0m\u001b[0;34m\u001b[0m\u001b[0m\n\u001b[0;32m----> 2\u001b[0;31m \u001b[0mdf\u001b[0m\u001b[0;34m.\u001b[0m\u001b[0minsert\u001b[0m\u001b[0;34m(\u001b[0m\u001b[0;36m1\u001b[0m\u001b[0;34m,\u001b[0m \u001b[0;34m\"empty_inbound_pct\"\u001b[0m\u001b[0;34m,\u001b[0m \u001b[0mdf\u001b[0m\u001b[0;34m[\u001b[0m\u001b[0;34m'empty_inbound_pct'\u001b[0m\u001b[0;34m]\u001b[0m\u001b[0;34m)\u001b[0m\u001b[0;34m\u001b[0m\u001b[0;34m\u001b[0m\u001b[0m\n\u001b[0m",
      "\u001b[0;32m~/.pyenv/versions/3.10.0/lib/python3.10/site-packages/pandas/core/frame.py\u001b[0m in \u001b[0;36minsert\u001b[0;34m(self, loc, column, value, allow_duplicates)\u001b[0m\n\u001b[1;32m   4412\u001b[0m         \u001b[0;32mif\u001b[0m \u001b[0;32mnot\u001b[0m \u001b[0mallow_duplicates\u001b[0m \u001b[0;32mand\u001b[0m \u001b[0mcolumn\u001b[0m \u001b[0;32min\u001b[0m \u001b[0mself\u001b[0m\u001b[0;34m.\u001b[0m\u001b[0mcolumns\u001b[0m\u001b[0;34m:\u001b[0m\u001b[0;34m\u001b[0m\u001b[0;34m\u001b[0m\u001b[0m\n\u001b[1;32m   4413\u001b[0m             \u001b[0;31m# Should this be a different kind of error??\u001b[0m\u001b[0;34m\u001b[0m\u001b[0;34m\u001b[0m\u001b[0m\n\u001b[0;32m-> 4414\u001b[0;31m             \u001b[0;32mraise\u001b[0m \u001b[0mValueError\u001b[0m\u001b[0;34m(\u001b[0m\u001b[0;34mf\"cannot insert {column}, already exists\"\u001b[0m\u001b[0;34m)\u001b[0m\u001b[0;34m\u001b[0m\u001b[0;34m\u001b[0m\u001b[0m\n\u001b[0m\u001b[1;32m   4415\u001b[0m         \u001b[0;32mif\u001b[0m \u001b[0;32mnot\u001b[0m \u001b[0misinstance\u001b[0m\u001b[0;34m(\u001b[0m\u001b[0mloc\u001b[0m\u001b[0;34m,\u001b[0m \u001b[0mint\u001b[0m\u001b[0;34m)\u001b[0m\u001b[0;34m:\u001b[0m\u001b[0;34m\u001b[0m\u001b[0;34m\u001b[0m\u001b[0m\n\u001b[1;32m   4416\u001b[0m             \u001b[0;32mraise\u001b[0m \u001b[0mTypeError\u001b[0m\u001b[0;34m(\u001b[0m\u001b[0;34m\"loc must be int\"\u001b[0m\u001b[0;34m)\u001b[0m\u001b[0;34m\u001b[0m\u001b[0;34m\u001b[0m\u001b[0m\n",
      "\u001b[0;31mValueError\u001b[0m: cannot insert empty_inbound_pct, already exists"
     ]
    }
   ],
   "source": [
    "df['empty_inbound_pct'] = (df['empties_inbound'] / df['total_inbound']).round(3)\n",
    "df.insert(1, \"empty_inbound_pct\", df['empty_inbound_pct'])"
   ]
  },
  {
   "cell_type": "code",
   "execution_count": 268,
   "id": "1deb952e",
   "metadata": {},
   "outputs": [
    {
     "data": {
      "text/html": [
       "<div>\n",
       "<style scoped>\n",
       "    .dataframe tbody tr th:only-of-type {\n",
       "        vertical-align: middle;\n",
       "    }\n",
       "\n",
       "    .dataframe tbody tr th {\n",
       "        vertical-align: top;\n",
       "    }\n",
       "\n",
       "    .dataframe thead th {\n",
       "        text-align: right;\n",
       "    }\n",
       "</style>\n",
       "<table border=\"1\" class=\"dataframe\">\n",
       "  <thead>\n",
       "    <tr style=\"text-align: right;\">\n",
       "      <th></th>\n",
       "      <th>year</th>\n",
       "      <th>loaded_inbound</th>\n",
       "      <th>loaded_outbound</th>\n",
       "      <th>total_loaded</th>\n",
       "      <th>empties_inbound</th>\n",
       "      <th>empties_outbound</th>\n",
       "      <th>total_empties</th>\n",
       "      <th>total_throughput</th>\n",
       "      <th>total_inbound</th>\n",
       "      <th>empty_inbound_pct</th>\n",
       "    </tr>\n",
       "  </thead>\n",
       "  <tbody>\n",
       "    <tr>\n",
       "      <th>0</th>\n",
       "      <td>2020</td>\n",
       "      <td>3,998,340.0</td>\n",
       "      <td>1,475,888.0</td>\n",
       "      <td>5,474,227.0</td>\n",
       "      <td>146,370.0</td>\n",
       "      <td>2,492,718.0</td>\n",
       "      <td>2,639,088.0</td>\n",
       "      <td>8,113,315.0</td>\n",
       "      <td>4,144,710.0</td>\n",
       "      <td>0.035</td>\n",
       "    </tr>\n",
       "    <tr>\n",
       "      <th>1</th>\n",
       "      <td>2019</td>\n",
       "      <td>3,758,438.0</td>\n",
       "      <td>1,472,802.0</td>\n",
       "      <td>5,231,240.0</td>\n",
       "      <td>74,706.0</td>\n",
       "      <td>2,326,087.0</td>\n",
       "      <td>2,400,792.0</td>\n",
       "      <td>7,632,032.0</td>\n",
       "      <td>3,833,144.0</td>\n",
       "      <td>0.019</td>\n",
       "    </tr>\n",
       "    <tr>\n",
       "      <th>2</th>\n",
       "      <td>2018</td>\n",
       "      <td>4,097,377.0</td>\n",
       "      <td>1,523,008.0</td>\n",
       "      <td>5,620,386.0</td>\n",
       "      <td>91,364.0</td>\n",
       "      <td>2,379,274.0</td>\n",
       "      <td>2,470,638.0</td>\n",
       "      <td>8,091,023.0</td>\n",
       "      <td>4,188,741.0</td>\n",
       "      <td>0.022</td>\n",
       "    </tr>\n",
       "  </tbody>\n",
       "</table>\n",
       "</div>"
      ],
      "text/plain": [
       "   year  loaded_inbound  loaded_outbound  total_loaded  empties_inbound  \\\n",
       "0  2020     3,998,340.0      1,475,888.0   5,474,227.0        146,370.0   \n",
       "1  2019     3,758,438.0      1,472,802.0   5,231,240.0         74,706.0   \n",
       "2  2018     4,097,377.0      1,523,008.0   5,620,386.0         91,364.0   \n",
       "\n",
       "   empties_outbound  total_empties  total_throughput  total_inbound  \\\n",
       "0       2,492,718.0    2,639,088.0       8,113,315.0    4,144,710.0   \n",
       "1       2,326,087.0    2,400,792.0       7,632,032.0    3,833,144.0   \n",
       "2       2,379,274.0    2,470,638.0       8,091,023.0    4,188,741.0   \n",
       "\n",
       "   empty_inbound_pct  \n",
       "0              0.035  \n",
       "1              0.019  \n",
       "2              0.022  "
      ]
     },
     "execution_count": 268,
     "metadata": {},
     "output_type": "execute_result"
    }
   ],
   "source": [
    "df.head(3)"
   ]
  },
  {
   "cell_type": "markdown",
   "id": "f932f124",
   "metadata": {},
   "source": [
    "## What year had the highest percentage of empty containers coming into port?"
   ]
  },
  {
   "cell_type": "code",
   "execution_count": 269,
   "id": "c182c63d",
   "metadata": {},
   "outputs": [
    {
     "data": {
      "text/html": [
       "<div>\n",
       "<style scoped>\n",
       "    .dataframe tbody tr th:only-of-type {\n",
       "        vertical-align: middle;\n",
       "    }\n",
       "\n",
       "    .dataframe tbody tr th {\n",
       "        vertical-align: top;\n",
       "    }\n",
       "\n",
       "    .dataframe thead th {\n",
       "        text-align: right;\n",
       "    }\n",
       "</style>\n",
       "<table border=\"1\" class=\"dataframe\">\n",
       "  <thead>\n",
       "    <tr style=\"text-align: right;\">\n",
       "      <th></th>\n",
       "      <th>year</th>\n",
       "      <th>loaded_inbound</th>\n",
       "      <th>loaded_outbound</th>\n",
       "      <th>total_loaded</th>\n",
       "      <th>empties_inbound</th>\n",
       "      <th>empties_outbound</th>\n",
       "      <th>total_empties</th>\n",
       "      <th>total_throughput</th>\n",
       "      <th>total_inbound</th>\n",
       "      <th>empty_inbound_pct</th>\n",
       "    </tr>\n",
       "  </thead>\n",
       "  <tbody>\n",
       "    <tr>\n",
       "      <th>24</th>\n",
       "      <td>1996</td>\n",
       "      <td>1,547,578.0</td>\n",
       "      <td>1,081,722.0</td>\n",
       "      <td>2,629,299.0</td>\n",
       "      <td>179,252.0</td>\n",
       "      <td>258,618.0</td>\n",
       "      <td>437,869.0</td>\n",
       "      <td>3,067,169.0</td>\n",
       "      <td>1,726,830.0</td>\n",
       "      <td>0.104</td>\n",
       "    </tr>\n",
       "    <tr>\n",
       "      <th>23</th>\n",
       "      <td>1997</td>\n",
       "      <td>1,806,734.0</td>\n",
       "      <td>1,107,492.0</td>\n",
       "      <td>2,914,225.0</td>\n",
       "      <td>93,884.0</td>\n",
       "      <td>496,616.0</td>\n",
       "      <td>590,500.0</td>\n",
       "      <td>3,504,725.0</td>\n",
       "      <td>1,900,618.0</td>\n",
       "      <td>0.049</td>\n",
       "    </tr>\n",
       "    <tr>\n",
       "      <th>22</th>\n",
       "      <td>1998</td>\n",
       "      <td>2,096,902.0</td>\n",
       "      <td>973,598.0</td>\n",
       "      <td>3,070,500.0</td>\n",
       "      <td>108,197.0</td>\n",
       "      <td>918,943.0</td>\n",
       "      <td>1,027,139.0</td>\n",
       "      <td>4,097,639.0</td>\n",
       "      <td>2,205,099.0</td>\n",
       "      <td>0.049</td>\n",
       "    </tr>\n",
       "  </tbody>\n",
       "</table>\n",
       "</div>"
      ],
      "text/plain": [
       "    year  loaded_inbound  loaded_outbound  total_loaded  empties_inbound  \\\n",
       "24  1996     1,547,578.0      1,081,722.0   2,629,299.0        179,252.0   \n",
       "23  1997     1,806,734.0      1,107,492.0   2,914,225.0         93,884.0   \n",
       "22  1998     2,096,902.0        973,598.0   3,070,500.0        108,197.0   \n",
       "\n",
       "    empties_outbound  total_empties  total_throughput  total_inbound  \\\n",
       "24         258,618.0      437,869.0       3,067,169.0    1,726,830.0   \n",
       "23         496,616.0      590,500.0       3,504,725.0    1,900,618.0   \n",
       "22         918,943.0    1,027,139.0       4,097,639.0    2,205,099.0   \n",
       "\n",
       "    empty_inbound_pct  \n",
       "24              0.104  \n",
       "23              0.049  \n",
       "22              0.049  "
      ]
     },
     "execution_count": 269,
     "metadata": {},
     "output_type": "execute_result"
    }
   ],
   "source": [
    "df.sort_values(by='empty_inbound_pct', ascending=False).head(3)"
   ]
  },
  {
   "cell_type": "code",
   "execution_count": 270,
   "id": "17f93828",
   "metadata": {},
   "outputs": [],
   "source": [
    "# df.year = pd.to_datetime(df.year)"
   ]
  },
  {
   "cell_type": "code",
   "execution_count": 271,
   "id": "c49ed827",
   "metadata": {},
   "outputs": [],
   "source": [
    "# df.dtypes"
   ]
  },
  {
   "cell_type": "markdown",
   "id": "d83650ba",
   "metadata": {},
   "source": [
    "## Plot the percent of empty containers coming into port over the years"
   ]
  },
  {
   "cell_type": "code",
   "execution_count": 272,
   "id": "59acb7be",
   "metadata": {},
   "outputs": [
    {
     "data": {
      "text/plain": [
       "<AxesSubplot:xlabel='year', ylabel='percent of empty containers'>"
      ]
     },
     "execution_count": 272,
     "metadata": {},
     "output_type": "execute_result"
    },
    {
     "data": {
      "image/png": "[encoded data removed]",
      "text/plain": [
       "<Figure size 432x288 with 1 Axes>"
      ]
     },
     "metadata": {
      "needs_background": "light"
     },
     "output_type": "display_data"
    }
   ],
   "source": [
    "df.empty_inbound_pct.plot(ylim=(0,.12), xlabel='year', ylabel='percent of empty containers')"
   ]
  },
  {
   "cell_type": "markdown",
   "id": "f32cc781",
   "metadata": {},
   "source": [
    "## Plot the port's total shipping container throughput over time"
   ]
  },
  {
   "cell_type": "code",
   "execution_count": 273,
   "id": "c88f006a",
   "metadata": {},
   "outputs": [
    {
     "data": {
      "text/plain": [
       "<AxesSubplot:xlabel='year', ylabel='shipping container throughput'>"
      ]
     },
     "execution_count": 273,
     "metadata": {},
     "output_type": "execute_result"
    },
    {
     "data": {
      "image/png": "[encoded data removed]",
      "text/plain": [
       "<Figure size 432x288 with 1 Axes>"
      ]
     },
     "metadata": {
      "needs_background": "light"
     },
     "output_type": "display_data"
    }
   ],
   "source": [
    "df.total_throughput.plot(ylim=(0,10000000), xlabel='year', ylabel='shipping container throughput')"
   ]
  },
  {
   "cell_type": "markdown",
   "id": "7a3c5ed7",
   "metadata": {},
   "source": [
    "## What year had the largest percent drop in throughput?\n",
    "\n",
    "You calculate percentage change on a column using using `.pct_change()`."
   ]
  },
  {
   "cell_type": "code",
   "execution_count": 287,
   "id": "7c66bbb3",
   "metadata": {},
   "outputs": [
    {
     "ename": "ValueError",
     "evalue": "cannot insert pct_change, already exists",
     "output_type": "error",
     "traceback": [
      "\u001b[0;31m---------------------------------------------------------------------------\u001b[0m",
      "\u001b[0;31mValueError\u001b[0m                                Traceback (most recent call last)",
      "\u001b[0;32m/var/folders/c2/zngcssg14mv23nw0yr96s0wm0000gn/T/ipykernel_44640/4147167437.py\u001b[0m in \u001b[0;36m<module>\u001b[0;34m\u001b[0m\n\u001b[1;32m      1\u001b[0m \u001b[0mdf\u001b[0m\u001b[0;34m[\u001b[0m\u001b[0;34m'pct_change'\u001b[0m\u001b[0;34m]\u001b[0m \u001b[0;34m=\u001b[0m \u001b[0;34m(\u001b[0m\u001b[0mdf\u001b[0m\u001b[0;34m[\u001b[0m\u001b[0;34m'total_throughput'\u001b[0m\u001b[0;34m]\u001b[0m\u001b[0;34m.\u001b[0m\u001b[0mpct_change\u001b[0m\u001b[0;34m(\u001b[0m\u001b[0;34m)\u001b[0m\u001b[0;34m.\u001b[0m\u001b[0mround\u001b[0m\u001b[0;34m(\u001b[0m\u001b[0;36m3\u001b[0m\u001b[0;34m)\u001b[0m\u001b[0;34m)\u001b[0m\u001b[0;34m\u001b[0m\u001b[0;34m\u001b[0m\u001b[0m\n\u001b[0;32m----> 2\u001b[0;31m \u001b[0mdf\u001b[0m\u001b[0;34m.\u001b[0m\u001b[0minsert\u001b[0m\u001b[0;34m(\u001b[0m\u001b[0;36m1\u001b[0m\u001b[0;34m,\u001b[0m \u001b[0;34m\"pct_change\"\u001b[0m\u001b[0;34m,\u001b[0m \u001b[0mdf\u001b[0m\u001b[0;34m[\u001b[0m\u001b[0;34m'pct_change'\u001b[0m\u001b[0;34m]\u001b[0m\u001b[0;34m)\u001b[0m\u001b[0;34m\u001b[0m\u001b[0;34m\u001b[0m\u001b[0m\n\u001b[0m",
      "\u001b[0;32m~/.pyenv/versions/3.10.0/lib/python3.10/site-packages/pandas/core/frame.py\u001b[0m in \u001b[0;36minsert\u001b[0;34m(self, loc, column, value, allow_duplicates)\u001b[0m\n\u001b[1;32m   4412\u001b[0m         \u001b[0;32mif\u001b[0m \u001b[0;32mnot\u001b[0m \u001b[0mallow_duplicates\u001b[0m \u001b[0;32mand\u001b[0m \u001b[0mcolumn\u001b[0m \u001b[0;32min\u001b[0m \u001b[0mself\u001b[0m\u001b[0;34m.\u001b[0m\u001b[0mcolumns\u001b[0m\u001b[0;34m:\u001b[0m\u001b[0;34m\u001b[0m\u001b[0;34m\u001b[0m\u001b[0m\n\u001b[1;32m   4413\u001b[0m             \u001b[0;31m# Should this be a different kind of error??\u001b[0m\u001b[0;34m\u001b[0m\u001b[0;34m\u001b[0m\u001b[0m\n\u001b[0;32m-> 4414\u001b[0;31m             \u001b[0;32mraise\u001b[0m \u001b[0mValueError\u001b[0m\u001b[0;34m(\u001b[0m\u001b[0;34mf\"cannot insert {column}, already exists\"\u001b[0m\u001b[0;34m)\u001b[0m\u001b[0;34m\u001b[0m\u001b[0;34m\u001b[0m\u001b[0m\n\u001b[0m\u001b[1;32m   4415\u001b[0m         \u001b[0;32mif\u001b[0m \u001b[0;32mnot\u001b[0m \u001b[0misinstance\u001b[0m\u001b[0;34m(\u001b[0m\u001b[0mloc\u001b[0m\u001b[0;34m,\u001b[0m \u001b[0mint\u001b[0m\u001b[0;34m)\u001b[0m\u001b[0;34m:\u001b[0m\u001b[0;34m\u001b[0m\u001b[0;34m\u001b[0m\u001b[0m\n\u001b[1;32m   4416\u001b[0m             \u001b[0;32mraise\u001b[0m \u001b[0mTypeError\u001b[0m\u001b[0;34m(\u001b[0m\u001b[0;34m\"loc must be int\"\u001b[0m\u001b[0;34m)\u001b[0m\u001b[0;34m\u001b[0m\u001b[0;34m\u001b[0m\u001b[0m\n",
      "\u001b[0;31mValueError\u001b[0m: cannot insert pct_change, already exists"
     ]
    }
   ],
   "source": [
    "df['pct_change'] = (df['total_throughput'].pct_change().round(3))\n",
    "df.insert(1, \"pct_change\", df['pct_change'])"
   ]
  },
  {
   "cell_type": "code",
   "execution_count": 288,
   "id": "78553828",
   "metadata": {},
   "outputs": [
    {
     "data": {
      "text/html": [
       "<div>\n",
       "<style scoped>\n",
       "    .dataframe tbody tr th:only-of-type {\n",
       "        vertical-align: middle;\n",
       "    }\n",
       "\n",
       "    .dataframe tbody tr th {\n",
       "        vertical-align: top;\n",
       "    }\n",
       "\n",
       "    .dataframe thead th {\n",
       "        text-align: right;\n",
       "    }\n",
       "</style>\n",
       "<table border=\"1\" class=\"dataframe\">\n",
       "  <thead>\n",
       "    <tr style=\"text-align: right;\">\n",
       "      <th></th>\n",
       "      <th>year</th>\n",
       "      <th>loaded_inbound</th>\n",
       "      <th>loaded_outbound</th>\n",
       "      <th>total_loaded</th>\n",
       "      <th>empties_inbound</th>\n",
       "      <th>empties_outbound</th>\n",
       "      <th>total_empties</th>\n",
       "      <th>total_throughput</th>\n",
       "      <th>total_inbound</th>\n",
       "      <th>empty_inbound_pct</th>\n",
       "      <th>pct_change</th>\n",
       "    </tr>\n",
       "  </thead>\n",
       "  <tbody>\n",
       "    <tr>\n",
       "      <th>17</th>\n",
       "      <td>2003</td>\n",
       "      <td>2,370,364.0</td>\n",
       "      <td>897,145.0</td>\n",
       "      <td>3,267,509.0</td>\n",
       "      <td>107,715.0</td>\n",
       "      <td>1,206,221.0</td>\n",
       "      <td>1,313,936.0</td>\n",
       "      <td>4,581,445.0</td>\n",
       "      <td>2,478,079.0</td>\n",
       "      <td>0.043</td>\n",
       "      <td>-0.207</td>\n",
       "    </tr>\n",
       "    <tr>\n",
       "      <th>11</th>\n",
       "      <td>2009</td>\n",
       "      <td>2,461,137.0</td>\n",
       "      <td>1,352,052.0</td>\n",
       "      <td>3,813,189.0</td>\n",
       "      <td>82,399.0</td>\n",
       "      <td>1,094,547.0</td>\n",
       "      <td>1,176,946.0</td>\n",
       "      <td>4,990,135.0</td>\n",
       "      <td>2,543,536.0</td>\n",
       "      <td>0.032</td>\n",
       "      <td>-0.203</td>\n",
       "    </tr>\n",
       "    <tr>\n",
       "      <th>23</th>\n",
       "      <td>1997</td>\n",
       "      <td>1,806,734.0</td>\n",
       "      <td>1,107,492.0</td>\n",
       "      <td>2,914,225.0</td>\n",
       "      <td>93,884.0</td>\n",
       "      <td>496,616.0</td>\n",
       "      <td>590,500.0</td>\n",
       "      <td>3,504,725.0</td>\n",
       "      <td>1,900,618.0</td>\n",
       "      <td>0.049</td>\n",
       "      <td>-0.145</td>\n",
       "    </tr>\n",
       "  </tbody>\n",
       "</table>\n",
       "</div>"
      ],
      "text/plain": [
       "    year  loaded_inbound  loaded_outbound  total_loaded  empties_inbound  \\\n",
       "17  2003     2,370,364.0        897,145.0   3,267,509.0        107,715.0   \n",
       "11  2009     2,461,137.0      1,352,052.0   3,813,189.0         82,399.0   \n",
       "23  1997     1,806,734.0      1,107,492.0   2,914,225.0         93,884.0   \n",
       "\n",
       "    empties_outbound  total_empties  total_throughput  total_inbound  \\\n",
       "17       1,206,221.0    1,313,936.0       4,581,445.0    2,478,079.0   \n",
       "11       1,094,547.0    1,176,946.0       4,990,135.0    2,543,536.0   \n",
       "23         496,616.0      590,500.0       3,504,725.0    1,900,618.0   \n",
       "\n",
       "    empty_inbound_pct  pct_change  \n",
       "17              0.043      -0.207  \n",
       "11              0.032      -0.203  \n",
       "23              0.049      -0.145  "
      ]
     },
     "execution_count": 288,
     "metadata": {},
     "output_type": "execute_result"
    }
   ],
   "source": [
    "df.sort_values(by='pct_change', ascending=True).head(3)"
   ]
  },
  {
   "cell_type": "code",
   "execution_count": 289,
   "id": "5973aa20",
   "metadata": {},
   "outputs": [],
   "source": [
    "# df.total_throughput.pct_change().sort_values(ascending=True).head(3)"
   ]
  },
  {
   "cell_type": "markdown",
   "id": "9ca6a218",
   "metadata": {},
   "source": [
    "## Complete the following sentence, using the year from the last question\n",
    "\n",
    "`Compared to the previous year, in____ there was a ____% drop in shipping container throughput.` Just type it in a comment, no need to use f-strings or anything. "
   ]
  },
  {
   "cell_type": "code",
   "execution_count": 286,
   "id": "d432f25d",
   "metadata": {},
   "outputs": [],
   "source": [
    "# Compared to the previous year, in 2003 there was a 20.7% drop in shipping container throughput."
   ]
  },
  {
   "cell_type": "code",
   "execution_count": null,
   "id": "0823ec5f",
   "metadata": {},
   "outputs": [],
   "source": []
  }
 ],
 "metadata": {
  "kernelspec": {
   "display_name": "Python 3 (ipykernel)",
   "language": "python",
   "name": "python3"
  },
  "language_info": {
   "codemirror_mode": {
    "name": "ipython",
    "version": 3
   },
   "file_extension": ".py",
   "mimetype": "text/x-python",
   "name": "python",
   "nbconvert_exporter": "python",
   "pygments_lexer": "ipython3",
   "version": "3.10.0"
  }
 },
 "nbformat": 4,
 "nbformat_minor": 5
}
