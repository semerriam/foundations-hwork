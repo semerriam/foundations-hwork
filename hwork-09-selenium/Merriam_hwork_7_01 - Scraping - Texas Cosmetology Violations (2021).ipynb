{
 "cells": [
  {
   "cell_type": "markdown",
   "metadata": {},
   "source": [
    "# Texas Cosmetologist Violations\n",
    "\n",
    "Texas has a system for [searching for license violations](https://www.tdlr.texas.gov/cimsfo/fosearch.asp). You're going to search for cosmetologists!"
   ]
  },
  {
   "cell_type": "markdown",
   "metadata": {},
   "source": [
    "## Setup: Import what you'll need to scrape the page\n",
    "\n",
    "We'll be using Selenium for this, *not* BeautifulSoup and requests."
   ]
  },
  {
   "cell_type": "code",
   "execution_count": 27,
   "metadata": {},
   "outputs": [
    {
     "name": "stderr",
     "output_type": "stream",
     "text": [
      "\n",
      "\n",
      "====== WebDriver manager ======\n",
      "Current google-chrome version is 96.0.4664\n",
      "Get LATEST chromedriver version for 96.0.4664 google-chrome\n",
      "Driver [/Users/susanmerriam/.wdm/drivers/chromedriver/mac64/96.0.4664.45/chromedriver] found in cache\n",
      "/var/folders/8t/1rrw8b2x05595s5gystxsg3m0000gn/T/ipykernel_61759/3595561161.py:13: DeprecationWarning: executable_path has been deprecated, please pass in a Service object\n",
      "  driver = webdriver.Chrome(ChromeDriverManager().install())\n"
     ]
    }
   ],
   "source": [
    "# All of the necessary imports\n",
    "import pandas as pd\n",
    "\n",
    "import time\n",
    "\n",
    "from selenium import webdriver\n",
    "from selenium.webdriver.common.by import By\n",
    "from selenium.webdriver.support.ui import WebDriverWait\n",
    "from selenium.webdriver.support import expected_conditions as EC\n",
    "from selenium.webdriver.support.ui import Select\n",
    "\n",
    "from webdriver_manager.chrome import ChromeDriverManager\n",
    "driver = webdriver.Chrome(ChromeDriverManager().install())"
   ]
  },
  {
   "cell_type": "markdown",
   "metadata": {
    "collapsed": true
   },
   "source": [
    "## Starting your search\n",
    "\n",
    "Starting from [here](https://www.tdlr.texas.gov/cimsfo/fosearch.asp), search for cosmetologist violations for people with the last name **Nguyen**."
   ]
  },
  {
   "cell_type": "code",
   "execution_count": 29,
   "metadata": {},
   "outputs": [],
   "source": [
    "driver.get(\"https://www.tdlr.texas.gov/cimsfo/fosearch.asp\")"
   ]
  },
  {
   "cell_type": "code",
   "execution_count": 31,
   "metadata": {},
   "outputs": [],
   "source": [
    "# Search by License Program Type\n",
    "# <option value=\"COS\">Cosmetologists</option>\n",
    "# /html/body/div[1]/div/div[2]/div/div/section/div/div/table/tbody/tr/td/form/table/tbody/tr[3]/td/select/option[10]"
   ]
  },
  {
   "cell_type": "code",
   "execution_count": 32,
   "metadata": {},
   "outputs": [],
   "source": [
    "# Search By Last Name Element\n",
    "# <input id=\"pht_lnm\" maxlength=\"20\" name=\"pht_lnm\" tabindex=\"3\" size=\"20\" style=\"height: 22px\">\n",
    "# /html/body/div[1]/div/div[2]/div/div/section/div/div/table/tbody/tr/td/form/table/tbody/tr[7]/td/p/input"
   ]
  },
  {
   "cell_type": "code",
   "execution_count": 33,
   "metadata": {},
   "outputs": [],
   "source": [
    "# Search button \n",
    "# <input type=\"submit\" name=\"B1\" value=\"Search\" tabindex=\"11\" style=\"padding:4px; margin:2px; width:50px;\">\n",
    "# /html/body/div[1]/div/div[2]/div/div/section/div/div/table/tbody/tr/td/form/table/tbody/tr[18]/td/input[1]"
   ]
  },
  {
   "cell_type": "code",
   "execution_count": 34,
   "metadata": {},
   "outputs": [],
   "source": [
    "# using XPATH is fine if no ID - be sure to use SINGLE QUOTES with XPath\n",
    "# Click on Search by License Program Type\n",
    "driver.find_element(By.XPATH, '/html/body/div[1]/div/div[2]/div/div/section/div/div/table/tbody/tr/td/form/table/tbody/tr[3]/td/select/option[10]').click()"
   ]
  },
  {
   "cell_type": "code",
   "execution_count": 35,
   "metadata": {},
   "outputs": [
    {
     "ename": "AttributeError",
     "evalue": "'NoneType' object has no attribute 'click'",
     "output_type": "error",
     "traceback": [
      "\u001b[0;31m---------------------------------------------------------------------------\u001b[0m",
      "\u001b[0;31mAttributeError\u001b[0m                            Traceback (most recent call last)",
      "\u001b[0;32m/var/folders/8t/1rrw8b2x05595s5gystxsg3m0000gn/T/ipykernel_61759/70222131.py\u001b[0m in \u001b[0;36m<module>\u001b[0;34m\u001b[0m\n\u001b[1;32m      1\u001b[0m \u001b[0;31m# Click on Search By Last Name Element\u001b[0m\u001b[0;34m\u001b[0m\u001b[0;34m\u001b[0m\u001b[0m\n\u001b[0;32m----> 2\u001b[0;31m \u001b[0mdriver\u001b[0m\u001b[0;34m.\u001b[0m\u001b[0mfind_element\u001b[0m\u001b[0;34m(\u001b[0m\u001b[0mBy\u001b[0m\u001b[0;34m.\u001b[0m\u001b[0mXPATH\u001b[0m\u001b[0;34m,\u001b[0m \u001b[0;34m'/html/body/div[1]/div/div[2]/div/div/section/div/div/table/tbody/tr/td/form/table/tbody/tr[7]/td/p/input'\u001b[0m\u001b[0;34m)\u001b[0m\u001b[0;34m.\u001b[0m\u001b[0msend_keys\u001b[0m\u001b[0;34m(\u001b[0m\u001b[0;34m'Nguyen'\u001b[0m\u001b[0;34m)\u001b[0m\u001b[0;34m.\u001b[0m\u001b[0mclick\u001b[0m\u001b[0;34m(\u001b[0m\u001b[0;34m)\u001b[0m\u001b[0;34m\u001b[0m\u001b[0;34m\u001b[0m\u001b[0m\n\u001b[0m",
      "\u001b[0;31mAttributeError\u001b[0m: 'NoneType' object has no attribute 'click'"
     ]
    }
   ],
   "source": [
    "# Click on Search By Last Name Element\n",
    "driver.find_element(By.XPATH, '/html/body/div[1]/div/div[2]/div/div/section/div/div/table/tbody/tr/td/form/table/tbody/tr[7]/td/p/input').send_keys('Nguyen').click()"
   ]
  },
  {
   "cell_type": "code",
   "execution_count": 36,
   "metadata": {},
   "outputs": [],
   "source": [
    "# Click on Search By Last Name Element\n",
    "driver.find_element(By.XPATH, '/html/body/div[1]/div/div[2]/div/div/section/div/div/table/tbody/tr/td/form/table/tbody/tr[18]/td/input[1]').click()"
   ]
  },
  {
   "cell_type": "code",
   "execution_count": 37,
   "metadata": {},
   "outputs": [],
   "source": [
    "# 10 is number of times to click on it\n",
    "# time.sleep is lazy way of delaying it.. \n",
    "\n",
    "# for i in range(10):\n",
    "#     driver.find_element(By.CLASS_NAME, \"btnPagination\").click()\n",
    "#     time.sleep(2)"
   ]
  },
  {
   "cell_type": "code",
   "execution_count": null,
   "metadata": {},
   "outputs": [],
   "source": [
    "# driver.find_element(By.ID, \"item115\").click(\n",
    "\n",
    "# table = driver.find_element(By.CLASS_NAME, \"resultsTable\")\n",
    "# table.get_attribute('outerHTML')\n",
    "\n",
    "# # Grab the table's HTML off of the page and feed it to pandas\n",
    "# table = driver.find_element(By.CLASS_NAME, \"resultsTable\")\n",
    "# df = pd.read_html(table.get_attribute('outerHTML'))[0]\n",
    "# df\n",
    "\n",
    "# driver.find_element(By.ID, \"pagination-next\").click()"
   ]
  },
  {
   "cell_type": "code",
   "execution_count": 22,
   "metadata": {},
   "outputs": [
    {
     "name": "stdout",
     "output_type": "stream",
     "text": [
      "Collecting lxml\n",
      "  Downloading lxml-4.6.4-cp310-cp310-macosx_10_14_x86_64.whl (4.5 MB)\n",
      "\u001b[K     |████████████████████████████████| 4.5 MB 4.0 MB/s eta 0:00:01\n",
      "\u001b[?25hInstalling collected packages: lxml\n",
      "Successfully installed lxml-4.6.4\n",
      "\u001b[33mWARNING: You are using pip version 21.2.3; however, version 21.3.1 is available.\n",
      "You should consider upgrading via the '/Users/susanmerriam/.pyenv/versions/3.10.0/bin/python3.10 -m pip install --upgrade pip' command.\u001b[0m\n"
     ]
    }
   ],
   "source": [
    "!pip install lxml"
   ]
  },
  {
   "cell_type": "markdown",
   "metadata": {},
   "source": [
    "## Scraping\n",
    "\n",
    "Once you are on the results page, do this. **I step you through things bit by bit, so it's going to be a little different than we did in class.** Also, no `pd.read_html` allowed because this isn't actual tabular data!\n",
    "\n",
    "> You can use either Selenium by itself or Selenium+BeautifulSoup to scrape the results page. The choice is up to you!"
   ]
  },
  {
   "cell_type": "markdown",
   "metadata": {},
   "source": [
    "### Loop through each result and print the entire row\n",
    "\n",
    "Okay wait, maybe not, i's a heck of a lot of rows. Use `[:10]` to only do the first ten! For example, if you saved the table rows into `results` you might do something like this:\n",
    "\n",
    "```python\n",
    "for result in results[:10]:\n",
    "    print(result)\n",
    "```\n",
    "\n",
    "Although you'd want to print out the text from the row (I give example output below).\n",
    "\n",
    "> *Tip: If you're using Selenium, `By.TAG_NAME` is used if you don't have a class or ID. If you're using BeautifulSoup, just do your normal thing.*"
   ]
  },
  {
   "cell_type": "markdown",
   "metadata": {},
   "source": [
    "The result should look something like this:\n",
    "\n",
    "```\n",
    "Name and Location Order Basis for Order\n",
    "NGUYEN, THANH\n",
    "City: FRISCO\n",
    "County: COLLIN\n",
    "Zip Code: 75034\n",
    "\n",
    "\n",
    "License #: 790672\n",
    "\n",
    "Complaint # COS20210004784 Date: 11/16/2021\n",
    "\n",
    "Respondent is assessed an administrative penalty in the amount of $1,875. Respondent failed to clean and sanitize whirlpool foot spas as required at the end of each day, the Department is charging 2 violations; Respondent operated a cosmetology salon without the appropriate license.\n",
    "NGUYEN, LONG D\n",
    "City: SAN SABA\n",
    "County: SAN SABA\n",
    "Zip Code: 76877\n",
    "```"
   ]
  },
  {
   "cell_type": "code",
   "execution_count": 116,
   "metadata": {},
   "outputs": [
    {
     "name": "stdout",
     "output_type": "stream",
     "text": [
      "Name and Location Order Basis for Order\n",
      "NGUYEN, THANH\n",
      "City: FRISCO\n",
      "County: COLLIN\n",
      "Zip Code: 75034\n",
      "\n",
      "\n",
      "License #: 790672\n",
      "\n",
      "Complaint # COS20210004784 Date: 11/16/2021\n",
      "\n",
      "Respondent is assessed an administrative penalty in the amount of $1,875. Respondent failed to clean and sanitize whirlpool foot spas as required at the end of each day, the Department is charging 2 violations; Respondent operated a cosmetology salon without the appropriate license.\n",
      "NGUYEN, DAI T\n",
      "City: HOUSTON\n",
      "County: Harris\n",
      "Zip Code: 77034\n",
      "\n",
      "\n",
      "License #: 765339\n",
      "\n",
      "Complaint # COS20210005027 Date: 11/16/2021\n",
      "\n",
      "Respondent is assessed an administrative penalty in the amount of $1,500. Respondent failed to follow whirlpool foot spas cleaning and sanitization procedures as required; Respondent failed to keep a record of the date and time of each foot spa daily or bi-weekly cleaning and if the foot spa was not used; Respondent failed to store eyelash extensions in a sealed bag or covered container and kept in a clean dry debris-free storage area.\n",
      "NGUYEN, LONG D\n",
      "City: SAN SABA\n",
      "County: SAN SABA\n",
      "Zip Code: 76877\n",
      "\n",
      "\n",
      "License #(s): 760420, 1620583\n",
      "\n",
      "Complaint # COS20210009745 Date: 11/16/2021\n",
      "\n",
      "Respondent is assessed an administrative penalty in the amount of $1,550. Respondent failed to keep a record of the date and time of each foot spa daily or bi-weekly cleaning and if the foot spa was not used, the Department is charging 2 violations; Respondent failed to clean, disinfect, and sterilize manicure and pedicure implements after each use; Respondent failed to clean and disinfect manicure tables prior to use for each client.\n",
      "NGUYEN, LUCIE HUONG\n",
      "City: UVALDE\n",
      "County: UVALDE\n",
      "Zip Code: 78801\n",
      "\n",
      "\n",
      "License #(s): 762626, 1811788\n",
      "\n",
      "Complaint # COS20210011484 Date: 11/4/2021\n",
      "\n",
      "Respondent is assessed an administrative penalty in the amount of $1,375. Respondent failed to keep a record of the date and time of each foot spa daily or bi-weekly cleaning and if the foot spa was not used; Respondent failed to follow whirlpool foot spas cleaning and sanitization procedures as required; Respondent failed to clean, disinfect, and sterilize manicure and pedicure implements after each use; Respondent failed to clean and disinfect manicure tables prior to use for each client; Respondent failed to keep floors, walls, ceilings, shelves, furniture, furnishings, and fixtures clean and in good repair.\n",
      "NGUYEN, CHINH\n",
      "City: TEMPLE\n",
      "County: BELL\n",
      "Zip Code: 76502\n",
      "\n",
      "\n",
      "License #: 777067\n",
      "\n",
      "Complaint # COS20210011721 Date: 11/1/2021\n",
      "\n",
      "Respondent is assessed an administrative penalty in the amount of $4,225. Respondent failed to follow whirlpool foot spas cleaning and sanitization procedures as required bi-weekly; Respondent failed to keep a record of the date and time of each foot spa daily or bi-weekly cleaning and if the foot spa was not used, the Department is charging 4 violations; Respondent failed to clean and disinfect manicure tables prior to use for each client.\n",
      "NGUYEN, JIMMY\n",
      "City: ROWLETT\n",
      "County: DALLAS\n",
      "Zip Code: 75088\n",
      "\n",
      "\n",
      "License #: 796773\n",
      "\n",
      "Complaint # COS20200007069 Date: 10/13/2021\n",
      "\n",
      "Respondent is assessed an administrative penalty in the amount of $2,200. Respondent failed to clean and sanitize whirlpool foot spas as required at the end of each day; Respondent failed to keep a record of the date and time of each foot spa daily or bi-weekly cleaning and if the foot spa was not used.\n",
      "NGUYEN, NAM\n",
      "City: HOUSTON\n",
      "County: HARRIS\n",
      "Zip Code: 77025\n",
      "\n",
      "\n",
      "License #: 688039\n",
      "\n",
      "Complaint # COS20210010530 Date: 10/13/2021\n",
      "\n",
      "Respondents are assessed an administrative penalty in the amount of $1,875. Respondents failed to follow proper sequential cleaning and disinfecting procedures when using portable whirlpool jets; Respondents failed to clean, disinfect, and sterilize manicure and pedicure implements after each use; Respondents failed to maintain powdered alum, styptic powder, or a cyanoacrylate.\n",
      "NGUYEN, DUC\n",
      "City: ABILENE\n",
      "County: TAYLOR\n",
      "Zip Code: 79605\n",
      "\n",
      "\n",
      "License #: 758793\n",
      "\n",
      "Complaint # COS20200007141 Date: 10/12/2021\n",
      "\n",
      "Respondent is assessed an administrative penalty in the amount of $500. Respondent failed to clean and sanitize whirlpool foot spas as required at the end of each day.\n",
      "NGUYEN, THU THAO THI\n",
      "City: SAN ANTONIO\n",
      "County: BEXAR\n",
      "Zip Code: 78244\n",
      "\n",
      "\n",
      "License #(s): 802892, 1286737\n",
      "\n",
      "Complaint # COS20200000839 Date: 10/11/2021\n",
      "\n",
      "Respondent is assessed an administrative penalty in the amount of $3,800. Respondent performed or attempted to perform a practice of cosmetology with an expired license; Respondent failed to keep a record of the date and time of each foot spa daily or bi-weekly cleaning and if the foot spa was not used; Respondent failed to disinfect multi-use equipment, implements, and tools prior to use on each client; Respondent failed to keep floors, walls, ceilings, shelves, furniture, furnishings, and fixtures clean and in good repair.\n"
     ]
    }
   ],
   "source": [
    "table = driver.find_element(By.XPATH,'/html/body/div/div/div[2]/div[1]/div/section/div/div/table')\n",
    "results = table.find_elements_by_tag_name('tr')\n",
    "\n",
    "for result in results[:10]:\n",
    "    print(result.text)"
   ]
  },
  {
   "cell_type": "code",
   "execution_count": 78,
   "metadata": {},
   "outputs": [],
   "source": [
    "# just the contents inside, use td\n",
    "# results = table.find_elements_by_tag_name('td')"
   ]
  },
  {
   "cell_type": "code",
   "execution_count": 67,
   "metadata": {},
   "outputs": [],
   "source": [
    "# # for multiple tables on the page, grab table by id\n",
    "# table = driver.find_element(By.XPATH,'/html/body/div/div/div[2]/div[1]/div/section/div/div/table')\n",
    "# rows = table.find_elements_by_tag_name('tr')\n",
    "\n",
    "# list = []\n",
    "# for row in rows[:10]:\n",
    "#     # Find all of the tds inside of THAT ONE ROW\n",
    "#     cells = row.find_elements_by_tag_name('td')\n",
    "    \n",
    "#     # Start with an empty dictionary\n",
    "# #     dict = {}\n",
    "      \n",
    "#     print(cells[0].text)\n",
    "#     print(cells[1].text)\n",
    "#     print(cells[2].text)\n",
    "    \n",
    "#     # Print out the first one, the second one, the third one\n",
    "# #     list['title'] = cells[0].text\n",
    "# #     list['subhead'] = cells[1].text\n",
    "# #     list['byline'] = cells[2].text\n",
    "    \n",
    "#     # append list with elements of book3 dictionary    \n",
    "# #     list.append(dict)\n",
    "\n",
    "# # Print it out\n",
    "# # print(result)\n"
   ]
  },
  {
   "cell_type": "code",
   "execution_count": 51,
   "metadata": {},
   "outputs": [],
   "source": [
    "# # for multiple tables on the page, grab table by id\n",
    "# table = driver.find_element(By.XPATH,'/html/body/div/div/div[2]/div[1]/div/section/div/div/table' )\n",
    "# rows = table.find_elements_by_tag_name('tr')\n",
    "\n",
    "# list = []\n",
    "# for row in rows[:10]:\n",
    "#   # Find all of the tds inside of THAT ONE ROW\n",
    "#     cells6 = row.find_elements_by_tag_name('td')\n",
    "    \n",
    "#     # Start with an empty dictionary\n",
    "#     dict = {}\n",
    "  \n",
    "#     # Print out the first one, the second one, the third one\n",
    "#     list['title'] = cells6[0].text\n",
    "#     list['subhead'] = cells6[1].text\n",
    "#     list['byline'] = cells6[2].text\n",
    "    \n",
    "#     # append list with elements of book3 dictionary    \n",
    "#     list.append(dict)\n",
    "\n",
    "# # Print it out\n",
    "# print(books)"
   ]
  },
  {
   "cell_type": "code",
   "execution_count": 53,
   "metadata": {},
   "outputs": [],
   "source": [
    "# for result in results[:10]:\n",
    "#     print(result)"
   ]
  },
  {
   "cell_type": "markdown",
   "metadata": {},
   "source": [
    "### Loop through each result and print each person's name\n",
    "\n",
    "You'll get an error because the first one doesn't have a name. How do you make that not happen?! If you want to ignore an error, you use code like this:\n",
    "\n",
    "```python\n",
    "try:\n",
    "   # try to do something\n",
    "except:\n",
    "   print(\"It didn't work')\n",
    "```\n",
    "\n",
    "It should help you out. If you don't want to print anything when there's an error, you can type `pass` instead of the `print` statement.\n",
    "\n",
    "**Why doesn't the first one have a name?**\n",
    "\n",
    "Output should look like this:\n",
    "\n",
    "```\n",
    "Doesn't have a name\n",
    "NGUYEN, THANH\n",
    "NGUYEN, LONG D\n",
    "NGUYEN, LUCIE HUONG\n",
    "NGUYEN, CHINH\n",
    "NGUYEN, JIMMY\n",
    "```\n",
    "\n",
    "* *Tip: The name has a class you can use. The class name is reused in a lot of places, but because it's the first one you don't have to worry about that!*\n",
    "* *Tip: Instead of searching across the entire page – `driver.find_element` or `doc.select_one` – you should be doing your searching just inside of each **row** (I used this technique in the beginning of class with BeautifulSoup when we were scraping the books page)* "
   ]
  },
  {
   "cell_type": "code",
   "execution_count": null,
   "metadata": {},
   "outputs": [],
   "source": [
    "# try:\n",
    "#   print(x)\n",
    "# except NameError:\n",
    "#   print(\"Variable x is not defined\")\n",
    "# except:\n",
    "#   print(\"Something else went wrong\")\n",
    "\n",
    "# source: https://www.w3schools.com/python/python_try_except.asp"
   ]
  },
  {
   "cell_type": "code",
   "execution_count": 121,
   "metadata": {},
   "outputs": [
    {
     "name": "stdout",
     "output_type": "stream",
     "text": [
      "NGUYEN, KIM NGAN THI\n"
     ]
    }
   ],
   "source": [
    "table2 = driver.find_element(By.XPATH,'/html/body/div/div/div[2]/div[1]/div/section/div/div/table')\n",
    "results2 = table2.find_elements_by_tag_name('tr')\n",
    "\n",
    "for result in results2[5:]:\n",
    "   # try to do something\n",
    "    try:\n",
    "        cell = result.find_element(By.TAG_NAME, 'td').find_element(By.TAG_NAME, 'span')\n",
    "    \n",
    "    except:\n",
    "        print(\"Doesn't have a name\").text\n",
    "        \n",
    "    \n",
    "print(cell.text)"
   ]
  },
  {
   "cell_type": "code",
   "execution_count": 127,
   "metadata": {},
   "outputs": [
    {
     "name": "stdout",
     "output_type": "stream",
     "text": [
      "Doesn't have a name\n"
     ]
    },
    {
     "ename": "AttributeError",
     "evalue": "'NoneType' object has no attribute 'text'",
     "output_type": "error",
     "traceback": [
      "\u001b[0;31m---------------------------------------------------------------------------\u001b[0m",
      "\u001b[0;31mNoSuchElementException\u001b[0m                    Traceback (most recent call last)",
      "\u001b[0;32m/var/folders/8t/1rrw8b2x05595s5gystxsg3m0000gn/T/ipykernel_61759/424934425.py\u001b[0m in \u001b[0;36m<module>\u001b[0;34m\u001b[0m\n\u001b[1;32m      6\u001b[0m     \u001b[0;32mtry\u001b[0m\u001b[0;34m:\u001b[0m\u001b[0;34m\u001b[0m\u001b[0;34m\u001b[0m\u001b[0m\n\u001b[0;32m----> 7\u001b[0;31m         \u001b[0mcell\u001b[0m \u001b[0;34m=\u001b[0m \u001b[0mresult\u001b[0m\u001b[0;34m.\u001b[0m\u001b[0mfind_element\u001b[0m\u001b[0;34m(\u001b[0m\u001b[0mBy\u001b[0m\u001b[0;34m.\u001b[0m\u001b[0mTAG_NAME\u001b[0m\u001b[0;34m,\u001b[0m \u001b[0;34m'td'\u001b[0m\u001b[0;34m)\u001b[0m\u001b[0;34m.\u001b[0m\u001b[0mfind_element\u001b[0m\u001b[0;34m(\u001b[0m\u001b[0mBy\u001b[0m\u001b[0;34m.\u001b[0m\u001b[0mTAG_NAME\u001b[0m\u001b[0;34m,\u001b[0m \u001b[0;34m'span'\u001b[0m\u001b[0;34m)\u001b[0m\u001b[0;34m\u001b[0m\u001b[0;34m\u001b[0m\u001b[0m\n\u001b[0m\u001b[1;32m      8\u001b[0m         \u001b[0mprint\u001b[0m\u001b[0;34m(\u001b[0m\u001b[0mcell\u001b[0m\u001b[0;34m.\u001b[0m\u001b[0mtext\u001b[0m\u001b[0;34m)\u001b[0m\u001b[0;34m\u001b[0m\u001b[0;34m\u001b[0m\u001b[0m\n",
      "\u001b[0;32m~/.pyenv/versions/3.10.0/lib/python3.10/site-packages/selenium/webdriver/remote/webelement.py\u001b[0m in \u001b[0;36mfind_element\u001b[0;34m(self, by, value)\u001b[0m\n\u001b[1;32m    734\u001b[0m \u001b[0;34m\u001b[0m\u001b[0m\n\u001b[0;32m--> 735\u001b[0;31m         return self._execute(Command.FIND_CHILD_ELEMENT,\n\u001b[0m\u001b[1;32m    736\u001b[0m                              {\"using\": by, \"value\": value})['value']\n",
      "\u001b[0;32m~/.pyenv/versions/3.10.0/lib/python3.10/site-packages/selenium/webdriver/remote/webelement.py\u001b[0m in \u001b[0;36m_execute\u001b[0;34m(self, command, params)\u001b[0m\n\u001b[1;32m    709\u001b[0m         \u001b[0mparams\u001b[0m\u001b[0;34m[\u001b[0m\u001b[0;34m'id'\u001b[0m\u001b[0;34m]\u001b[0m \u001b[0;34m=\u001b[0m \u001b[0mself\u001b[0m\u001b[0;34m.\u001b[0m\u001b[0m_id\u001b[0m\u001b[0;34m\u001b[0m\u001b[0;34m\u001b[0m\u001b[0m\n\u001b[0;32m--> 710\u001b[0;31m         \u001b[0;32mreturn\u001b[0m \u001b[0mself\u001b[0m\u001b[0;34m.\u001b[0m\u001b[0m_parent\u001b[0m\u001b[0;34m.\u001b[0m\u001b[0mexecute\u001b[0m\u001b[0;34m(\u001b[0m\u001b[0mcommand\u001b[0m\u001b[0;34m,\u001b[0m \u001b[0mparams\u001b[0m\u001b[0;34m)\u001b[0m\u001b[0;34m\u001b[0m\u001b[0;34m\u001b[0m\u001b[0m\n\u001b[0m\u001b[1;32m    711\u001b[0m \u001b[0;34m\u001b[0m\u001b[0m\n",
      "\u001b[0;32m~/.pyenv/versions/3.10.0/lib/python3.10/site-packages/selenium/webdriver/remote/webdriver.py\u001b[0m in \u001b[0;36mexecute\u001b[0;34m(self, driver_command, params)\u001b[0m\n\u001b[1;32m    423\u001b[0m         \u001b[0;32mif\u001b[0m \u001b[0mresponse\u001b[0m\u001b[0;34m:\u001b[0m\u001b[0;34m\u001b[0m\u001b[0;34m\u001b[0m\u001b[0m\n\u001b[0;32m--> 424\u001b[0;31m             \u001b[0mself\u001b[0m\u001b[0;34m.\u001b[0m\u001b[0merror_handler\u001b[0m\u001b[0;34m.\u001b[0m\u001b[0mcheck_response\u001b[0m\u001b[0;34m(\u001b[0m\u001b[0mresponse\u001b[0m\u001b[0;34m)\u001b[0m\u001b[0;34m\u001b[0m\u001b[0;34m\u001b[0m\u001b[0m\n\u001b[0m\u001b[1;32m    425\u001b[0m             response['value'] = self._unwrap_value(\n",
      "\u001b[0;32m~/.pyenv/versions/3.10.0/lib/python3.10/site-packages/selenium/webdriver/remote/errorhandler.py\u001b[0m in \u001b[0;36mcheck_response\u001b[0;34m(self, response)\u001b[0m\n\u001b[1;32m    246\u001b[0m             \u001b[0;32mraise\u001b[0m \u001b[0mexception_class\u001b[0m\u001b[0;34m(\u001b[0m\u001b[0mmessage\u001b[0m\u001b[0;34m,\u001b[0m \u001b[0mscreen\u001b[0m\u001b[0;34m,\u001b[0m \u001b[0mstacktrace\u001b[0m\u001b[0;34m,\u001b[0m \u001b[0malert_text\u001b[0m\u001b[0;34m)\u001b[0m  \u001b[0;31m# type: ignore[call-arg]  # mypy is not smart enough here\u001b[0m\u001b[0;34m\u001b[0m\u001b[0;34m\u001b[0m\u001b[0m\n\u001b[0;32m--> 247\u001b[0;31m         \u001b[0;32mraise\u001b[0m \u001b[0mexception_class\u001b[0m\u001b[0;34m(\u001b[0m\u001b[0mmessage\u001b[0m\u001b[0;34m,\u001b[0m \u001b[0mscreen\u001b[0m\u001b[0;34m,\u001b[0m \u001b[0mstacktrace\u001b[0m\u001b[0;34m)\u001b[0m\u001b[0;34m\u001b[0m\u001b[0;34m\u001b[0m\u001b[0m\n\u001b[0m\u001b[1;32m    248\u001b[0m \u001b[0;34m\u001b[0m\u001b[0m\n",
      "\u001b[0;31mNoSuchElementException\u001b[0m: Message: no such element: Unable to locate element: {\"method\":\"css selector\",\"selector\":\"td\"}\n  (Session info: chrome=96.0.4664.55)\nStacktrace:\n0   chromedriver                        0x000000010d7df269 __gxx_personality_v0 + 582729\n1   chromedriver                        0x000000010d76ac33 __gxx_personality_v0 + 106003\n2   chromedriver                        0x000000010d327e28 chromedriver + 171560\n3   chromedriver                        0x000000010d35d3d2 chromedriver + 390098\n4   chromedriver                        0x000000010d35d591 chromedriver + 390545\n5   chromedriver                        0x000000010d351ff7 chromedriver + 344055\n6   chromedriver                        0x000000010d37a9ad chromedriver + 510381\n7   chromedriver                        0x000000010d351f45 chromedriver + 343877\n8   chromedriver                        0x000000010d37ac7e chromedriver + 511102\n9   chromedriver                        0x000000010d38d462 chromedriver + 586850\n10  chromedriver                        0x000000010d37ac23 chromedriver + 511011\n11  chromedriver                        0x000000010d35075e chromedriver + 337758\n12  chromedriver                        0x000000010d351a95 chromedriver + 342677\n13  chromedriver                        0x000000010d79b8ab __gxx_personality_v0 + 305803\n14  chromedriver                        0x000000010d7b2863 __gxx_personality_v0 + 399939\n15  chromedriver                        0x000000010d7b7c7f __gxx_personality_v0 + 421471\n16  chromedriver                        0x000000010d7b3bba __gxx_personality_v0 + 404890\n17  chromedriver                        0x000000010d78fe51 __gxx_personality_v0 + 258097\n18  chromedriver                        0x000000010d7cf158 __gxx_personality_v0 + 516920\n19  chromedriver                        0x000000010d7cf2e1 __gxx_personality_v0 + 517313\n20  chromedriver                        0x000000010d7e66f8 __gxx_personality_v0 + 612568\n21  libsystem_pthread.dylib             0x00007fff2036b8fc _pthread_start + 224\n22  libsystem_pthread.dylib             0x00007fff20367443 thread_start + 15\n",
      "\nDuring handling of the above exception, another exception occurred:\n",
      "\u001b[0;31mAttributeError\u001b[0m                            Traceback (most recent call last)",
      "\u001b[0;32m/var/folders/8t/1rrw8b2x05595s5gystxsg3m0000gn/T/ipykernel_61759/424934425.py\u001b[0m in \u001b[0;36m<module>\u001b[0;34m\u001b[0m\n\u001b[1;32m      8\u001b[0m         \u001b[0mprint\u001b[0m\u001b[0;34m(\u001b[0m\u001b[0mcell\u001b[0m\u001b[0;34m.\u001b[0m\u001b[0mtext\u001b[0m\u001b[0;34m)\u001b[0m\u001b[0;34m\u001b[0m\u001b[0;34m\u001b[0m\u001b[0m\n\u001b[1;32m      9\u001b[0m     \u001b[0;32mexcept\u001b[0m\u001b[0;34m:\u001b[0m\u001b[0;34m\u001b[0m\u001b[0;34m\u001b[0m\u001b[0m\n\u001b[0;32m---> 10\u001b[0;31m         \u001b[0mprint\u001b[0m\u001b[0;34m(\u001b[0m\u001b[0;34m\"Doesn't have a name\"\u001b[0m\u001b[0;34m)\u001b[0m\u001b[0;34m.\u001b[0m\u001b[0mtext\u001b[0m\u001b[0;34m\u001b[0m\u001b[0;34m\u001b[0m\u001b[0m\n\u001b[0m\u001b[1;32m     11\u001b[0m \u001b[0;34m\u001b[0m\u001b[0m\n\u001b[1;32m     12\u001b[0m \u001b[0;34m\u001b[0m\u001b[0m\n",
      "\u001b[0;31mAttributeError\u001b[0m: 'NoneType' object has no attribute 'text'"
     ]
    }
   ],
   "source": [
    "table2 = driver.find_element(By.XPATH,'/html/body/div/div/div[2]/div[1]/div/section/div/div/table')\n",
    "results2 = table2.find_elements_by_tag_name('tr')\n",
    "\n",
    "for result in results2[:10]:\n",
    "   # try to do something\n",
    "    try:\n",
    "        cell = result.find_element(By.TAG_NAME, 'td').find_element(By.TAG_NAME, 'span')\n",
    "#         print(cell.text)\n",
    "    except:\n",
    "        print(\"Doesn't have a name\").text\n",
    "        \n",
    "    \n",
    "print(cell.text)"
   ]
  },
  {
   "cell_type": "code",
   "execution_count": 128,
   "metadata": {},
   "outputs": [],
   "source": [
    "# table2 = driver.find_element(By.XPATH,'/html/body/div/div/div[2]/div[1]/div/section/div/div/table')\n",
    "# results2 = table2.find_elements_by_tag_name('tr').find_element(By.TAG_NAME, 'span')\n",
    "\n",
    "# for result in results2[:10]:\n",
    "#     try:\n",
    "#         print(result.text)\n",
    "#    # try to do something\n",
    "#     except:\n",
    "#        print(\"a')\n",
    "    \n",
    "# #     print(result.text)"
   ]
  },
  {
   "cell_type": "code",
   "execution_count": null,
   "metadata": {},
   "outputs": [],
   "source": []
  },
  {
   "cell_type": "code",
   "execution_count": null,
   "metadata": {},
   "outputs": [],
   "source": []
  },
  {
   "cell_type": "markdown",
   "metadata": {},
   "source": [
    "## Loop through each result, printing each violation description (\"Basis for order\")\n",
    "\n",
    "Your results should look something like:\n",
    "\n",
    "```\n",
    "Doesn't have a violation\n",
    "Respondent failed to clean and sanitize whirlpool foot spas as required at the end of each day, the Department is charging 2 violations; Respondent operated a cosmetology salon without the appropriate license.\n",
    "Respondent failed to keep a record of the date and time of each foot spa daily or bi-weekly cleaning and if the foot spa was not used, the Department is charging 2 violations; Respondent failed to clean, disinfect, and sterilize manicure and pedicure implements after each use; Respondent failed to clean and disinfect manicure tables prior to use for each client.\n",
    "...\n",
    "```\n",
    "\n",
    "> - *Tip: You'll get an error even if you're ALMOST right - which row is causing the problem?*\n",
    "> - *Tip: If you're using Selenium by itself, you can get the HTML of something by doing `.get_attribute('innerHTML')` – that way it'll look like BeautifulSoup when you print it. It might help you diagnose your issue!*\n",
    "> - *Tip: Or I guess you could just skip the one with the problem...*"
   ]
  },
  {
   "cell_type": "code",
   "execution_count": null,
   "metadata": {},
   "outputs": [],
   "source": []
  },
  {
   "cell_type": "markdown",
   "metadata": {},
   "source": [
    "## Loop through each result, printing the complaint number\n",
    "\n",
    "Output should look like this:\n",
    "\n",
    "```\n",
    "Doesn't have a complaint number\n",
    "COS20210004784\n",
    "COS20210009745\n",
    "COS20210011484\n",
    "...\n",
    "```\n",
    "\n",
    "- *Tip: Think about the order of the elements. Can you count from the opposite direction than you normally do?*"
   ]
  },
  {
   "cell_type": "code",
   "execution_count": null,
   "metadata": {},
   "outputs": [],
   "source": []
  },
  {
   "cell_type": "markdown",
   "metadata": {},
   "source": [
    "## Saving the results\n",
    "\n",
    "### Loop through each result to create a list of dictionaries\n",
    "\n",
    "Each dictionary must contain\n",
    "\n",
    "- Person's name\n",
    "- Violation description\n",
    "- Violation number\n",
    "- License Numbers\n",
    "- Zip Code\n",
    "- County\n",
    "- City\n",
    "\n",
    "Create a new dictionary for each result (except the header).\n",
    "\n",
    "Based on what you print out, the output might look something like:\n",
    "\n",
    "```\n",
    "This row is broken: Name and Location Order Basis for Order\n",
    "{'name': 'NGUYEN, THANH', 'city': 'FRISCO', 'county': 'COLLIN', 'zip_code': '75034', 'complaint_no': 'COS20210004784', 'license_numbers': '790672', 'complaint': 'Respondent failed to clean and sanitize whirlpool foot spas as required at the end of each day, the Department is charging 2 violations; Respondent operated a cosmetology salon without the appropriate license.'}\n",
    "{'name': 'NGUYEN, LONG D', 'city': 'SAN SABA', 'county': 'SAN SABA', 'zip_code': '76877', 'complaint_no': 'COS20210009745', 'license_numbers': '760420, 1620583', 'complaint': 'Respondent failed to keep a record of the date and time of each foot spa daily or bi-weekly cleaning and if the foot spa was not used, the Department is charging 2 violations; Respondent failed to clean, disinfect, and sterilize manicure and pedicure implements after each use; Respondent failed to clean and disinfect manicure tables prior to use for each client.'}\n",
    "```\n",
    "\n",
    "> *Tip: If you want to ask for the \"next sibling,\" you can't use `find_next_sibling` in Selenium, you need to use `element.find_element_by_xpath(\"following-sibling::div\")` to find the next div, or `element.find_element_by_xpath(\"following-sibling::*\")` to find the next anything."
   ]
  },
  {
   "cell_type": "code",
   "execution_count": null,
   "metadata": {},
   "outputs": [],
   "source": []
  },
  {
   "cell_type": "markdown",
   "metadata": {},
   "source": [
    "### Save that to a CSV named `output.csv`\n",
    "\n",
    "The dataframe should look something like...\n",
    "\n",
    "|index|name|city|county|zip_code|complaint_no|license_numbers|complaint|\n",
    "|---|---|---|---|---|---|---|---|\n",
    "|0|NGUYEN, THANH|FRISCO|COLLIN|75034|COS20210004784|790672|Respondent failed to clean and sanitize whirlp...|\n",
    "|1|NGUYEN, LONG D|SAN SABA|SAN SABA|76877|COS20210009745|760420, 1620583|Respondent failed to keep a record of the date...|\n",
    "\n",
    "\n",
    "- *Tip: If you send a list of dictionaries to `pd.DataFrame(...)`, it will create a dataframe out of that list!*"
   ]
  },
  {
   "cell_type": "code",
   "execution_count": null,
   "metadata": {},
   "outputs": [],
   "source": [
    "# Use index=False to prevent the 'extra' number column\n",
    "df.to_csv(\"output.csv\", index=False)"
   ]
  },
  {
   "cell_type": "code",
   "execution_count": null,
   "metadata": {},
   "outputs": [],
   "source": []
  },
  {
   "cell_type": "markdown",
   "metadata": {},
   "source": [
    "### Open the CSV file and examine the first few. Make sure you didn't save an extra weird unnamed column."
   ]
  },
  {
   "cell_type": "code",
   "execution_count": null,
   "metadata": {},
   "outputs": [],
   "source": []
  },
  {
   "cell_type": "code",
   "execution_count": null,
   "metadata": {},
   "outputs": [],
   "source": []
  },
  {
   "cell_type": "code",
   "execution_count": null,
   "metadata": {},
   "outputs": [],
   "source": []
  },
  {
   "cell_type": "markdown",
   "metadata": {},
   "source": [
    "Other code"
   ]
  },
  {
   "cell_type": "code",
   "execution_count": 65,
   "metadata": {},
   "outputs": [],
   "source": [
    "# table = driver.find_element(By.CLASS_NAME, \"main-content\")\n",
    "# table.get_attribute('outerHTML')"
   ]
  }
 ],
 "metadata": {
  "kernelspec": {
   "display_name": "Python 3 (ipykernel)",
   "language": "python",
   "name": "python3"
  },
  "language_info": {
   "codemirror_mode": {
    "name": "ipython",
    "version": 3
   },
   "file_extension": ".py",
   "mimetype": "text/x-python",
   "name": "python",
   "nbconvert_exporter": "python",
   "pygments_lexer": "ipython3",
   "version": "3.10.0"
  }
 },
 "nbformat": 4,
 "nbformat_minor": 2
}
